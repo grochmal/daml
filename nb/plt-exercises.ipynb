{
 "cells": [
  {
   "cell_type": "markdown",
   "metadata": {},
   "source": [
    "# 03.04 Matplotlib Exercises\n",
    "\n",
    "Exercises rating:\n",
    "\n",
    "★☆☆ - You should be able to do it based on Python knowledge plus the text.\n",
    "\n",
    "★★☆ - You will need to do extra thinking and some extra reading/searching.\n",
    "\n",
    "★★★ - The answer is difficult to find by a simple search,\n",
    "      requires you to do a considerable amount of extra work by yourself\n",
    "      (feel free to ignore these exercises if you're short on time)."
   ]
  },
  {
   "cell_type": "markdown",
   "metadata": {},
   "source": [
    "Let's first import and configure `matplotlib` with sensible defaults:"
   ]
  },
  {
   "cell_type": "code",
   "execution_count": null,
   "metadata": {},
   "outputs": [],
   "source": [
    "import matplotlib.pyplot as plt  # noqa: F401\n",
    "import numpy as np"
   ]
  },
  {
   "cell_type": "markdown",
   "metadata": {},
   "source": [
    "#### 1. Create subplots. (★☆☆)\n",
    "\n",
    "Create six plots in the same figure,\n",
    "using a two column and three column configuration.\n",
    "Plot `np.sin(x)` and `np.cos(x)` or any custom function in these plots. \n",
    "\n",
    "Please do the same exercise for the MATLAB (`plt`)\n",
    "interface and for the Pythonic (`ax`) interface."
   ]
  },
  {
   "cell_type": "code",
   "execution_count": null,
   "metadata": {},
   "outputs": [],
   "source": []
  },
  {
   "cell_type": "code",
   "execution_count": null,
   "metadata": {},
   "outputs": [],
   "source": []
  },
  {
   "cell_type": "markdown",
   "metadata": {},
   "source": [
    "#### 2. Plot on the same figure. (★☆☆)\n",
    "\n",
    "Create four plots in the same figure, for *any* four **custom functions** $f()$.\n",
    "Your $x$ should have at least 10000 samples.\n",
    "The plots should be correctly labeled and have the appropriate limits for easy viewing.\n",
    "\n",
    "Please do the same exercise for the MATLAB (`plt`)\n",
    "interface and for the Pythonic (`ax`) interface"
   ]
  },
  {
   "cell_type": "code",
   "execution_count": null,
   "metadata": {},
   "outputs": [],
   "source": []
  },
  {
   "cell_type": "code",
   "execution_count": null,
   "metadata": {},
   "outputs": [],
   "source": []
  },
  {
   "cell_type": "markdown",
   "metadata": {},
   "source": [
    "#### 3. Scatter plot. (★★☆)\n",
    "\n",
    "Using the digits dataset from `sklearn`,\n",
    "plot four dimensions at random, in the same manner we did for the iris dataset."
   ]
  },
  {
   "cell_type": "code",
   "execution_count": null,
   "metadata": {},
   "outputs": [],
   "source": [
    "from sklearn.datasets import load_digits\n",
    "\n",
    "digits = load_digits()\n",
    "print(digits[\"DESCR\"])"
   ]
  },
  {
   "cell_type": "code",
   "execution_count": null,
   "metadata": {},
   "outputs": [],
   "source": []
  },
  {
   "cell_type": "markdown",
   "metadata": {},
   "source": [
    "#### 4. Plot a saddle. (★★☆)\n",
    "\n",
    "Plot the typical saddle function:\n",
    "\n",
    "$$\n",
    "z = x^2 - y^2\n",
    "$$\n",
    "\n",
    "in a three dimensional plot."
   ]
  },
  {
   "cell_type": "code",
   "execution_count": null,
   "metadata": {},
   "outputs": [],
   "source": []
  },
  {
   "cell_type": "markdown",
   "metadata": {},
   "source": [
    "#### 5. Fill areas. (★★☆)\n",
    "\n",
    "Using the following example data,\n",
    "please use `fill_between` to fill regions between these lines in different combinations.\n",
    "Fill between `y1` and `y2`, between `y2` and `y3`, and between `y1` and `y3`.\n",
    "For each area use a different color and use a good alpha (by trial and errors)\n",
    "to make all areas visible."
   ]
  },
  {
   "cell_type": "code",
   "execution_count": null,
   "metadata": {},
   "outputs": [],
   "source": [
    "x = np.linspace(0, 3, 200)\n",
    "y1 = x**2 + 3\n",
    "y2 = np.exp(x) + 2\n",
    "y3 = np.cos(x)"
   ]
  },
  {
   "cell_type": "code",
   "execution_count": null,
   "metadata": {},
   "outputs": [],
   "source": []
  },
  {
   "cell_type": "markdown",
   "metadata": {},
   "source": [
    "#### 6. Plot normal distributions. (★☆☆)\n",
    "\n",
    "Using `np.random.normal` with different centers and std,\n",
    "please plot (on the same plot),\n",
    "10 different distributions.\n",
    "Each distribution should have at least 2048 samples and you should use 100 bins for that.\n",
    "(Make it look appealing visually: a good choice is to select a small range of centres\n",
    "and a small range of standard deviations, and use a low `alpha=` parameter.)"
   ]
  },
  {
   "cell_type": "code",
   "execution_count": null,
   "metadata": {},
   "outputs": [],
   "source": []
  }
 ],
 "metadata": {
  "kernelspec": {
   "display_name": ".venv",
   "language": "python",
   "name": "python3"
  },
  "language_info": {
   "codemirror_mode": {
    "name": "ipython",
    "version": 3
   },
   "file_extension": ".py",
   "mimetype": "text/x-python",
   "name": "python",
   "nbconvert_exporter": "python",
   "pygments_lexer": "ipython3",
   "version": "3.10.14"
  }
 },
 "nbformat": 4,
 "nbformat_minor": 4
}
