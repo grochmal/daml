{
 "cells": [
  {
   "cell_type": "markdown",
   "metadata": {},
   "source": [
    "# Machine Learning Introduction - Naive Bayes\n",
    "\n",
    "Machine Learning deals only with numeric data\n",
    "but not all data in the world is numeric.\n",
    "Two examples of non-numerical data that is meaningful for learning about data are:\n",
    "categorical features and plain text (e.g. product reviews).\n",
    "There are tricks that allow us to deal with non-numerical data,\n",
    "these tricks are part of *feature engineering*.\n",
    "\n",
    "For a start let's import a handful of things."
   ]
  },
  {
   "cell_type": "code",
   "execution_count": null,
   "metadata": {
    "collapsed": true
   },
   "outputs": [],
   "source": [
    "import numpy as np\n",
    "import pandas as pd\n",
    "import matplotlib.pyplot as plt"
   ]
  },
  {
   "cell_type": "markdown",
   "metadata": {},
   "source": [
    "## Feature Engineering\n",
    "\n",
    "Dealing with non-numerical data is only a part of feature engineering,\n",
    "although is often the most common application that is called by this name.\n",
    "Actually feature engineering is not a collection of techniques\n",
    "but a generic name to define tasks performed around input data to our model.\n",
    "These include:\n",
    "\n",
    "- Modifying existing features - e.g. scaling\n",
    "- Selecting only a subset of features - e.g. removing highly correlated features\n",
    "- Building new features from existing ones - e.g. squaring features to get only positive values\n",
    "- Encoding features in a different representation - e.g. one-hot-encoding\n",
    "- Learning new features from data - e.g. huge neural networks fed with lots of data\n",
    "\n",
    "The last example requires really huge amounts of data,\n",
    "hundreds of millions of samples."
   ]
  },
  {
   "cell_type": "markdown",
   "metadata": {},
   "source": [
    "## Categorical Data\n",
    "\n",
    "When we deal with the proper names of things or people we are most often dealing\n",
    "with categorical data.  One example of such would be:"
   ]
  },
  {
   "cell_type": "code",
   "execution_count": null,
   "metadata": {},
   "outputs": [
    {
     "data": {
      "text/html": [
       "<div>\n",
       "<style scoped>\n",
       "    .dataframe tbody tr th:only-of-type {\n",
       "        vertical-align: middle;\n",
       "    }\n",
       "\n",
       "    .dataframe tbody tr th {\n",
       "        vertical-align: top;\n",
       "    }\n",
       "\n",
       "    .dataframe thead th {\n",
       "        text-align: right;\n",
       "    }\n",
       "</style>\n",
       "<table border=\"1\" class=\"dataframe\">\n",
       "  <thead>\n",
       "    <tr style=\"text-align: right;\">\n",
       "      <th></th>\n",
       "      <th>city</th>\n",
       "      <th>country</th>\n",
       "      <th>population</th>\n",
       "    </tr>\n",
       "  </thead>\n",
       "  <tbody>\n",
       "    <tr>\n",
       "      <th>0</th>\n",
       "      <td>Hull</td>\n",
       "      <td>England</td>\n",
       "      <td>284321</td>\n",
       "    </tr>\n",
       "    <tr>\n",
       "      <th>1</th>\n",
       "      <td>Glasgow</td>\n",
       "      <td>Scotland</td>\n",
       "      <td>598830</td>\n",
       "    </tr>\n",
       "    <tr>\n",
       "      <th>2</th>\n",
       "      <td>Cardiff</td>\n",
       "      <td>Wales</td>\n",
       "      <td>335145</td>\n",
       "    </tr>\n",
       "    <tr>\n",
       "      <th>3</th>\n",
       "      <td>London</td>\n",
       "      <td>England</td>\n",
       "      <td>8136000</td>\n",
       "    </tr>\n",
       "    <tr>\n",
       "      <th>4</th>\n",
       "      <td>Exeter</td>\n",
       "      <td>England</td>\n",
       "      <td>127300</td>\n",
       "    </tr>\n",
       "  </tbody>\n",
       "</table>\n",
       "</div>"
      ],
      "text/plain": [
       "      city   country  population\n",
       "0     Hull   England      284321\n",
       "1  Glasgow  Scotland      598830\n",
       "2  Cardiff     Wales      335145\n",
       "3   London   England     8136000\n",
       "4   Exeter   England      127300"
      ]
     },
     "execution_count": 2,
     "metadata": {},
     "output_type": "execute_result"
    }
   ],
   "source": [
    "country = [\"England\", \"Scotland\", \"Wales\", \"England\", \"England\"]\n",
    "city = [\"Hull\", \"Glasgow\", \"Cardiff\", \"London\", \"Exeter\"]\n",
    "population2011 = np.array([284321, 598830, 335145, 8136000, 127300])\n",
    "data = pd.DataFrame(\n",
    "    {\n",
    "        \"country\": country,\n",
    "        \"city\": city,\n",
    "        \"population\": population2011,\n",
    "    }\n",
    ")\n",
    "data.country = data.country.astype(\"category\")\n",
    "data.city = data.city.astype(\"category\")\n",
    "data"
   ]
  },
  {
   "cell_type": "markdown",
   "metadata": {},
   "source": [
    "Note that we forced the country to have a categorical type.\n",
    "In `pandas` that is a way of assigning numbers to a column,\n",
    "these numbers then reference a set of categorical labels.\n",
    "\n",
    "This also means that the data now is completely numerical.\n",
    "i.e. we can do this:"
   ]
  },
  {
   "cell_type": "code",
   "execution_count": null,
   "metadata": {},
   "outputs": [
    {
     "data": {
      "text/html": [
       "<div>\n",
       "<style scoped>\n",
       "    .dataframe tbody tr th:only-of-type {\n",
       "        vertical-align: middle;\n",
       "    }\n",
       "\n",
       "    .dataframe tbody tr th {\n",
       "        vertical-align: top;\n",
       "    }\n",
       "\n",
       "    .dataframe thead th {\n",
       "        text-align: right;\n",
       "    }\n",
       "</style>\n",
       "<table border=\"1\" class=\"dataframe\">\n",
       "  <thead>\n",
       "    <tr style=\"text-align: right;\">\n",
       "      <th></th>\n",
       "      <th>city</th>\n",
       "      <th>country</th>\n",
       "      <th>population</th>\n",
       "    </tr>\n",
       "  </thead>\n",
       "  <tbody>\n",
       "    <tr>\n",
       "      <th>0</th>\n",
       "      <td>3</td>\n",
       "      <td>0</td>\n",
       "      <td>284321</td>\n",
       "    </tr>\n",
       "    <tr>\n",
       "      <th>1</th>\n",
       "      <td>2</td>\n",
       "      <td>1</td>\n",
       "      <td>598830</td>\n",
       "    </tr>\n",
       "    <tr>\n",
       "      <th>2</th>\n",
       "      <td>0</td>\n",
       "      <td>2</td>\n",
       "      <td>335145</td>\n",
       "    </tr>\n",
       "    <tr>\n",
       "      <th>3</th>\n",
       "      <td>4</td>\n",
       "      <td>0</td>\n",
       "      <td>8136000</td>\n",
       "    </tr>\n",
       "    <tr>\n",
       "      <th>4</th>\n",
       "      <td>1</td>\n",
       "      <td>0</td>\n",
       "      <td>127300</td>\n",
       "    </tr>\n",
       "  </tbody>\n",
       "</table>\n",
       "</div>"
      ],
      "text/plain": [
       "   city  country  population\n",
       "0     3        0      284321\n",
       "1     2        1      598830\n",
       "2     0        2      335145\n",
       "3     4        0     8136000\n",
       "4     1        0      127300"
      ]
     },
     "execution_count": 3,
     "metadata": {},
     "output_type": "execute_result"
    }
   ],
   "source": [
    "pd.merge(\n",
    "    pd.DataFrame(\n",
    "        {\n",
    "            \"country\": data.country.cat.codes,\n",
    "            \"city\": data.city.cat.codes,\n",
    "        }\n",
    "    ),\n",
    "    pd.DataFrame(data.population),\n",
    "    left_index=True,\n",
    "    right_index=True,\n",
    ")"
   ]
  },
  {
   "cell_type": "markdown",
   "metadata": {},
   "source": [
    "Yet, that is *not* enough.\n",
    "Numerical values have an order, therefore we can test for inequality.\n",
    "Based on the data above we can say that:\n",
    "\n",
    "$$\\texttt{Scotland} < \\texttt{Wales}$$\n",
    "\n",
    "or\n",
    "\n",
    "$$\\texttt{Scotland} > \\texttt{England}$$\n",
    "\n",
    "Unfortunately, apart from their use in rugby jokes, these inequalities are rather useless.\n",
    "Moreover these inequalities are likely to confuse an ML algorithm.\n",
    "Instead we need to encode the data into a form called **one-hot-encoding**.\n",
    "Each sample has several features built from the categorical feature\n",
    "but only one of the columns contain a one, all other columns contain zeros.\n",
    "\n",
    "`pandas`' `get_dummies` exists for this exact purpose,\n",
    "to build a one-hot-encoding from a categorical feature."
   ]
  },
  {
   "cell_type": "code",
   "execution_count": null,
   "metadata": {},
   "outputs": [
    {
     "data": {
      "text/html": [
       "<div>\n",
       "<style scoped>\n",
       "    .dataframe tbody tr th:only-of-type {\n",
       "        vertical-align: middle;\n",
       "    }\n",
       "\n",
       "    .dataframe tbody tr th {\n",
       "        vertical-align: top;\n",
       "    }\n",
       "\n",
       "    .dataframe thead th {\n",
       "        text-align: right;\n",
       "    }\n",
       "</style>\n",
       "<table border=\"1\" class=\"dataframe\">\n",
       "  <thead>\n",
       "    <tr style=\"text-align: right;\">\n",
       "      <th></th>\n",
       "      <th>population</th>\n",
       "      <th>city=Cardiff</th>\n",
       "      <th>city=Exeter</th>\n",
       "      <th>city=Glasgow</th>\n",
       "      <th>city=Hull</th>\n",
       "      <th>city=London</th>\n",
       "      <th>country=England</th>\n",
       "      <th>country=Scotland</th>\n",
       "      <th>country=Wales</th>\n",
       "    </tr>\n",
       "  </thead>\n",
       "  <tbody>\n",
       "    <tr>\n",
       "      <th>0</th>\n",
       "      <td>284321</td>\n",
       "      <td>0</td>\n",
       "      <td>0</td>\n",
       "      <td>0</td>\n",
       "      <td>1</td>\n",
       "      <td>0</td>\n",
       "      <td>1</td>\n",
       "      <td>0</td>\n",
       "      <td>0</td>\n",
       "    </tr>\n",
       "    <tr>\n",
       "      <th>1</th>\n",
       "      <td>598830</td>\n",
       "      <td>0</td>\n",
       "      <td>0</td>\n",
       "      <td>1</td>\n",
       "      <td>0</td>\n",
       "      <td>0</td>\n",
       "      <td>0</td>\n",
       "      <td>1</td>\n",
       "      <td>0</td>\n",
       "    </tr>\n",
       "    <tr>\n",
       "      <th>2</th>\n",
       "      <td>335145</td>\n",
       "      <td>1</td>\n",
       "      <td>0</td>\n",
       "      <td>0</td>\n",
       "      <td>0</td>\n",
       "      <td>0</td>\n",
       "      <td>0</td>\n",
       "      <td>0</td>\n",
       "      <td>1</td>\n",
       "    </tr>\n",
       "    <tr>\n",
       "      <th>3</th>\n",
       "      <td>8136000</td>\n",
       "      <td>0</td>\n",
       "      <td>0</td>\n",
       "      <td>0</td>\n",
       "      <td>0</td>\n",
       "      <td>1</td>\n",
       "      <td>1</td>\n",
       "      <td>0</td>\n",
       "      <td>0</td>\n",
       "    </tr>\n",
       "    <tr>\n",
       "      <th>4</th>\n",
       "      <td>127300</td>\n",
       "      <td>0</td>\n",
       "      <td>1</td>\n",
       "      <td>0</td>\n",
       "      <td>0</td>\n",
       "      <td>0</td>\n",
       "      <td>1</td>\n",
       "      <td>0</td>\n",
       "      <td>0</td>\n",
       "    </tr>\n",
       "  </tbody>\n",
       "</table>\n",
       "</div>"
      ],
      "text/plain": [
       "   population  city=Cardiff  city=Exeter  city=Glasgow  city=Hull  \\\n",
       "0      284321             0            0             0          1   \n",
       "1      598830             0            0             1          0   \n",
       "2      335145             1            0             0          0   \n",
       "3     8136000             0            0             0          0   \n",
       "4      127300             0            1             0          0   \n",
       "\n",
       "   city=London  country=England  country=Scotland  country=Wales  \n",
       "0            0                1                 0              0  \n",
       "1            0                0                 1              0  \n",
       "2            0                0                 0              1  \n",
       "3            1                1                 0              0  \n",
       "4            0                1                 0              0  "
      ]
     },
     "execution_count": 4,
     "metadata": {},
     "output_type": "execute_result"
    }
   ],
   "source": [
    "pd.get_dummies(data, prefix_sep=\"=\")"
   ]
  },
  {
   "cell_type": "markdown",
   "metadata": {},
   "source": [
    "And this is something that we can feed into an ML technique without worrying about confusing it.\n",
    "That said, this representation can use huge amounts of memory if there is a big number of features.\n",
    "To alleviate the memory problem `sklearn` can perform one-hot-encoding on sparse matrices (from `scipy`),\n",
    "this way we only need to store the ones."
   ]
  },
  {
   "cell_type": "markdown",
   "metadata": {},
   "source": [
    "## Textual Data\n",
    "\n",
    "Plain, unorganized, text data present different challenges to transform into a numeric representation.\n",
    "For a start we cannot just one-hot-encode words because they may appear more than once in each sample.\n",
    "We could encode the presence of words in each sample but when distinguishing between samples\n",
    "certain words are certainly more important than others, e.g. we can safely assume that\n",
    "the word \"the\" will appear in almost every sample.\n",
    "\n",
    "Search engine research produced an elegant technique to encode words in plain test:\n",
    "*Term Frequency by Inverse Document Frequency* (TF-IDF).\n",
    "Each word in a sample is represented by the count of this word divided by the frequency\n",
    "of this same word across all samples.\n",
    "Each sample has a feature per each word in the entire corpus (all samples),\n",
    "all words that are not present in the sample are encoded as zeros.\n",
    "\n",
    "This produces a huge sparse matrix representation of the data.\n",
    "We can try it out with samples from *newsgroups*.\n",
    "And since newsgroups are aggregated by topic we will try to classify the samples into topics."
   ]
  },
  {
   "cell_type": "code",
   "execution_count": null,
   "metadata": {},
   "outputs": [
    {
     "data": {
      "text/plain": [
       "['comp.graphics',\n",
       " 'comp.windows.x',\n",
       " 'misc.forsale',\n",
       " 'rec.autos',\n",
       " 'rec.sport.hockey',\n",
       " 'sci.med',\n",
       " 'sci.space',\n",
       " 'soc.religion.christian',\n",
       " 'talk.politics.misc']"
      ]
     },
     "execution_count": 5,
     "metadata": {},
     "output_type": "execute_result"
    }
   ],
   "source": [
    "from sklearn.datasets import fetch_20newsgroups\n",
    "\n",
    "newsgroups = [\n",
    "    \"comp.graphics\",\n",
    "    \"comp.windows.x\",\n",
    "    \"misc.forsale\",\n",
    "    \"rec.autos\",\n",
    "    \"rec.sport.hockey\",\n",
    "    \"sci.med\",\n",
    "    \"sci.space\",\n",
    "    \"soc.religion.christian\",\n",
    "    \"talk.politics.misc\",\n",
    "]\n",
    "train = fetch_20newsgroups(categories=newsgroups, subset=\"train\")\n",
    "test = fetch_20newsgroups(categories=newsgroups, subset=\"test\")\n",
    "train.target_names"
   ]
  },
  {
   "cell_type": "markdown",
   "metadata": {},
   "source": [
    "So what is this data about?"
   ]
  },
  {
   "cell_type": "code",
   "execution_count": 6,
   "metadata": {},
   "outputs": [
    {
     "name": "stdout",
     "output_type": "stream",
     "text": [
      "From: maverick@wpi.WPI.EDU (T. Giaquinto)\n",
      "Subject: General Information Request\n",
      "Organization: Worcester Polytechnic Institute, Worcester, MA 01609-2280\n",
      "Lines: 11\n",
      "NNTP-Posting-Host: wpi.wpi.edu\n",
      "\n",
      "\n",
      "\tI am looking for any information about the space program.\n",
      "This includes NASA, the shuttles, history, anything!  I would like to\n",
      "know if anyone could suggest books, periodicals, even ftp sites for a\n",
      "novice who is interested in the space program.\n",
      "\n",
      "\n",
      "\n",
      "\t\t\t\t\tTodd Giaquinto\n",
      "\t\t\t\t\tmaverick@wpi.WPI.EDU\n",
      "\t\t\t\t\t\n",
      "\n",
      "From: geb@cs.pitt.edu (Gordon Banks)\n",
      "Subject: Re: High Prolactin\n",
      "Reply-To: geb@cs.pitt.edu (Gordon Banks)\n",
      "Organization: Univ. of Pittsburgh Computer Science\n",
      "Lines: 12\n",
      "\n",
      "In article <93088.112203JER4@psuvm.psu.edu> JER4@psuvm.psu.edu (John E. Rodway) writes:\n",
      ">Any comments on the use of the drug Parlodel for high prolactin in the blood?\n",
      ">\n",
      "\n",
      "It can suppress secretion of prolactin.  Is useful in cases of galactorrhea.\n",
      "Some adenomas of the pituitary secret too much.\n",
      "\n",
      "-- \n",
      "----------------------------------------------------------------------------\n",
      "Gordon Banks  N3JXP      | \"Skepticism is the chastity of the intellect, and\n",
      "geb@cadre.dsl.pitt.edu   |  it is shameful to surrender it too soon.\" \n",
      "----------------------------------------------------------------------------\n",
      "\n",
      "From: osprey@ux4.cso.uiuc.edu (Lucas Adamski)\n",
      "Subject: Re: Fast polygon routine needed\n",
      "Keywords: polygon, needed\n",
      "Organization: University of Illinois at Urbana-Champaign\n",
      "Lines: 19\n",
      "\n",
      "In article <7306@pdxgate.UUCP> idr@rigel.cs.pdx.edu (Ian D Romanick) writes:\n",
      ">What kind of polygons?  Shaded?  Texturemapped?  Hm?  More comes into play with\n",
      ">fast routines than just \"polygons\".  It would be nice to know exaclty what\n",
      ">system (VGA is a start, but what processor?) and a few of the specifics of the\n",
      ">implementation.  You need to give  more info if you want to get any answers! :P\n",
      "\n",
      "I don't want texture mapped, cause if I did I'd asked for them. :)  Just\n",
      "a simple and fast routine to do filled polygons.  As for the processor, it'd\n",
      "be for a minimum of a 286... maybe 386 if I can't find a good one for 286s.\n",
      "Ideally, I want a polyn function that can clip to a user-defined viewport,\n",
      "and write to an arbitrary location in memory.  Of course the chances of\n",
      "finding something like that are pretty remote, so I guess I'd need the source\n",
      "with it.  Oh, and I guess it would need to be in ASM otherwise it'd be too\n",
      "slow.  I've seen some polygon routines in C, and they've all been waaay too\n",
      "slow.  Its for a 3D vector graphics program.  I've been hunting high and low\n",
      "for a polyn function in ASM, and I can't find one anywhere that I can use.\n",
      "I've found one or two polyn functions, but my ASM is pretty bad, so I won't\n",
      "even try to rewrite them. :)\n",
      "\t\t//Lucas.\n",
      "\n"
     ]
    }
   ],
   "source": [
    "for i in [0, 17, 31]:\n",
    "    print(train.data[i])"
   ]
  },
  {
   "cell_type": "markdown",
   "metadata": {},
   "source": [
    "The dataset is already divided into train and test sets.\n",
    "But it is still just a lot of text.\n",
    "We said that that TF-IDF thing can build some numbers for the words,\n",
    "so we should try it."
   ]
  },
  {
   "cell_type": "code",
   "execution_count": null,
   "metadata": {
    "scrolled": false
   },
   "outputs": [
    {
     "data": {
      "text/plain": [
       "array([[ 0.09769777,  0.09769777,  0.        ,  0.09769777,  0.09769777,\n",
       "         0.        ,  0.        ,  0.        ,  0.        ,  0.        ,\n",
       "         0.09769777,  0.        ,  0.        ,  0.        ,  0.06951277,\n",
       "         0.06951277,  0.09769777,  0.        ,  0.        ,  0.        ,\n",
       "         0.        ,  0.        ,  0.        ,  0.        ,  0.        ,\n",
       "         0.        ,  0.09769777,  0.        ,  0.        ,  0.        ,\n",
       "         0.        ,  0.        ,  0.        ,  0.        ,  0.        ,\n",
       "         0.        ,  0.        ,  0.        ,  0.        ,  0.06951277,\n",
       "         0.        ,  0.        ,  0.        ,  0.        ,  0.        ,\n",
       "         0.        ,  0.20853831,  0.        ,  0.        ,  0.09769777,\n",
       "         0.13902554,  0.        ,  0.06951277,  0.09769777,  0.        ,\n",
       "         0.09769777,  0.        ,  0.19539554,  0.        ,  0.        ,\n",
       "         0.        ,  0.        ,  0.        ,  0.09769777,  0.        ,\n",
       "         0.09769777,  0.06951277,  0.06951277,  0.09769777,  0.13902554,\n",
       "         0.09769777,  0.06951277,  0.06951277,  0.        ,  0.        ,\n",
       "         0.09769777,  0.        ,  0.        ,  0.09769777,  0.        ,\n",
       "         0.06951277,  0.        ,  0.06951277,  0.09769777,  0.19539554,\n",
       "         0.        ,  0.        ,  0.        ,  0.        ,  0.        ,\n",
       "         0.        ,  0.09769777,  0.        ,  0.        ,  0.        ,\n",
       "         0.09769777,  0.        ,  0.        ,  0.        ,  0.09769777,\n",
       "         0.        ,  0.        ,  0.        ,  0.        ,  0.        ,\n",
       "         0.        ,  0.        ,  0.06951277,  0.        ,  0.        ,\n",
       "         0.09769777,  0.        ,  0.        ,  0.        ,  0.09769777,\n",
       "         0.        ,  0.09769777,  0.19539554,  0.        ,  0.        ,\n",
       "         0.        ,  0.        ,  0.        ,  0.        ,  0.06951277,\n",
       "         0.        ,  0.        ,  0.        ,  0.        ,  0.09769777,\n",
       "         0.        ,  0.09769777,  0.        ,  0.        ,  0.        ,\n",
       "         0.        ,  0.19539554,  0.        ,  0.        ,  0.06951277,\n",
       "         0.09769777,  0.        ,  0.        ,  0.        ,  0.        ,\n",
       "         0.20853831,  0.        ,  0.        ,  0.06951277,  0.        ,\n",
       "         0.06951277,  0.09769777,  0.        ,  0.        ,  0.        ,\n",
       "         0.        ,  0.        ,  0.        ,  0.06951277,  0.        ,\n",
       "         0.        ,  0.        ,  0.        ,  0.        ,  0.        ,\n",
       "         0.19539554,  0.        ,  0.06951277,  0.58618663,  0.        ,\n",
       "         0.        ,  0.        ],\n",
       "       [ 0.        ,  0.        ,  0.05784004,  0.        ,  0.        ,\n",
       "         0.05784004,  0.05784004,  0.05784004,  0.05784004,  0.05784004,\n",
       "         0.        ,  0.05784004,  0.17352013,  0.05784004,  0.04115367,\n",
       "         0.04115367,  0.        ,  0.05784004,  0.17352013,  0.11568008,\n",
       "         0.11568008,  0.05784004,  0.05784004,  0.05784004,  0.11568008,\n",
       "         0.05784004,  0.        ,  0.05784004,  0.05784004,  0.05784004,\n",
       "         0.05784004,  0.05784004,  0.05784004,  0.11568008,  0.05784004,\n",
       "         0.11568008,  0.05784004,  0.05784004,  0.05784004,  0.04115367,\n",
       "         0.05784004,  0.11568008,  0.05784004,  0.05784004,  0.05784004,\n",
       "         0.11568008,  0.08230733,  0.05784004,  0.05784004,  0.        ,\n",
       "         0.08230733,  0.05784004,  0.08230733,  0.        ,  0.05784004,\n",
       "         0.        ,  0.05784004,  0.        ,  0.05784004,  0.05784004,\n",
       "         0.05784004,  0.17352013,  0.11568008,  0.        ,  0.05784004,\n",
       "         0.        ,  0.08230733,  0.16461467,  0.        ,  0.123461  ,\n",
       "         0.        ,  0.04115367,  0.20576833,  0.11568008,  0.11568008,\n",
       "         0.        ,  0.05784004,  0.05784004,  0.        ,  0.05784004,\n",
       "         0.04115367,  0.05784004,  0.04115367,  0.        ,  0.        ,\n",
       "         0.05784004,  0.05784004,  0.05784004,  0.05784004,  0.05784004,\n",
       "         0.05784004,  0.        ,  0.05784004,  0.05784004,  0.05784004,\n",
       "         0.        ,  0.05784004,  0.11568008,  0.05784004,  0.        ,\n",
       "         0.11568008,  0.11568008,  0.05784004,  0.23136017,  0.05784004,\n",
       "         0.11568008,  0.11568008,  0.04115367,  0.05784004,  0.05784004,\n",
       "         0.        ,  0.05784004,  0.05784004,  0.17352013,  0.        ,\n",
       "         0.11568008,  0.        ,  0.        ,  0.05784004,  0.05784004,\n",
       "         0.05784004,  0.05784004,  0.05784004,  0.05784004,  0.04115367,\n",
       "         0.05784004,  0.05784004,  0.05784004,  0.05784004,  0.        ,\n",
       "         0.05784004,  0.        ,  0.05784004,  0.05784004,  0.05784004,\n",
       "         0.05784004,  0.        ,  0.05784004,  0.05784004,  0.123461  ,\n",
       "         0.        ,  0.05784004,  0.11568008,  0.05784004,  0.05784004,\n",
       "         0.123461  ,  0.05784004,  0.05784004,  0.16461467,  0.05784004,\n",
       "         0.246922  ,  0.        ,  0.05784004,  0.05784004,  0.05784004,\n",
       "         0.11568008,  0.11568008,  0.05784004,  0.04115367,  0.05784004,\n",
       "         0.05784004,  0.05784004,  0.05784004,  0.05784004,  0.05784004,\n",
       "         0.        ,  0.05784004,  0.04115367,  0.        ,  0.11568008,\n",
       "         0.05784004,  0.05784004]])"
      ]
     },
     "execution_count": 7,
     "metadata": {},
     "output_type": "execute_result"
    }
   ],
   "source": [
    "from sklearn.feature_extraction.text import TfidfVectorizer\n",
    "\n",
    "tfidf = TfidfVectorizer()\n",
    "tfidf.fit(train.data[:2])\n",
    "tfidf.transform(train.data[:2]).toarray()"
   ]
  },
  {
   "cell_type": "markdown",
   "metadata": {},
   "source": [
    "That's a bunch of numbers alright but what the represent?\n",
    "\n",
    "It turns out that each number is the distance from origin for each word in the model vocabulary.\n",
    "And the vocabulary is the dictionary of all words found in the text of the samples.\n",
    "The counts in the dictionary are the word counts for each of these words."
   ]
  },
  {
   "cell_type": "code",
   "execution_count": 8,
   "metadata": {
    "scrolled": false
   },
   "outputs": [
    {
     "name": "stdout",
     "output_type": "stream",
     "text": [
      "{'from': 52, 'maverick': 84, 'wpi': 168, 'edu': 46, 'giaquinto': 57, 'subject': 139, 'general': 55, 'information': 69, 'request': 124, 'organization': 107, 'worcester': 165, 'polytechnic': 114, 'institute': 70, 'ma': 83, '01609': 0, '2280': 3, 'lines': 80, '11': 1, 'nntp': 95, 'posting': 116, 'host': 65, 'am': 10, 'looking': 82, 'for': 50, 'any': 14, 'about': 4, 'the': 145, 'space': 136, 'program': 117, 'this': 148, 'includes': 68, 'nasa': 91, 'shuttles': 129, 'history': 63, 'anything': 16, 'would': 167, 'like': 78, 'to': 150, 'know': 75, 'if': 66, 'anyone': 15, 'could': 39, 'suggest': 140, 'books': 26, 'periodicals': 110, 'even': 49, 'ftp': 53, 'sites': 131, 'novice': 99, 'who': 158, 'is': 72, 'interested': 71, 'in': 67, 'todd': 151, 'nyeda': 101, 'cnsvax': 35, 'uwec': 155, 'david': 41, 'nye': 100, 're': 120, 'post': 115, 'polio': 113, 'syndrome': 142, 'needed': 92, 'please': 112, 'university': 154, 'of': 103, 'wisconsin': 162, 'eau': 45, 'claire': 33, '21': 2, 'reply': 123, 'keith': 74, 'actrix': 8, 'gen': 54, 'nz': 102, 'stewart': 138, 'my': 90, 'wife': 161, 'has': 60, 'become': 24, 'through': 149, 'an': 11, 'acquaintance': 7, 'apparently': 17, 'not': 97, 'recognised': 121, 'new': 94, 'zealand': 171, 'and': 12, 'different': 43, 'symptons': 141, 'eg': 47, 'chest': 31, 'complaints': 36, 'are': 18, 'treated': 152, 'separately': 128, 'does': 44, 'anone': 13, 'have': 61, 'on': 105, 'it': 73, 'help': 62, 'you': 169, 'else': 48, 'asking': 21, 'medical': 85, 'some': 133, 'ask': 20, 'specific': 137, 'questions': 119, 'as': 19, 'no': 96, 'one': 106, 'likely': 79, 'type': 153, 'textbook': 143, 'chapter': 30, 'covering': 40, 'all': 9, 'aspects': 22, 'comprehensive': 37, 'review': 126, 'your': 170, 'local': 81, 'hospital': 64, 'librarian': 77, 'most': 87, 'happy': 58, 'with': 164, 'sort': 135, 'briefly': 27, 'condition': 38, 'which': 157, 'patients': 109, 'significant': 130, 'residual': 125, 'weakness': 156, 'childhood': 32, 'notice': 98, 'progression': 118, 'they': 147, 'get': 56, 'older': 104, 'theory': 146, 'that': 144, 'remaining': 122, 'motor': 88, 'neurons': 93, 'work': 166, 'harder': 59, 'so': 132, 'die': 42, 'sooner': 134, 'midelfort': 86, 'clinic': 34, 'wi': 160, 'patently': 108, 'absurd': 5, 'but': 28, 'whoever': 159, 'wishes': 163, 'philosopher': 111, 'must': 89, 'learn': 76, 'be': 23, 'frightened': 51, 'by': 29, 'absurdities': 6, 'bertrand': 25, 'russell': 127}\n"
     ]
    }
   ],
   "source": [
    "print(tfidf.vocabulary_)"
   ]
  },
  {
   "cell_type": "markdown",
   "metadata": {},
   "source": [
    "We will make a pipeline of a TF-IDF preprocessor and a Naive Bayes classifier.\n",
    "The Naive Bayes classifier is a very simple **non-parametric** technique that just attempt\n",
    "to build (hyper)spherical probabilistic generators around the center of each class.\n",
    "\n",
    "Since Naive Bayes has no specific parameter and no tunable hyperparameters,\n",
    "it is a very good technique for a classification baseline.\n",
    "Here we use a multinomial Naive Bayes classifier because we have many features."
   ]
  },
  {
   "cell_type": "code",
   "execution_count": null,
   "metadata": {
    "collapsed": true
   },
   "outputs": [],
   "source": [
    "from sklearn.naive_bayes import MultinomialNB\n",
    "from sklearn.pipeline import make_pipeline\n",
    "\n",
    "model = make_pipeline(TfidfVectorizer(), MultinomialNB())\n",
    "model.fit(train.data, train.target)\n",
    "labels = model.predict(test.data)"
   ]
  },
  {
   "cell_type": "markdown",
   "metadata": {},
   "source": [
    "Since we have lots of classes (9 different newsgroup topics) a single score may\n",
    "not be the best approach to understand how our model works.\n",
    "Instead we will build a confusion matrix, which will give us\n",
    "true positives, false positives, true negatives and false negatives for each class.\n",
    "We can then evaluate which classes the model is better at identifying."
   ]
  },
  {
   "cell_type": "code",
   "execution_count": null,
   "metadata": {},
   "outputs": [
    {
     "data": {
      "image/png": "[encoded data removed]",
      "text/plain": [
       "<matplotlib.figure.Figure at 0x7f53aea81438>"
      ]
     },
     "metadata": {},
     "output_type": "display_data"
    }
   ],
   "source": [
    "from sklearn.metrics import confusion_matrix\n",
    "import seaborn as sns\n",
    "\n",
    "mat = confusion_matrix(test.target, labels)\n",
    "fig = plt.figure(figsize=(12, 12))\n",
    "ax = sns.heatmap(\n",
    "    mat.T,\n",
    "    square=True,\n",
    "    annot=True,\n",
    "    fmt=\"d\",\n",
    "    cmap=\"viridis\",\n",
    "    xticklabels=train.target_names,\n",
    "    yticklabels=train.target_names,\n",
    ")\n",
    "ax.set_xlabel(\"true label\")\n",
    "ax.set_ylabel(\"predicted label\");"
   ]
  },
  {
   "cell_type": "markdown",
   "metadata": {},
   "source": [
    "The worst result is across *religion* and *politics*.\n",
    "No surprises there, these topics get intermingled in the real world too.\n",
    "\n",
    "That said, with a very simple classifier and some data encoding we have built\n",
    "a model that can tell us the topic of a sentence.\n",
    "We can see it in action with a small helper function:"
   ]
  },
  {
   "cell_type": "code",
   "execution_count": null,
   "metadata": {},
   "outputs": [
    {
     "name": "stdout",
     "output_type": "stream",
     "text": [
      "TUNING rec.autos\n",
      "BALL rec.sport.hockey\n",
      "BUTTON comp.windows.x\n",
      "WIFE soc.religion.christian\n",
      "PRESCRIPTION sci.med\n",
      "APOLLO sci.space\n"
     ]
    }
   ],
   "source": [
    "def predict_chat(sentence: str):\n",
    "    predicted = model.predict([sentence])\n",
    "    return train.target_names[predicted[0]]\n",
    "\n",
    "print(\n",
    "    \"TUNING\",\n",
    "    predict_chat(\"I've added a new set of cyllinders, now I'm not even making 10 miles per galon\"),\n",
    ")\n",
    "print(\"BALL\", predict_chat(\"The ball never went even close to the goal\"))\n",
    "print(\"BUTTON\", predict_chat(\"Dude, I'm telling you, there is no such button on my screen\"))\n",
    "print(\"WIFE\", predict_chat(\"My wife went shopping in the morning, has not come back yet\"))\n",
    "print(\"PRESCRIPTION\", predict_chat(\"Got my prescription rejected at the pharmacy\"))\n",
    "print(\"APOLLO\", predict_chat(\"No one ever landed on the moon, it was all a farse\"))"
   ]
  },
  {
   "cell_type": "markdown",
   "metadata": {},
   "source": [
    "Given that all this is doing is checking the word frequency probabilities,\n",
    "this is a rather amazing result for a such a simple algorithm.\n",
    "\n",
    "And we can still see the problems with *religion* and *politics* in the predictions.\n",
    "This problem happens because these two topics use lots of *stop words*,\n",
    "i.e. words that are commonly used in sentence construction.\n",
    "For example:"
   ]
  },
  {
   "cell_type": "code",
   "execution_count": null,
   "metadata": {},
   "outputs": [
    {
     "data": {
      "text/plain": [
       "'soc.religion.christian'"
      ]
     },
     "execution_count": 12,
     "metadata": {},
     "output_type": "execute_result"
    }
   ],
   "source": [
    "predict_chat(\"the what where\")"
   ]
  },
  {
   "cell_type": "markdown",
   "metadata": {},
   "source": [
    "If we remove the stop words from the data representation we should\n",
    "get a better separation between religion and politics.\n",
    "\n",
    "Stop words are most common words, including conjunctions and other sentence building blocks.\n",
    "We have a file called `stopwords-en.txt` which we can load."
   ]
  },
  {
   "cell_type": "code",
   "execution_count": null,
   "metadata": {},
   "outputs": [
    {
     "data": {
      "text/plain": [
       "['a',\n",
       " 'about',\n",
       " 'above',\n",
       " 'across',\n",
       " 'after',\n",
       " 'afterwards',\n",
       " 'again',\n",
       " 'against',\n",
       " 'all',\n",
       " 'almost']"
      ]
     },
     "execution_count": 13,
     "metadata": {},
     "output_type": "execute_result"
    }
   ],
   "source": [
    "filename = \"stopwords-en.txt\"\n",
    "with open(filename) as f:\n",
    "    stopwords = [l.strip() for l in f]\n",
    "stopwords[:10]"
   ]
  },
  {
   "cell_type": "markdown",
   "metadata": {},
   "source": [
    "If we repeat the pipeline we should get a better result now."
   ]
  },
  {
   "cell_type": "code",
   "execution_count": 14,
   "metadata": {},
   "outputs": [],
   "source": [
    "model = make_pipeline(TfidfVectorizer(stop_words=stopwords), MultinomialNB())\n",
    "model.fit(train.data, train.target)\n",
    "labels = model.predict(test.data)"
   ]
  },
  {
   "cell_type": "markdown",
   "metadata": {},
   "source": [
    "And we should look at the plot for improvements."
   ]
  },
  {
   "cell_type": "code",
   "execution_count": 15,
   "metadata": {},
   "outputs": [
    {
     "data": {
      "image/png": "[encoded data removed]",
      "text/plain": [
       "<matplotlib.figure.Figure at 0x7f53aea3fa90>"
      ]
     },
     "metadata": {},
     "output_type": "display_data"
    }
   ],
   "source": [
    "mat = confusion_matrix(test.target, labels)\n",
    "fig = plt.figure(figsize=(12, 12))\n",
    "ax = sns.heatmap(mat.T, square=True, annot=True, fmt='d', cmap='viridis',\n",
    "                 xticklabels=train.target_names, yticklabels=train.target_names)\n",
    "ax.set_xlabel('true label')\n",
    "ax.set_ylabel('predicted label');"
   ]
  },
  {
   "cell_type": "markdown",
   "metadata": {},
   "source": [
    "We managed to remove some of the confusion between religion and politics.\n",
    "Wish it would be that easy in real life.\n",
    "Also the general shape of the graphs is better,\n",
    "with a more prominent diagonal."
   ]
  },
  {
   "cell_type": "markdown",
   "metadata": {},
   "source": [
    "## References\n",
    "\n",
    "- [Term frequency and weighting - Introduction to Information Retrieval][1]\n",
    "- [Weighting Schemes - Introduction to Information Retrieval][2]\n",
    "\n",
    "[1]: https://nlp.stanford.edu/IR-book/html/htmledition/term-frequency-and-weighting-1.html \"TF-IDF\"\n",
    "[2]: https://nlp.stanford.edu/IR-book/html/htmledition/document-and-query-weighting-schemes-1.html \"weighting\""
   ]
  }
 ],
 "metadata": {
  "kernelspec": {
   "display_name": "Python 3",
   "language": "python",
   "name": "python3"
  },
  "language_info": {
   "codemirror_mode": {
    "name": "ipython",
    "version": 3
   },
   "file_extension": ".py",
   "mimetype": "text/x-python",
   "name": "python",
   "nbconvert_exporter": "python",
   "pygments_lexer": "ipython3",
   "version": "3.6.3"
  }
 },
 "nbformat": 4,
 "nbformat_minor": 2
}
