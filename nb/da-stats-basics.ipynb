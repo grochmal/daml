{
 "cells": [
  {
   "cell_type": "markdown",
   "metadata": {},
   "source": [
    "# 05.00 Stats\n",
    "\n",
    "To not make mistakes in analysis a deal of statistical knowledge is required.\n",
    "We will review some statistics and learn a little about distributions in `scipy`.\n",
    "`scipy` is the mathematical library for Python on top of NumPy.\n",
    "It was geared to be the one and only mathematic library for the sciences in Python\n",
    "but it turned out that it would become too big.\n",
    "Libraries flensed from `scipy` often include the `sci` at the beginning of its name,\n",
    "e.g. `scikit-learn` or `scikit-image`."
   ]
  },
  {
   "cell_type": "markdown",
   "metadata": {},
   "source": [
    "`scipy` is comprised of:\n",
    "\n",
    "- Numerical Integration\n",
    "- Function Optimization - used in machine learning routines\n",
    "- Interpolation - e.g. splines\n",
    "- Fast Fourier Transforms\n",
    "- General Signal Processing\n",
    "- Linear Algebra - including Matrix decomposition\n",
    "- Image Processing - as NumPy arrays, used by `scikit-image`\n",
    "- Sparse Matrices - and graphs\n",
    "- Statistics - which is what interests us right now\n",
    "- And a handful of extra things\n",
    "\n",
    "Several of these routines are used in `scikit-learn` and `scikit-image`\n",
    "to produce decomposition and machine learning algorithms.\n",
    "We will look at machine learning from a higher perspective but,\n",
    "for the statistics we need, we can use the `scipy.stats` module.\n",
    "\n",
    "As a quick review let's see a handful of statistical measures\n",
    "(or simply statistics for short) we can perform on data."
   ]
  },
  {
   "cell_type": "code",
   "execution_count": 1,
   "metadata": {},
   "outputs": [],
   "source": [
    "import numpy as np\n",
    "from scipy import stats"
   ]
  },
  {
   "cell_type": "markdown",
   "metadata": {},
   "source": [
    "#### Mean\n",
    "\n",
    "$$\\bar{x} = \\frac{1}{N} \\sum_{i=1}^{N} x_i$$\n",
    "\n",
    "#### Variance\n",
    "\n",
    "$$\\sigma^2 = \\frac{1}{N - d} \\sum_{i=1}^{N} (x_i - \\bar{x})^2$$\n",
    "\n",
    "#### Standard Deviation\n",
    "\n",
    "$$\\sigma = \\sqrt{\\frac{1}{N - d} \\sum_{i=1}^{N} (x_i - \\bar{x})^2}$$\n",
    "\n",
    "#### Covariance\n",
    "\n",
    "$$cov(X, Y) = \\sigma_{xy} = \\frac{1}{N - d} \\sum_{i=1}^{N} (x_i - \\bar{x})(y_i - \\bar{y})$$\n",
    "\n",
    "#### Correlation\n",
    "\n",
    "$$corr(X, Y) = r = \\frac{cov(X, Y)}{\\sigma_x \\sigma_y} = \\frac{\\sigma_{xy}}{\\sigma_x \\sigma_y}$$\n",
    "\n",
    "Note: $1/(N-d)$ often becomes just $1/N$ or $1/(N-1)$ in bias-corrected calculations.\n",
    "in other words the most common values for $d$ are $0$ for population\n",
    "statistics and $1$ (or very rarely more) for sample statistics.\n",
    "Bias correction is needed when operating over a sample instead of operating over\n",
    "the entire population.  All below `NumPy` functions (except correlation functions\n",
    "which are not multiplied by $1/N$) accept a `ddof=` (degrees of freedom)\n",
    "argument to perform a sample based calculation."
   ]
  },
  {
   "cell_type": "markdown",
   "metadata": {},
   "source": [
    "Let's have a look why this bias correction makes sense.\n",
    "We will take a dataset of several points in one horizontal axis.\n",
    "The vertical position of the points is merely illustrative\n",
    "of the fact that in a real world we can have only a fraction\n",
    "of all possible measurable conditions.\n",
    "\n",
    "We will assume a normal distribution.\n",
    "The mean is at the center of the data points and\n",
    "a distance of $2$ standard deviations from the mean contains\n",
    "around $95\\%$ of all points - within the dashed lines."
   ]
  },
  {
   "cell_type": "markdown",
   "metadata": {},
   "source": [
    "![Population Statistics](da-std-full.svg)\n",
    "\n",
    "<div style=\"text-align:right;\"><sup>da-std-full.svg</sup></div>"
   ]
  },
  {
   "cell_type": "markdown",
   "metadata": {},
   "source": [
    "The blue points are our full population,\n",
    "there are no more points.\n",
    "Yet if we take a sample from this population we are more likely\n",
    "to sample points from regions there are more blue points in the first place.\n",
    "The green points below are a sample from within the population\n",
    "of all blue points.\n",
    "\n",
    "The mean changes very little - and changes in the value of the mean depend\n",
    "on where on the axis the dataset is positioned, in order to avoid\n",
    "changes to the mean one can center the data at zero\n",
    "as we were doing above with $(x_i - \\bar{x})$.\n",
    "Since changes in mean value can be avoided in most cases\n",
    "there is no need for a degrees of freedom adjustment to the mean.\n",
    "\n",
    "The change in the value of standard deviation is more interesting.\n",
    "The spread of sampled data will always be smaller or equal to\n",
    "the spread of the population.\n",
    "This is exactly due to the reason that we are most likely to sample\n",
    "blue points from the middle rather than from the extremities.\n",
    "The premise is that we are assuming a distribution that is reasonably\n",
    "normal, or to be more exact a univariate distribution - a distribution\n",
    "with a single peak."
   ]
  },
  {
   "cell_type": "markdown",
   "metadata": {},
   "source": [
    "![Population Statistics](da-std-sample.svg)\n",
    "\n",
    "<div style=\"text-align:right;\"><sup>da-std-sample.svg</sup></div>"
   ]
  },
  {
   "cell_type": "markdown",
   "metadata": {},
   "source": [
    "Now let's create some arrays to play with.\n",
    "One array is a simple range and the others are noise perturbed."
   ]
  },
  {
   "cell_type": "code",
   "execution_count": 2,
   "metadata": {},
   "outputs": [
    {
     "data": {
      "text/plain": [
       "(array([ 0,  1,  2,  3,  4,  5,  6,  7,  8,  9, 10, 11, 12, 13, 14, 15, 16,\n",
       "        17, 18, 19, 20, 21, 22, 23, 24, 25, 26, 27, 28, 29]),\n",
       " array([-2.48700487e-02,  9.36225529e-01,  1.53817940e+00,  3.27307088e+00,\n",
       "         4.02845090e+00,  4.62541398e+00,  5.74348728e+00,  7.01034945e+00,\n",
       "         7.54346764e+00,  9.02559901e+00,  9.55916803e+00,  1.05113012e+01,\n",
       "         1.22578708e+01,  1.31229526e+01,  1.44128761e+01,  1.50386311e+01,\n",
       "         1.58107626e+01,  1.71585681e+01,  1.75555989e+01,  1.90414576e+01,\n",
       "         2.00057454e+01,  2.13130121e+01,  2.24630398e+01,  2.31163604e+01,\n",
       "         2.40019809e+01,  2.51630786e+01,  2.56279717e+01,  2.67827208e+01,\n",
       "         2.83041879e+01,  2.90136898e+01]),\n",
       " array([ 0.36908564, -1.28880383,  3.10405374,  1.81327817,  2.01719447,\n",
       "         7.05473803,  6.44369691,  8.26423125,  8.35939986,  7.55858314,\n",
       "         8.91047673, 12.39146346, 14.26433718, 14.68673806, 15.35092591,\n",
       "        13.45922373, 18.44217835, 19.45265019, 17.26588724, 19.13600658,\n",
       "        19.70086031, 22.44770168, 23.10327126, 21.36575467, 23.15989621,\n",
       "        23.97975753, 23.75060189, 25.50637761, 28.87542943, 26.93406438]))"
      ]
     },
     "execution_count": 2,
     "metadata": {},
     "output_type": "execute_result"
    }
   ],
   "source": [
    "rng = np.random.default_rng()\n",
    "arr = np.arange(30)\n",
    "acv = np.arange(30) + rng.random(30) - 0.5\n",
    "acr = np.arange(30) + rng.random(30) * 5 - 2.5\n",
    "arr, acv, acr"
   ]
  },
  {
   "cell_type": "markdown",
   "metadata": {},
   "source": [
    "`NumPy` has the mean method but implementing it by hand is easy."
   ]
  },
  {
   "cell_type": "code",
   "execution_count": 3,
   "metadata": {},
   "outputs": [
    {
     "name": "stdout",
     "output_type": "stream",
     "text": [
      "14.5\n",
      "14.5\n"
     ]
    }
   ],
   "source": [
    "print(arr.mean())\n",
    "print(arr.sum() / len(arr))"
   ]
  },
  {
   "cell_type": "markdown",
   "metadata": {},
   "source": [
    "Standard deviation with zero degrees of freedom is the deviation of our data.\n",
    "With one degree of freedom it is an estimate of a population from which\n",
    "whe data at hand may be a reasonable sample."
   ]
  },
  {
   "cell_type": "code",
   "execution_count": 4,
   "metadata": {},
   "outputs": [
    {
     "name": "stdout",
     "output_type": "stream",
     "text": [
      "8.65544144839919\n",
      "8.803408430829505\n"
     ]
    }
   ],
   "source": [
    "print(arr.std())\n",
    "print(np.std(arr, ddof=1))"
   ]
  },
  {
   "cell_type": "markdown",
   "metadata": {},
   "source": [
    "Note how the second value is *bigger*.\n",
    "In the first case we consider all the data as our population.\n",
    "In the second case all our data in `arr` is considered to be just a sample\n",
    "from some population with much more data.\n",
    "That population with more data which we do not know about must\n",
    "have a bigger spread of values.\n",
    "\n",
    "Same story with the variance (since it is just the squared standard deviation)."
   ]
  },
  {
   "cell_type": "code",
   "execution_count": 5,
   "metadata": {},
   "outputs": [
    {
     "name": "stdout",
     "output_type": "stream",
     "text": [
      "74.91666666666667\n",
      "77.5\n"
     ]
    }
   ],
   "source": [
    "print(arr.var())\n",
    "print(arr.var(ddof=1))"
   ]
  },
  {
   "cell_type": "markdown",
   "metadata": {},
   "source": [
    "The covariance method (`cov`) produces the variance of each array on the diagonal\n",
    "and the actual covariance on the interception between the arrays.  i.e.\n",
    "\n",
    "| `np.cov` | arr            | acv           |\n",
    "|:-------- |:-------------- |:------------- |\n",
    "| **arr**  | cov(arr, arr)  | cov(arr, acv) |\n",
    "| **acv**  | cov(acv, arr)  | cov(acv, acv) |\n",
    "\n",
    "And since $cov(a, a) = var(a)$ the diagonal of this matrix\n",
    "is just a sequence of variances."
   ]
  },
  {
   "cell_type": "code",
   "execution_count": 6,
   "metadata": {},
   "outputs": [
    {
     "name": "stdout",
     "output_type": "stream",
     "text": [
      "[[74.91666667 75.55116122]\n",
      " [75.55116122 76.26066895]]\n",
      "[[77.5        78.15637368]\n",
      " [78.15637368 78.89034719]]\n"
     ]
    }
   ],
   "source": [
    "print(np.cov([arr, acv], ddof=0))\n",
    "print(np.cov([arr, acv], ddof=1))"
   ]
  },
  {
   "cell_type": "markdown",
   "metadata": {},
   "source": [
    "Be careful to specify the degrees of freedom,\n",
    "the default `ddof` in variance in NumPy's standard deviation and variance\n",
    "is `ddof=0` but NumPy's covariance attempts to estimate `ddof` by default.\n",
    "If you do not specify a value for the `ddof` argument,\n",
    "NumPy's covariance will end with `ddof=1` in the majority of cases."
   ]
  },
  {
   "cell_type": "markdown",
   "metadata": {},
   "source": [
    "The correlation measure we saw above in the equation\n",
    "is actually just one way of measuring correlation.\n",
    "It is called the Person's correlation coefficient or just Person's $r$.\n",
    "NumPy's `corrcoef` produces a Matrix similar to the covariance method.\n",
    "\n",
    "One important thing to note is that Pearson's correlation coefficient\n",
    "divides out the degrees of freedom in its equation.\n",
    "Therefore, if we are working with a sample, we cannot bias-correct it.\n",
    "`scipy.stats` provides us with a `pearsonr` method,\n",
    "which reminds us of the fact that we cannot bias correct our correlation.\n",
    "It returns an extra $p$ value which is an indication of how\n",
    "likely an uncorrelated dataset is to produce such value of correlation.\n",
    "The $p$ value is just a vague estimate though,\n",
    "just a throw into a *beta* distribution (do not worry if you do not know what that is).\n",
    "In general it can be said that very low $(-1)$ or very high $(1)$\n",
    "value of correlation will give a very small $p$,\n",
    "and correlation values around $0$ will give high $p$.\n",
    "The $p$ value here is just a rough reminder for the experimenter."
   ]
  },
  {
   "cell_type": "code",
   "execution_count": 7,
   "metadata": {},
   "outputs": [
    {
     "name": "stdout",
     "output_type": "stream",
     "text": [
      "[[1.         0.99954331 0.98473526]\n",
      " [0.99954331 1.         0.9852154 ]\n",
      " [0.98473526 0.9852154  1.        ]]\n",
      "PearsonRResult(statistic=np.float64(0.9995433076438578), pvalue=np.float64(4.192115105111259e-44))\n",
      "PearsonRResult(statistic=np.float64(0.9852153970070648), pvalue=np.float64(5.3352963776147e-23))\n",
      "PearsonRResult(statistic=np.float64(0.9847352554658857), pvalue=np.float64(8.321532132965909e-23))\n"
     ]
    }
   ],
   "source": [
    "print(np.corrcoef([arr, acv, acr]))\n",
    "print(stats.pearsonr(arr, acv))\n",
    "print(stats.pearsonr(acv, acr))\n",
    "print(stats.pearsonr(arr, acr))"
   ]
  },
  {
   "cell_type": "markdown",
   "metadata": {},
   "source": [
    "![Bell Curve](da-bell.svg)\n",
    "\n",
    "<div style=\"text-align:right;\"><sup>da-bell.svg</sup></div>"
   ]
  },
  {
   "cell_type": "markdown",
   "metadata": {},
   "source": [
    "All the time we need to remember that all these statistics\n",
    "assume the normal distribution of data.\n",
    "A bell shaped distribution, or at least a distribution that\n",
    "just has a single peak - a univariate distribution of data values.\n",
    "A distribution that is multivariate - has several peaks in tis graph - will\n",
    "render the majority of the statistics we see here useless.\n",
    "\n",
    "Next we will see a handful of ideas about distributions,\n",
    "and then a couple of pitfalls in the use of plain statistic values."
   ]
  }
 ],
 "metadata": {
  "anaconda-cloud": {},
  "kernelspec": {
   "display_name": ".venv",
   "language": "python",
   "name": "python3"
  },
  "language_info": {
   "codemirror_mode": {
    "name": "ipython",
    "version": 3
   },
   "file_extension": ".py",
   "mimetype": "text/x-python",
   "name": "python",
   "nbconvert_exporter": "python",
   "pygments_lexer": "ipython3",
   "version": "3.11.12"
  }
 },
 "nbformat": 4,
 "nbformat_minor": 4
}
