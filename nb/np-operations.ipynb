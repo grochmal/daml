{
 "cells": [
  {
   "cell_type": "markdown",
   "metadata": {},
   "source": [
    "# 02.01 NumPy Operations\n",
    "\n",
    "NumPy arrays work like lists to some extent and like simple values to another.\n",
    "As lists you can retrieve parts of an array,\n",
    "but also can perform vectorized operations on all (or some) of the values of an array.\n",
    "We will now look at the operations on NumPy arrays that are most useful\n",
    "for working with data and which will lead us further towards data science."
   ]
  },
  {
   "cell_type": "markdown",
   "metadata": {},
   "source": [
    "![Bookshelf](np-bookshelf.svg)\n",
    "\n",
    "<div style=\"text-align:right;\"><sup>np-bookshelf.svg</sup></div>"
   ]
  },
  {
   "cell_type": "markdown",
   "metadata": {},
   "source": [
    "To keep each section self contained we will perform the required imports\n",
    "from previous section at the top.\n",
    "If some import looks strange one should go back and check the previous sections.\n",
    "For now we only know about NumPy,"
   ]
  },
  {
   "cell_type": "code",
   "execution_count": 1,
   "metadata": {},
   "outputs": [],
   "source": [
    "import numpy as np"
   ]
  },
  {
   "cell_type": "markdown",
   "metadata": {},
   "source": [
    "## Indexing and Slicing\n",
    "\n",
    "Like lists indexing and slicing is done with square brackets.\n",
    "One dimensional indexing works pretty much the same as a list.\n",
    "Let's import NumPy, create an array and check."
   ]
  },
  {
   "cell_type": "code",
   "execution_count": 2,
   "metadata": {},
   "outputs": [
    {
     "data": {
      "text/plain": [
       "array([0, 1, 2, 3, 4, 5, 6, 7, 8])"
      ]
     },
     "execution_count": 2,
     "metadata": {},
     "output_type": "execute_result"
    }
   ],
   "source": [
    "x = np.arange(9)\n",
    "x"
   ]
  },
  {
   "cell_type": "markdown",
   "metadata": {},
   "source": [
    "For almost all purposes a NumPy array can be treated as a Python list."
   ]
  },
  {
   "cell_type": "code",
   "execution_count": 3,
   "metadata": {},
   "outputs": [
    {
     "data": {
      "text/plain": [
       "np.int64(3)"
      ]
     },
     "execution_count": 3,
     "metadata": {},
     "output_type": "execute_result"
    }
   ],
   "source": [
    "x[3]"
   ]
  },
  {
   "cell_type": "markdown",
   "metadata": {},
   "source": [
    "And slicing on such an array works like Python list.\n",
    "The arrays here are what NumPy calls one dimensional arrays\n",
    "because a single index (on dimension) is enough to retrieve a specific\n",
    "value form an array, and a slice returns an array that is also on dimensional."
   ]
  },
  {
   "cell_type": "code",
   "execution_count": 4,
   "metadata": {},
   "outputs": [
    {
     "data": {
      "text/plain": [
       "array([1, 2, 3, 4])"
      ]
     },
     "execution_count": 4,
     "metadata": {},
     "output_type": "execute_result"
    }
   ],
   "source": [
    "x[1:5]"
   ]
  },
  {
   "cell_type": "markdown",
   "metadata": {},
   "source": [
    "For more dimensions we add an extra index.\n",
    "The index is understood as a tuple of integers or slice objects.\n",
    "Behind the scenes this is just a cleverly designed Python `__getitem__` method.\n",
    "At this point NumPy arrays start to appear as a little more than\n",
    "simple lists."
   ]
  },
  {
   "cell_type": "code",
   "execution_count": 5,
   "metadata": {},
   "outputs": [
    {
     "data": {
      "text/plain": [
       "(array([[ 0,  1,  2,  3,  4,  5],\n",
       "        [ 6,  7,  8,  9, 10, 11],\n",
       "        [12, 13, 14, 15, 16, 17]]),\n",
       " (3, 6))"
      ]
     },
     "execution_count": 5,
     "metadata": {},
     "output_type": "execute_result"
    }
   ],
   "source": [
    "x = np.arange(18).reshape((3, 6))\n",
    "x, x.shape"
   ]
  },
  {
   "cell_type": "markdown",
   "metadata": {},
   "source": [
    "We call the array above a two dimensional array:\n",
    "we need two indexes to retrieve a specific value from the array.\n",
    "And we can add as many dimensions to arrays as we want,\n",
    "NumPy supports an arbitrary number of dimensions.\n",
    "In most cases it is the human limitation of working with\n",
    "highly dimensional arrays that limits the number of dimensions.\n",
    "\n",
    "The `shape = (3, 6)` tells us that we have $2$ dimensions,\n",
    "one dimension with $3$ possible indexes to select from\n",
    "and another dimension with $6$ indexes to select from.\n",
    "As we saw, this is because we walk the memory containing\n",
    "the values in steps of $1$ (first dimensions) or in steps of $6$\n",
    "(second dimension).\n",
    "We often call two dimensional arrays matrices,\n",
    "although NumPy does have a specific `matrix` type.\n",
    "The difference between the NumPy matrix and the NumPy\n",
    "two dimensional array is how certain operations work on the objects,\n",
    "notably multiplication.\n",
    "That said, the need for the matrix data type is rare\n",
    "and is ften more problematic than it is worth it.\n",
    "Stick to two dimensional arrays, and we say matrix in NumPy\n",
    "we will be referring to two dimensional arrays from now on."
   ]
  },
  {
   "cell_type": "code",
   "execution_count": 6,
   "metadata": {},
   "outputs": [
    {
     "data": {
      "text/plain": [
       "np.int64(7)"
      ]
     },
     "execution_count": 6,
     "metadata": {},
     "output_type": "execute_result"
    }
   ],
   "source": [
    "x[1, 1]"
   ]
  },
  {
   "cell_type": "markdown",
   "metadata": {},
   "source": [
    "Slicing can become complicated with several dimensions, let's try to memorize some operations.\n",
    "\n",
    "Note: remember that slicing in Python uses the **`[start:stop:step]`** syntax.\n",
    "And that not providing one of the components they are take as:\n",
    "\n",
    "- no start: `start=0`\n",
    "- no stop: `stop=-1`\n",
    "- no step: `step=1`\n",
    "\n",
    "Which also means that `[:]` means \"take everything\" since start = 1, stop = -1 and step = 1.\n",
    "Also remember that the `start` parameter is inclusive in Python,\n",
    "whilst the `stop` parameter is exclusive.\n",
    "With NumPy all is exactly the same but we can do several dimensions at once."
   ]
  },
  {
   "cell_type": "markdown",
   "metadata": {},
   "source": [
    "Let's take the arrays we have built and slice it in different\n",
    "ways on both dimensions.\n",
    "The power of working with a NumPy array will show.\n",
    "We can select alternate columns and/or rows, and much more.\n",
    "Once we combine this selection with further operations\n",
    "we will have a powerful tool on our hands."
   ]
  },
  {
   "cell_type": "markdown",
   "metadata": {},
   "source": [
    "![Slice 1: Select](np-slice-1-select.svg)\n",
    "\n",
    "<div style=\"text-align:right;\"><sup>np-slice-1-select.svg</sup></div>"
   ]
  },
  {
   "cell_type": "code",
   "execution_count": 7,
   "metadata": {},
   "outputs": [
    {
     "data": {
      "text/plain": [
       "array([ 9, 10, 11])"
      ]
     },
     "execution_count": 7,
     "metadata": {},
     "output_type": "execute_result"
    }
   ],
   "source": [
    "x[1, 3:]"
   ]
  },
  {
   "cell_type": "markdown",
   "metadata": {},
   "source": [
    "![Slice 2: All Values](np-slice-2-all-values.svg)\n",
    "\n",
    "\n",
    "<div style=\"text-align:right;\"><sup>np-slice-2-all-values.svg</sup></div>"
   ]
  },
  {
   "cell_type": "code",
   "execution_count": 8,
   "metadata": {},
   "outputs": [
    {
     "data": {
      "text/plain": [
       "array([[ 0,  1,  2,  3,  4,  5],\n",
       "       [ 6,  7,  8,  9, 10, 11]])"
      ]
     },
     "execution_count": 8,
     "metadata": {},
     "output_type": "execute_result"
    }
   ],
   "source": [
    "x[0:2, :]"
   ]
  },
  {
   "cell_type": "markdown",
   "metadata": {},
   "source": [
    "![Slice 3: Slice Both](np-slice-3-slice-both.svg)\n",
    "\n",
    "<div style=\"text-align:right;\"><sup>np-slice-3-slice-both.svg</sup></div>"
   ]
  },
  {
   "cell_type": "code",
   "execution_count": 9,
   "metadata": {},
   "outputs": [
    {
     "data": {
      "text/plain": [
       "array([[ 8,  9, 10],\n",
       "       [14, 15, 16]])"
      ]
     },
     "execution_count": 9,
     "metadata": {},
     "output_type": "execute_result"
    }
   ],
   "source": [
    "x[1:3, 2:5]"
   ]
  },
  {
   "cell_type": "markdown",
   "metadata": {},
   "source": [
    "![Slice 4: Step](np-slice-4-step.svg)\n",
    "\n",
    "<div style=\"text-align:right;\"><sup>np-slice-4-step.svg</sup></div>"
   ]
  },
  {
   "cell_type": "code",
   "execution_count": 10,
   "metadata": {},
   "outputs": [
    {
     "data": {
      "text/plain": [
       "array([[ 0,  2,  4],\n",
       "       [ 6,  8, 10],\n",
       "       [12, 14, 16]])"
      ]
     },
     "execution_count": 10,
     "metadata": {},
     "output_type": "execute_result"
    }
   ],
   "source": [
    "x[:, ::2]"
   ]
  },
  {
   "cell_type": "markdown",
   "metadata": {},
   "source": [
    "![Slice 5: Step Both](np-slice-5-step-both.svg)\n",
    "\n",
    "<div style=\"text-align:right;\"><sup>np-slice-5-step-both.svg</sup></div>"
   ]
  },
  {
   "cell_type": "code",
   "execution_count": 11,
   "metadata": {},
   "outputs": [
    {
     "data": {
      "text/plain": [
       "array([[ 1,  4],\n",
       "       [13, 16]])"
      ]
     },
     "execution_count": 11,
     "metadata": {},
     "output_type": "execute_result"
    }
   ],
   "source": [
    "x[::2, 1::3]"
   ]
  },
  {
   "cell_type": "markdown",
   "metadata": {},
   "source": [
    "### Quirk, omitting `:`\n",
    "\n",
    "One can use `:` (colon) to select an entire dimension,\n",
    "the same way as one uses it to select all elements in a Python list.\n",
    "Thanks to the tuple-of-slices syntax that NumPy uses one can omit the `:` from the last dimension.\n",
    "Yet NumPy is just a Python library and must respect the Python syntax.\n",
    "There are some quirks as to when `:` can be omitted.\n",
    "\n",
    "The following works, note that our variable is still a two dimensional array:"
   ]
  },
  {
   "cell_type": "code",
   "execution_count": 2,
   "metadata": {},
   "outputs": [
    {
     "ename": "NameError",
     "evalue": "name 'x' is not defined",
     "output_type": "error",
     "traceback": [
      "\u001b[31m---------------------------------------------------------------------------\u001b[39m",
      "\u001b[31mNameError\u001b[39m                                 Traceback (most recent call last)",
      "\u001b[36mCell\u001b[39m\u001b[36m \u001b[39m\u001b[32mIn[2]\u001b[39m\u001b[32m, line 1\u001b[39m\n\u001b[32m----> \u001b[39m\u001b[32m1\u001b[39m \u001b[43mx\u001b[49m[\u001b[32m1\u001b[39m]\n",
      "\u001b[31mNameError\u001b[39m: name 'x' is not defined"
     ]
    }
   ],
   "source": [
    "x[1]"
   ]
  },
  {
   "cell_type": "markdown",
   "metadata": {},
   "source": [
    "and is equivalent to"
   ]
  },
  {
   "cell_type": "code",
   "execution_count": null,
   "metadata": {},
   "outputs": [
    {
     "data": {
      "text/plain": [
       "array([ 6,  7,  8,  9, 10, 11])"
      ]
     },
     "execution_count": 13,
     "metadata": {},
     "output_type": "execute_result"
    }
   ],
   "source": [
    "x[1,]"
   ]
  },
  {
   "cell_type": "markdown",
   "metadata": {},
   "source": [
    "and equivalent to"
   ]
  },
  {
   "cell_type": "code",
   "execution_count": null,
   "metadata": {},
   "outputs": [
    {
     "data": {
      "text/plain": [
       "array([ 6,  7,  8,  9, 10, 11])"
      ]
     },
     "execution_count": 14,
     "metadata": {},
     "output_type": "execute_result"
    }
   ],
   "source": [
    "x[1, :]"
   ]
  },
  {
   "cell_type": "markdown",
   "metadata": {},
   "source": [
    "But the following one will not work.\n",
    "One cannot omit the `:` of earlier dimensions because a lone comma\n",
    "is not allowed in Python syntax and the NumPy code never sees it.\n",
    "\n",
    "```python\n",
    ">>> x[,1]\n",
    "\n",
    "  Cell In[15],   line 1\n",
    "    x[,1]\n",
    "      ^\n",
    "SyntaxError: invalid syntax\n",
    "```\n",
    "\n",
    "The correct way is to use `:` in the first dimension"
   ]
  },
  {
   "cell_type": "code",
   "execution_count": null,
   "metadata": {},
   "outputs": [
    {
     "data": {
      "text/plain": [
       "array([ 1,  7, 13])"
      ]
     },
     "execution_count": 16,
     "metadata": {},
     "output_type": "execute_result"
    }
   ],
   "source": [
    "x[:, 1]"
   ]
  },
  {
   "cell_type": "markdown",
   "metadata": {},
   "source": [
    "It is good practice to always explicitly use `:` to mean that you are taking the full dimension.\n",
    "This works this way in NumPy because the array can be understood as a list of lists,\n",
    "and `x[1]` takes the first of those lists, i.e. **a row**.\n",
    "When we get to see `pandas` a single index will mean **a column**,\n",
    "so do not get used to the idea of the list of lists as a matrix."
   ]
  },
  {
   "cell_type": "markdown",
   "metadata": {},
   "source": [
    "### Modifying slices\n",
    "\n",
    "As Python lists NumPy arrays can be modified in place.\n",
    "Moreover, similar to Python lists one can assign several values\n",
    "at once into a NumPy array.\n",
    "And since NumPy arrays can have more than one dimension,\n",
    "one ca use one of the multidimensional slices we saw\n",
    "to assign to a specific sets of values.\n",
    "Let's rebuild our array and assign several values at once."
   ]
  },
  {
   "cell_type": "code",
   "execution_count": 17,
   "metadata": {},
   "outputs": [
    {
     "data": {
      "text/plain": [
       "array([[ 0,  1,  2,  3,  4,  5],\n",
       "       [ 6,  7,  8,  9, 10, 11],\n",
       "       [12, 13, 14, 15, 16, 17]])"
      ]
     },
     "execution_count": 17,
     "metadata": {},
     "output_type": "execute_result"
    }
   ],
   "source": [
    "x = np.arange(18).reshape((3, 6))\n",
    "x"
   ]
  },
  {
   "cell_type": "markdown",
   "metadata": {},
   "source": [
    "We already saw the multidimensional slicing,\n",
    "we select all rows until row index $2$ (exclusive) and every other column."
   ]
  },
  {
   "cell_type": "code",
   "execution_count": 18,
   "metadata": {},
   "outputs": [
    {
     "data": {
      "text/plain": [
       "array([[ 0,  2,  4],\n",
       "       [ 6,  8, 10]])"
      ]
     },
     "execution_count": 18,
     "metadata": {},
     "output_type": "execute_result"
    }
   ],
   "source": [
    "x[:2, ::2]"
   ]
  },
  {
   "cell_type": "markdown",
   "metadata": {},
   "source": [
    "All selection is an array with shape $(2, 3)$,\n",
    "If we produce an array of the same shape of zeros we can assign\n",
    "it directly to the slice."
   ]
  },
  {
   "cell_type": "code",
   "execution_count": 19,
   "metadata": {},
   "outputs": [
    {
     "data": {
      "text/plain": [
       "array([[ 0,  1,  0,  3,  0,  5],\n",
       "       [ 0,  7,  0,  9,  0, 11],\n",
       "       [12, 13, 14, 15, 16, 17]])"
      ]
     },
     "execution_count": 19,
     "metadata": {},
     "output_type": "execute_result"
    }
   ],
   "source": [
    "x[:2, ::2] = np.zeros((2, 3))\n",
    "x"
   ]
  },
  {
   "cell_type": "markdown",
   "metadata": {},
   "source": [
    "This already seem quite powerful given what we saw about the slices earlier.\n",
    "\n",
    "There is a very important detail about the fact that NumPy arrays\n",
    "are views on data: two separate views do not have their own\n",
    "copies of the data.\n",
    "This is useful for processing of big amounts of data without\n",
    "copying over and over.\n",
    "Yet, the view construct may result in very difficult to find bugs.\n",
    "To help prevent such issues with views the view that originally\n",
    "creates the data is considered to own the data.\n",
    "If data is copied the copy own its data,\n",
    "if data is not copied the view does not won it.\n",
    "The ownership does not prevent another view from changing\n",
    "the data but allows the programmer to be aware if he is working\n",
    "with a copy or a view into the data that may be modified\n",
    "byt other pats of the code.\n",
    "One array flag  - named `owndata` -\n",
    "can tell you whether an array is a view (false) or not (true).\n",
    "To get a new array from a view one can use the `copy` method.\n",
    "Here we have an array that owns its data and one array\n",
    "that is a view into the data of the first:"
   ]
  },
  {
   "cell_type": "code",
   "execution_count": 20,
   "metadata": {},
   "outputs": [
    {
     "data": {
      "text/plain": [
       "(True, False, False)"
      ]
     },
     "execution_count": 20,
     "metadata": {},
     "output_type": "execute_result"
    }
   ],
   "source": [
    "z = np.arange(18)\n",
    "x = z.reshape((3, 6))\n",
    "y = x[:2, ::2]\n",
    "z.flags.owndata, x.flags.owndata, y.flags.owndata"
   ]
  },
  {
   "cell_type": "markdown",
   "metadata": {},
   "source": [
    "One can be very surprised when a change in a view affects the data in another.\n",
    "Very difficult to find bugs can result from it.\n",
    "That is the price we pay for faster and memory efficient data slicing.\n",
    "For example, we will assign to the full slice of `y` here\n",
    "but the data in `x` changes as well:"
   ]
  },
  {
   "cell_type": "code",
   "execution_count": 21,
   "metadata": {},
   "outputs": [
    {
     "data": {
      "text/plain": [
       "array([[ 0,  1,  0,  3,  0,  5],\n",
       "       [ 0,  7,  0,  9,  0, 11],\n",
       "       [12, 13, 14, 15, 16, 17]])"
      ]
     },
     "execution_count": 21,
     "metadata": {},
     "output_type": "execute_result"
    }
   ],
   "source": [
    "y[:] = np.zeros((2, 3))\n",
    "x"
   ]
  },
  {
   "cell_type": "markdown",
   "metadata": {},
   "source": [
    "### Concatenating and slicing\n",
    "\n",
    "Concatenation can be performed in several ways,\n",
    "the main procedure is `np.concatenate` which accepts as `axis=` parameter.\n",
    "The **axis** can be very confusing since it means different things in the PyData\n",
    "group of libraries.\n",
    "For now remember that in NumPy *axis* means the dimension of the array.\n",
    "In other words, the axis is the index in the `shape` over which\n",
    "we want to perform an operation.\n",
    "\n",
    "To concatenate arrays must match on all other dimensions\n",
    "apart from the *axis* used."
   ]
  },
  {
   "cell_type": "code",
   "execution_count": 22,
   "metadata": {},
   "outputs": [
    {
     "data": {
      "text/plain": [
       "array([[ 0,  1,  2,  3,  4,  5],\n",
       "       [ 6,  7,  8,  9, 10, 11],\n",
       "       [12, 13, 14, 15, 16, 17],\n",
       "       [ 0,  1,  2,  3,  4,  5],\n",
       "       [ 6,  7,  8,  9, 10, 11]])"
      ]
     },
     "execution_count": 22,
     "metadata": {},
     "output_type": "execute_result"
    }
   ],
   "source": [
    "x = np.arange(18).reshape((3, 6))\n",
    "y = np.arange(12).reshape((2, 6))\n",
    "np.concatenate((x, y), axis=0)"
   ]
  },
  {
   "cell_type": "markdown",
   "metadata": {},
   "source": [
    "Above the $6$ matches, and across axis $0$ we concatenate $3$ and $2$ rows.\n",
    "This may be a hard one to take in, try to read it several times\n",
    "to get the wording.\n",
    "\n",
    "Below the $3$ matches and we concatenate $6$ and $4$ columns\n",
    "across axis $1$."
   ]
  },
  {
   "cell_type": "code",
   "execution_count": 23,
   "metadata": {},
   "outputs": [
    {
     "data": {
      "text/plain": [
       "array([[ 0,  1,  2,  3,  4,  5,  0,  1,  2,  3],\n",
       "       [ 6,  7,  8,  9, 10, 11,  4,  5,  6,  7],\n",
       "       [12, 13, 14, 15, 16, 17,  8,  9, 10, 11]])"
      ]
     },
     "execution_count": 23,
     "metadata": {},
     "output_type": "execute_result"
    }
   ],
   "source": [
    "x = np.arange(18).reshape((3, 6))\n",
    "y = np.arange(12).reshape((3, 4))\n",
    "np.concatenate((x, y), axis=1)"
   ]
  },
  {
   "cell_type": "markdown",
   "metadata": {},
   "source": [
    "There are also `np.vstack` and `np.hstack` equivalent to `axis=0` and `axis=1` respectively."
   ]
  },
  {
   "cell_type": "code",
   "execution_count": 24,
   "metadata": {},
   "outputs": [
    {
     "data": {
      "text/plain": [
       "array([[ 0,  1,  2,  3,  4,  5],\n",
       "       [ 6,  7,  8,  9, 10, 11],\n",
       "       [12, 13, 14, 15, 16, 17],\n",
       "       [ 0,  1,  2,  3,  4,  5],\n",
       "       [ 6,  7,  8,  9, 10, 11]])"
      ]
     },
     "execution_count": 24,
     "metadata": {},
     "output_type": "execute_result"
    }
   ],
   "source": [
    "x = np.arange(18).reshape((3, 6))\n",
    "y = np.arange(12).reshape((2, 6))\n",
    "np.vstack((x, y))"
   ]
  },
  {
   "cell_type": "markdown",
   "metadata": {},
   "source": [
    "Remember that `axis=0` or a vertical stack only makes sense with two\n",
    "dimensional arrays.\n",
    "Same goes for naming `axis=1` a horizontal stack.\n",
    "With more than two dimensions one must be careful to match the *axis*\n",
    "to the shape of the array."
   ]
  },
  {
   "cell_type": "code",
   "execution_count": 25,
   "metadata": {},
   "outputs": [
    {
     "data": {
      "text/plain": [
       "array([[ 0,  1,  2,  3,  4,  5,  0,  1,  2,  3],\n",
       "       [ 6,  7,  8,  9, 10, 11,  4,  5,  6,  7],\n",
       "       [12, 13, 14, 15, 16, 17,  8,  9, 10, 11]])"
      ]
     },
     "execution_count": 25,
     "metadata": {},
     "output_type": "execute_result"
    }
   ],
   "source": [
    "x = np.arange(18).reshape((3, 6))\n",
    "y = np.arange(12).reshape((3, 4))\n",
    "np.hstack((x, y))"
   ]
  },
  {
   "cell_type": "markdown",
   "metadata": {},
   "source": [
    "`np.split` separates the array in pieces.  Can you tell how?"
   ]
  },
  {
   "cell_type": "code",
   "execution_count": 26,
   "metadata": {},
   "outputs": [
    {
     "data": {
      "text/plain": [
       "[array([0, 1, 2]), array([3, 4, 5]), array([6, 7, 8])]"
      ]
     },
     "execution_count": 26,
     "metadata": {},
     "output_type": "execute_result"
    }
   ],
   "source": [
    "np.split(np.arange(9), 3)"
   ]
  },
  {
   "cell_type": "markdown",
   "metadata": {},
   "source": [
    "The splitting happens as separating the array into equal pieces.\n",
    "Above we split the array into $3$ equal sized pieces,\n",
    "whilst below into $2$ equal sized pieces."
   ]
  },
  {
   "cell_type": "code",
   "execution_count": 27,
   "metadata": {},
   "outputs": [
    {
     "data": {
      "text/plain": [
       "[array([0, 1, 2]), array([3, 4, 5])]"
      ]
     },
     "execution_count": 27,
     "metadata": {},
     "output_type": "execute_result"
    }
   ],
   "source": [
    "np.split(np.arange(6), 2)"
   ]
  },
  {
   "cell_type": "markdown",
   "metadata": {},
   "source": [
    "Similar to concatenate it accepts an `axis=` argument,\n",
    "and there are `np.vsplit` and `np.hsplit`.\n",
    "\n",
    "Note: There are also `np.dstack` and `np.dslipt` that are equivalent to `axis=2`.\n",
    "Yet, we will not be delving into three dimensional arrays too often."
   ]
  }
 ],
 "metadata": {
  "kernelspec": {
   "display_name": ".venv",
   "language": "python",
   "name": "python3"
  },
  "language_info": {
   "codemirror_mode": {
    "name": "ipython",
    "version": 3
   },
   "file_extension": ".py",
   "mimetype": "text/x-python",
   "name": "python",
   "nbconvert_exporter": "python",
   "pygments_lexer": "ipython3",
   "version": "3.11.12"
  }
 },
 "nbformat": 4,
 "nbformat_minor": 4
}
