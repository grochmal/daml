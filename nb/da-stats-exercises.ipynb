{
 "cells": [
  {
   "cell_type": "markdown",
   "metadata": {},
   "source": [
    "# 05.03 Stats Exercises\n",
    "\n",
    "Exercises rating:\n",
    "\n",
    "★☆☆ - You should be able to based on Python knowledge plus the text.\n",
    "\n",
    "★★☆ - You will need to do extra thinking and some extra reading/searching.\n",
    "\n",
    "★★★ - The answer is difficult to find by a simple search,\n",
    "      requires you to do a considerable amount of extra work by yourself\n",
    "      (feel free to ignore these exercises if you're short on time)."
   ]
  },
  {
   "cell_type": "markdown",
   "metadata": {},
   "source": [
    "Below we implemented the mean function directly in NumPy broadcasting.\n",
    "Let's try the same with the other basic statistic functions, using similar\n",
    "vectors as we did in the lecture.\n",
    "Our objective is that we learn how to encode equations using NumPy\n",
    "array operations and broadcasting.\n",
    "From here on we will see more equations and we will argue\n",
    "that these equations are implemented in a vectorial programming manner.\n",
    "Here we build ourselves some equations in a vectorial programming manner\n",
    "in order for the idea to not seem as overwhelming later.\n",
    "\n",
    "Note: It is fine to reuse previous solutions in later exercises.\n",
    "It it *not* fine to use NumPy's `mean`, `std`, `var`, `cov`, or `corrcoef`."
   ]
  },
  {
   "cell_type": "code",
   "execution_count": null,
   "metadata": {},
   "outputs": [],
   "source": [
    "import numpy as np\n",
    "\n",
    "rng = np.random.default_rng()\n",
    "arr = np.arange(30, 90, 2)\n",
    "acr = np.arange(60, 120, 2) + rng.random(30) * 3 - 1.5\n",
    "arr, acr"
   ]
  },
  {
   "cell_type": "markdown",
   "metadata": {},
   "source": [
    "### 1. Mean (already solved).\n",
    "\n",
    "$$\\bar{x} = \\frac{1}{N} \\sum_{i=1}^{N} x_i$$"
   ]
  },
  {
   "cell_type": "code",
   "execution_count": null,
   "metadata": {},
   "outputs": [],
   "source": [
    "def daml_mean(x: np.ndarray) -> float:\n",
    "    return x.sum() / len(x)\n",
    "\n",
    "\n",
    "# test\n",
    "print(arr.mean())\n",
    "print(daml_mean(arr))"
   ]
  },
  {
   "cell_type": "markdown",
   "metadata": {},
   "source": [
    "### 2. Variance (★☆☆)\n",
    "\n",
    "$$\\sigma^2 = \\frac{1}{N - d} \\sum_{i=1}^{N} (x_i - \\bar{x})^2$$"
   ]
  },
  {
   "cell_type": "code",
   "execution_count": null,
   "metadata": {},
   "outputs": [],
   "source": [
    "def daml_var(x: np.ndarray, ddof: int = 0) -> float:\n",
    "    pass\n",
    "\n",
    "\n",
    "# test\n",
    "print(arr.var(ddof=0))\n",
    "print(arr.var(ddof=1))\n",
    "print(daml_var(arr, 0))\n",
    "print(daml_var(arr, 1))"
   ]
  },
  {
   "cell_type": "markdown",
   "metadata": {},
   "source": [
    "### 3. Standard Deviation (★☆☆)\n",
    "\n",
    "$$\\sigma = \\sqrt{\\frac{1}{N - d} \\sum_{i=1}^{N} (x_i - \\bar{x})^2}$$"
   ]
  },
  {
   "cell_type": "code",
   "execution_count": null,
   "metadata": {},
   "outputs": [],
   "source": [
    "def daml_std(x: np.ndarray, ddof: int = 0) -> float:\n",
    "    pass\n",
    "\n",
    "\n",
    "# test\n",
    "print(arr.std(ddof=0))\n",
    "print(arr.std(ddof=1))\n",
    "print(daml_std(arr, 0))\n",
    "print(daml_std(arr, 1))"
   ]
  },
  {
   "cell_type": "markdown",
   "metadata": {},
   "source": [
    "### 4. Covariance (★☆☆)\n",
    "\n",
    "$$cov(X, Y) = \\sigma_{xy} = \\frac{1}{N - d} \\sum_{i=1}^{N} (x_i - \\bar{x})(y_i - \\bar{y})$$\n",
    "\n",
    "Note: You only need to calculate the covariance *between* the arrays, and only between two arrays.\n",
    "No need to calculate the diagonal of the covariance matrix."
   ]
  },
  {
   "cell_type": "code",
   "execution_count": null,
   "metadata": {},
   "outputs": [],
   "source": [
    "def daml_cov(x: np.ndarray, y: np.ndarray, ddof: int = 0) -> float:\n",
    "    pass\n",
    "\n",
    "\n",
    "# test\n",
    "print(np.cov([arr, acr], ddof=0)[0, 1])\n",
    "print(np.cov([arr, acr], ddof=1)[0, 1])\n",
    "print(daml_cov(arr, acr, 0))\n",
    "print(daml_cov(arr, acr, 1))"
   ]
  },
  {
   "cell_type": "markdown",
   "metadata": {},
   "source": [
    "### 5. Correlation (★★☆)\n",
    "\n",
    "$$corr(X, Y) = r = \\frac{cov(X, Y)}{\\sigma_x \\sigma_y} = \\frac{\\sigma_{xy}}{\\sigma_x \\sigma_y}$$\n",
    "\n",
    "Note: You only need to implement the correlation coefficient between two arrays.\n",
    "No need for the entire matrix of the `p-values`.  Also, degrees of freedom are\n",
    "meaningless for correlation (the $1/(N - ddof)$ is simplified in the equation)."
   ]
  },
  {
   "cell_type": "code",
   "execution_count": null,
   "metadata": {},
   "outputs": [],
   "source": [
    "def daml_corr(x: np.ndarray, y: np.ndarray) -> float:\n",
    "    pass\n",
    "\n",
    "\n",
    "# test\n",
    "print(np.corrcoef([arr, acr])[0, 1])\n",
    "print(daml_corr(arr, acr))"
   ]
  }
 ],
 "metadata": {
  "anaconda-cloud": {},
  "kernelspec": {
   "display_name": ".venv",
   "language": "python",
   "name": "python3"
  },
  "language_info": {
   "codemirror_mode": {
    "name": "ipython",
    "version": 3
   },
   "file_extension": ".py",
   "mimetype": "text/x-python",
   "name": "python",
   "nbconvert_exporter": "python",
   "pygments_lexer": "ipython3",
   "version": "3.11.12"
  }
 },
 "nbformat": 4,
 "nbformat_minor": 4
}
