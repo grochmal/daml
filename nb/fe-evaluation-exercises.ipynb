{
 "cells": [
  {
   "cell_type": "markdown",
   "metadata": {},
   "source": [
    "# 07.06 Model Evaluation Exercises\n",
    "\n",
    "Exercises rating:\n",
    "\n",
    "★☆☆ - You should be able to based on Python knowledge plus lecture contents.\n",
    "\n",
    "★★☆ - You will need to do extra thinking and some extra reading/searching.\n",
    "\n",
    "★★★ - The answer is difficult to find by a simple search,\n",
    "      requires you to do a considerable amount of extra work by yourself\n",
    "      (feel free to ignore these exercises if you're short on time)."
   ]
  },
  {
   "cell_type": "markdown",
   "metadata": {},
   "source": [
    "For the first couple of exercises we will use a subset of\n",
    "the World War II weather dataset.\n",
    "The full dataset originates from the [USA Gov Works][usa],\n",
    "and was collected as part of preparation for bombing raid in Europe.\n",
    "\n",
    "We will use only the data from weather station $16405$,\n",
    "and only for the year $1945$,\n",
    "data which can be found in the file `fe-station16405-1945.csv`.\n",
    "Since Germany surrendered on the $5th$ of May\n",
    "only a quarter of our set was used to coordinate bombers,\n",
    "but the measures have been performed after the surrender\n",
    "declaration nevertheless.\n",
    "The weather was measured in distinct intervals,\n",
    "the column `doy` means the day of the year, from $1$ up to $365$.\n",
    "Note however that often several measures has been performed on\n",
    "the same day.\n",
    "Note also that there is not measure for March the $31st$.\n",
    "\n",
    "In the second part of the exercises we will replicate\n",
    "our Bayesian Model but will inject stop words into the TF-IDF\n",
    "preprocessing.\n",
    "Stop words are common words that give little value\n",
    "to the topic intention of a sentence - despite the\n",
    "fact that these words give great value to the actual meaning\n",
    "of the sentence.\n",
    "A list of english stop words is in the file `fe-stopwords-en.txt`.\n",
    "\n",
    "First let's import all the things we will need for the exercises."
   ]
  },
  {
   "cell_type": "code",
   "execution_count": null,
   "metadata": {},
   "outputs": [],
   "source": [
    "import numpy as np\n",
    "import pandas as pd\n",
    "import matplotlib.pyplot as plt\n",
    "from sklearn.pipeline import make_pipeline\n",
    "from sklearn.linear_model import LinearRegression, Ridge, Lasso\n",
    "from sklearn.preprocessing import PolynomialFeatures\n",
    "from sklearn.model_selection import cross_val_score, KFold\n",
    "from sklearn.datasets import fetch_20newsgroups\n",
    "from sklearn.feature_extraction.text import TfidfVectorizer\n",
    "from sklearn.naive_bayes import ComplementNB\n",
    "from sklearn.metrics import classification_report\n",
    "station_file = 'fe-station16405-1945.csv'\n",
    "stopwords_file = 'fe-stopwords-en.txt'"
   ]
  },
  {
   "cell_type": "markdown",
   "metadata": {},
   "source": [
    "### 1. Get the weather data and plot its features against the day of the year (★☆☆)"
   ]
  },
  {
   "cell_type": "code",
   "execution_count": null,
   "metadata": {},
   "outputs": [],
   "source": []
  },
  {
   "cell_type": "code",
   "execution_count": null,
   "metadata": {},
   "outputs": [],
   "source": []
  },
  {
   "cell_type": "markdown",
   "metadata": {},
   "source": [
    "### 2. Use a plain linear regression to predict the temperature based on the other features (★★☆)\n",
    "\n",
    "Do not use temperature values to predict other temperature values,\n",
    "that would be cheating.\n",
    "We can argue that depending on the time of the year temperature varies,\n",
    "and rain and snow has an influence on temperature as well.\n",
    "\n",
    "Use cross validation with a kfold `n_splits=7` and shuffled data to evaluate the model."
   ]
  },
  {
   "cell_type": "code",
   "execution_count": null,
   "metadata": {},
   "outputs": [],
   "source": []
  },
  {
   "cell_type": "markdown",
   "metadata": {},
   "source": [
    "### 3. Based on the graphs of the features use a polynomial to predict the temperature (★★☆)\n",
    "\n",
    "Remember that a polynomial is just a `PolynomialFeatures`.\n",
    "Keep the cross validation with `n_splits=7`."
   ]
  },
  {
   "cell_type": "code",
   "execution_count": null,
   "metadata": {},
   "outputs": [],
   "source": []
  },
  {
   "cell_type": "markdown",
   "metadata": {},
   "source": [
    "### 4. Instead of a Linear regression use a Ridge regression for the polynomial (★★☆)\n",
    "\n",
    "Keep the same splits in the cross validation."
   ]
  },
  {
   "cell_type": "code",
   "execution_count": null,
   "metadata": {},
   "outputs": [],
   "source": []
  },
  {
   "cell_type": "markdown",
   "metadata": {},
   "source": [
    "### 5. Attempt both Linear and Ridge regression but on many splits (★★☆)\n",
    "\n",
    "When one has little data one needs to split many times in order\n",
    "for the mean cross validation to be meaningful.\n",
    "Use `n_splits=100` for both runs.\n",
    "Is Ridge regularization more consistent on more splits?"
   ]
  },
  {
   "cell_type": "code",
   "execution_count": null,
   "metadata": {},
   "outputs": [],
   "source": []
  },
  {
   "cell_type": "code",
   "execution_count": null,
   "metadata": {},
   "outputs": [],
   "source": []
  },
  {
   "cell_type": "markdown",
   "metadata": {},
   "source": [
    "### 6. Load the stop words file into a list in Python (★☆☆)"
   ]
  },
  {
   "cell_type": "code",
   "execution_count": null,
   "metadata": {},
   "outputs": [],
   "source": []
  },
  {
   "cell_type": "markdown",
   "metadata": {},
   "source": [
    "### 7. Repeat the Naive Bayes example using these stop words injected into the TF-IDF preprocessing. (★★☆)\n",
    "\n",
    "The [TfidfVectorizer][tfidf] accepts stop words during its construction.\n",
    "Do you get a better separation of religion and politics?\n",
    "Use a `classification_report` to check if precision and recall improves\n",
    "for these classes.\n",
    "\n",
    "[tfidf]: http://scikit-learn.org/stable/modules/generated/sklearn.feature_extraction.text.TfidfVectorizer.html"
   ]
  },
  {
   "cell_type": "code",
   "execution_count": null,
   "metadata": {},
   "outputs": [],
   "source": []
  }
 ],
 "metadata": {
  "kernelspec": {
   "display_name": ".venv",
   "language": "python",
   "name": "python3"
  },
  "language_info": {
   "codemirror_mode": {
    "name": "ipython",
    "version": 3
   },
   "file_extension": ".py",
   "mimetype": "text/x-python",
   "name": "python",
   "nbconvert_exporter": "python",
   "pygments_lexer": "ipython3",
   "version": "3.11.12"
  }
 },
 "nbformat": 4,
 "nbformat_minor": 4
}
