{
 "cells": [
  {
   "cell_type": "markdown",
   "metadata": {},
   "source": [
    "# 01.06 Jupyter Exercises 2\n",
    "\n",
    "Exercises rating:\n",
    "\n",
    "★☆☆ - You should be able to do it based on Python knowledge plus the text.\n",
    "\n",
    "★★☆ - You will need to do extra thinking and some extra reading/searching.\n",
    "\n",
    "★★★ - The answer is difficult to find by a simple search,\n",
    "      requires you to do a considerable amount of extra work by yourself\n",
    "      (feel free to ignore these exercises if you're short on time)."
   ]
  },
  {
   "cell_type": "markdown",
   "metadata": {},
   "source": [
    "Note: Some of the exercises in this section are way beyond what we cover.\n",
    "Instead, the exercises are a review of your general python programming knowledge.\n",
    "You can safely ignore these exercises, they are not necessary for what we learn later."
   ]
  },
  {
   "cell_type": "markdown",
   "metadata": {},
   "source": [
    "#### 1. Write a Python class that is instantiated with a list of numbers and has a **`.mean()`** method. (★☆☆)"
   ]
  },
  {
   "cell_type": "code",
   "execution_count": null,
   "metadata": {},
   "outputs": [],
   "source": []
  },
  {
   "cell_type": "markdown",
   "metadata": {},
   "source": [
    "#### 2. Save the following into a file called **`by_zero.py`**. (★★☆)\n",
    "\n",
    "```python\n",
    "def div_xy(x, y):\n",
    "    return x / y\n",
    "\n",
    "def div_by_zero(x):\n",
    "    return div_xy(x, 0.0)\n",
    "```\n",
    "\n",
    "**`import`** the module and execute the **`div_xy`** function to divide 10 by 2.\n",
    "\n",
    "P.S. You do not need to worry about an **`__init__.py`** file if the module is in the same directory."
   ]
  },
  {
   "cell_type": "code",
   "execution_count": null,
   "metadata": {},
   "outputs": [],
   "source": []
  },
  {
   "cell_type": "code",
   "execution_count": null,
   "metadata": {},
   "outputs": [],
   "source": []
  },
  {
   "cell_type": "markdown",
   "metadata": {},
   "source": [
    "#### 3. What is the difference between the *magic* in the following cells? (★★☆)\n",
    "\n",
    "Try to explain the differences between what you see."
   ]
  },
  {
   "cell_type": "code",
   "execution_count": null,
   "metadata": {},
   "outputs": [],
   "source": [
    "%xmode Plain\n",
    "import by_zero\n",
    "\n",
    "by_zero.div_by_zero(3)  # noqa: F821"
   ]
  },
  {
   "cell_type": "code",
   "execution_count": null,
   "metadata": {},
   "outputs": [],
   "source": [
    "%xmode Context\n",
    "import by_zero\n",
    "\n",
    "by_zero.div_by_zero(3)  # noqa: F821"
   ]
  },
  {
   "cell_type": "code",
   "execution_count": null,
   "metadata": {},
   "outputs": [],
   "source": [
    "%xmode Verbose\n",
    "import by_zero\n",
    "\n",
    "by_zero.div_by_zero(3)  # noqa: F821"
   ]
  },
  {
   "cell_type": "markdown",
   "metadata": {},
   "source": [
    "#### 4. Use `%pdb on` to print out the value of `y` (inside `div_xy`) just before the division by zero. (★★★)"
   ]
  },
  {
   "cell_type": "code",
   "execution_count": null,
   "metadata": {},
   "outputs": [],
   "source": [
    "import by_zero\n",
    "\n",
    "by_zero.div_by_zero(3)"
   ]
  },
  {
   "cell_type": "markdown",
   "metadata": {},
   "source": [
    "#### 5. Use `%timeit` to time a function that sums the elements of a list, compare it with `np.sum` (★★☆)\n",
    "\n",
    "You can use **`np.arange(1024)`** to create a list of the first 1024 integers.\n",
    "Here is a start (this exercise ought to take a while to run):"
   ]
  },
  {
   "cell_type": "code",
   "execution_count": null,
   "metadata": {},
   "outputs": [],
   "source": [
    "def sums_all(numbers: list[int | float]) -> int | float:\n",
    "    pass"
   ]
  },
  {
   "cell_type": "code",
   "execution_count": null,
   "metadata": {},
   "outputs": [],
   "source": [
    "import numpy as np\n",
    "\n",
    "long_list = np.arange(1024)\n",
    "%timeit np.sum(long_list)\n",
    "%timeit # your function"
   ]
  },
  {
   "cell_type": "markdown",
   "metadata": {},
   "source": [
    "#### 6. Use `%prun` to profile the function you wrote in exercise 5. (★★★)"
   ]
  },
  {
   "cell_type": "code",
   "execution_count": null,
   "metadata": {},
   "outputs": [],
   "source": [
    "import numpy as np\n",
    "\n",
    "long_list = np.arange(32256)"
   ]
  }
 ],
 "metadata": {
  "kernelspec": {
   "display_name": ".venv",
   "language": "python",
   "name": "python3"
  },
  "language_info": {
   "codemirror_mode": {
    "name": "ipython",
    "version": 3
   },
   "file_extension": ".py",
   "mimetype": "text/x-python",
   "name": "python",
   "nbconvert_exporter": "python",
   "pygments_lexer": "ipython3",
   "version": "3.11.12"
  }
 },
 "nbformat": 4,
 "nbformat_minor": 4
}
