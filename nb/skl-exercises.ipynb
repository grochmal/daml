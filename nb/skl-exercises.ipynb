{
 "cells": [
  {
   "cell_type": "markdown",
   "metadata": {},
   "source": [
    "# 06.05 SciKit Learn Exercises\n",
    "\n",
    "Exercises rating:\n",
    "\n",
    "★☆☆ - You should be able to based on Python knowledge plus the text.\n",
    "\n",
    "★★☆ - You will need to do extra thinking and some extra reading/searching.\n",
    "\n",
    "★★★ - The answer is difficult to find by a simple search,\n",
    "      requires you to do a considerable amount of extra work by yourself\n",
    "      (feel free to ignore these exercises if you're short on time)."
   ]
  },
  {
   "cell_type": "markdown",
   "metadata": {},
   "source": [
    "We will use the [penguin dataset][penguin] collected by the [Palmer Station in Antarctica][palmer].\n",
    "The set is composed of data on $344$ penguins found on three islands from the Palmer Archipelago\n",
    "at the end of the Antarctic peninsula.\n",
    "There are $4$ numeric measures done on each penguin, and its species, its gender and location is given.\n",
    "The dataset has $3$ penguin species and $11$ rows of missing data.\n",
    "\n",
    "[penguin]: https://github.com/allisonhorst/palmerpenguins \"Pegnuins\"\n",
    "[palmer]: https://pal.lternet.edu/ \"Palmer Station\"\n",
    "\n",
    "The numerical measures will allow us to build classifiers for the\n",
    "non numerical columns.\n",
    "The `KNeighborsClassifier` work in a similar fashion to the classifier\n",
    "we have built ourselves,\n",
    "use its `fit` and `predict` methods."
   ]
  },
  {
   "cell_type": "code",
   "execution_count": null,
   "metadata": {},
   "outputs": [],
   "source": [
    "import numpy as np\n",
    "from sklearn.preprocessing import LabelEncoder\n",
    "from sklearn.model_selection import train_test_split\n",
    "from sklearn.metrics import accuracy_score\n",
    "from sklearn.neighbors import KNeighborsClassifier\n",
    "import seaborn as sns\n",
    "numeric = ['bill_length_mm', 'bill_depth_mm', 'flipper_length_mm', 'body_mass_g']\n",
    "penguins = sns.load_dataset('penguins').dropna()\n",
    "penguins"
   ]
  },
  {
   "cell_type": "markdown",
   "metadata": {},
   "source": [
    "### 1. Generate numeric labels for \"species\", \"island\" and \"sex\" columns. (★☆☆)"
   ]
  },
  {
   "cell_type": "code",
   "execution_count": null,
   "metadata": {},
   "outputs": [],
   "source": []
  },
  {
   "cell_type": "markdown",
   "metadata": {},
   "source": [
    "### 2. Build a (kNN) classifier for the gender of a penguin. (★☆☆)\n",
    "\n",
    "Split the dataset into a training set and a testing set and check\n",
    "the classifier with `accuracy_score` against the testing set.\n",
    "The number of neighbors in `sklearn`'s `KNeighborsClassifier`\n",
    "is specified with the `n_neighbors` parameters.\n",
    "Use `n_neighbors=3`."
   ]
  },
  {
   "cell_type": "code",
   "execution_count": null,
   "metadata": {},
   "outputs": [],
   "source": []
  },
  {
   "cell_type": "markdown",
   "metadata": {},
   "source": [
    "### 3. Find a good value for `n_neighbors` in the penguin gender classifier. (★★☆)\n",
    "\n",
    "Run the classifier training in a loop and print the accuracy score\n",
    "for different values of `n_neighbors=`.\n",
    "Values up to `n_neighbors=20` should be enough."
   ]
  },
  {
   "cell_type": "code",
   "execution_count": null,
   "metadata": {},
   "outputs": [],
   "source": []
  },
  {
   "cell_type": "markdown",
   "metadata": {},
   "source": [
    "### 4. Build a classifier for penguin species and find a good value for `n_neighbors` on this classifier. (★★☆)"
   ]
  },
  {
   "cell_type": "code",
   "execution_count": null,
   "metadata": {},
   "outputs": [],
   "source": []
  },
  {
   "cell_type": "markdown",
   "metadata": {},
   "source": [
    "### 5. Build a classifier (and find a good value for `n_neighbors`) for the island from where the penguins comes. (★★☆)"
   ]
  },
  {
   "cell_type": "code",
   "execution_count": null,
   "metadata": {},
   "outputs": [],
   "source": []
  },
  {
   "cell_type": "markdown",
   "metadata": {},
   "source": [
    "### 6. Describe which classifiers do better with small values or big values for `n_neighbors` (★★☆)\n",
    "\n",
    "Run the previous exercises several times in order to get different splits of training and test sets.\n",
    "The accuracy may vary dependent on the split but the values for `n_neighbors` should be similar\n",
    "in each run."
   ]
  },
  {
   "cell_type": "markdown",
   "metadata": {},
   "source": []
  }
 ],
 "metadata": {
  "anaconda-cloud": {},
  "kernelspec": {
   "display_name": ".venv",
   "language": "python",
   "name": "python3"
  },
  "language_info": {
   "codemirror_mode": {
    "name": "ipython",
    "version": 3
   },
   "file_extension": ".py",
   "mimetype": "text/x-python",
   "name": "python",
   "nbconvert_exporter": "python",
   "pygments_lexer": "ipython3",
   "version": "3.11.12"
  }
 },
 "nbformat": 4,
 "nbformat_minor": 4
}
