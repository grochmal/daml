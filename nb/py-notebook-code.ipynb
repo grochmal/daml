{
 "cells": [
  {
   "cell_type": "markdown",
   "metadata": {},
   "source": [
    "# 01.01 Running Code in the Notebook\n",
    "\n",
    "Let's try running some code in the notebook.\n",
    "And learn about some IPython extras that are not available in normal Python."
   ]
  },
  {
   "cell_type": "markdown",
   "metadata": {},
   "source": [
    "Remind yourself that to run a code cell one can use the `run` button\n",
    "at the top or use one of the keyboard shortcuts.\n",
    "The shortcuts for running a cell were:\n",
    "\n",
    "- `Alt + Enter` runs the current cell and inserts a new code cell below.\n",
    "- `Shift + Enter` runs current cell and goes to the next cell.\n",
    "- `Ctrl + Enter` runs the current cell and stays on the same cell."
   ]
  },
  {
   "cell_type": "markdown",
   "metadata": {},
   "source": [
    "## Cell state is for the entire notebook - aka. Global State\n",
    "\n",
    "The kernel state changes by running cells,\n",
    "and one can reference variables defined in other cells.\n",
    "Note that this can catch you unaware if you redefine a variable."
   ]
  },
  {
   "cell_type": "code",
   "execution_count": 1,
   "metadata": {},
   "outputs": [],
   "source": [
    "x = 42"
   ]
  },
  {
   "cell_type": "code",
   "execution_count": 2,
   "metadata": {},
   "outputs": [
    {
     "name": "stdout",
     "output_type": "stream",
     "text": [
      "the answer is 42\n"
     ]
    }
   ],
   "source": [
    "print(\"the answer is\", x)"
   ]
  },
  {
   "cell_type": "markdown",
   "metadata": {},
   "source": [
    "In general software engineering this is called *global state*,\n",
    "and it is considered a very bad practice.\n",
    "Yet, for the notebook this comes in as a friendly feature.\n",
    "Since you can reference things in other (often earlier) cells\n",
    "you can run the notebook sequentially and build on previous code.\n",
    "The downside of global state is that making notebooks into\n",
    "full python scripts may not be the best engineering solution\n",
    "for a large python application.\n",
    "\n",
    "Also, since $42$ is the answer, the *[The Hitchhiker's Guide to the Galaxy][galaxy]*,\n",
    "may or may not be a requirement to understand some examples.\n",
    "Whenever we find it useful for doing machine learning or not,\n",
    "it is a worth lecture on the state of modern technology.\n",
    "\n",
    "[galaxy]: https://en.wikipedia.org/wiki/The_Hitchhiker%27s_Guide_to_the_Galaxy"
   ]
  },
  {
   "cell_type": "markdown",
   "metadata": {},
   "source": [
    "If we are after a single value only we do not need to print it.\n",
    "The notebook will always print out the value of the last statement in the cell.\n",
    "That is, unless that value is `None` or an empty statement.\n",
    "(Note that adding an empty statement, i.e. `;`, at the end of a cell\n",
    "is a good way to suppress the output of the last value.)"
   ]
  },
  {
   "cell_type": "code",
   "execution_count": 3,
   "metadata": {},
   "outputs": [
    {
     "data": {
      "text/plain": [
       "'the answer is 42'"
      ]
     },
     "execution_count": 3,
     "metadata": {},
     "output_type": "execute_result"
    }
   ],
   "source": [
    "\"the answer is \" + str(x)"
   ]
  },
  {
   "cell_type": "code",
   "execution_count": 4,
   "metadata": {},
   "outputs": [],
   "source": [
    "\"the answer is \" + str(x);"
   ]
  },
  {
   "cell_type": "markdown",
   "metadata": {},
   "source": [
    "![Global State](py-global-state.svg)\n",
    "\n",
    "<div style=\"text-align:right;\"><sup>py-global-state.svg</sup></div>\n",
    "\n",
    "<div style=\"font-size: 0.9em; border: 0.3em double teal; border-radius: 0.5em; padding: 0.5em;\">\n",
    "    There is a curious fact here on how we humans associate concepts and images.\n",
    "    We think of the global state in this image as a state encompassing the entire planet,\n",
    "    in this case we do it by imagining the two major competitors in the Cold War\n",
    "    (in the second half of the 20th century) unifying under a common banner.\n",
    "    Here we have Uncle Sam (initials U.S.) - the personification of the United States government,\n",
    "    and Joseph Stalin - the most significant leader of the Soviet Union.\n",
    "    The juxtaposition of the figures brings to our minds the concept of the Cold War between\n",
    "    the Soviet Union and the United States.\n",
    "    Yet neither of the figures lived through or was related to the Cold War!\n",
    "    Uncle Sam was a patriotic figure in the US wars of independence,\n",
    "    and Stalin died before the period that we know as the Cold War\n",
    "    (or perhaps more exactly Stalin's death was one of the main event leading to the Cold War).\n",
    "</div>"
   ]
  },
  {
   "cell_type": "markdown",
   "metadata": {},
   "source": [
    "## Restarting - the Kernel\n",
    "\n",
    "The kernel is the process that is executing the python code we run.\n",
    "The kernel may start an operation that takes too long, or, sometimes, just crash.\n",
    "In such a case one needs to restart the kernel:\n",
    "there is a button to perform this at the top of the interface\n",
    "(the *restart* button)\n",
    "but it can be also performed by hitting `00` (double zero) in command mode.\n",
    "\n",
    "**After restarting, all state of the kernel (including variables) is lost.**\n",
    "You will need to rerun all cells you wish to work with.\n",
    "Also, when you start a notebook anew or continue a previously shutdown notebook,\n",
    "a new kernel with clean state is attached to it.\n",
    "In other words, saving the notebook does not save kernel state.\n",
    "\n",
    "A good practice thereof is to build a notebook sequentially.\n",
    "Where cells that appear later are only dependent on code that is above them.\n",
    "This sounds harder than it actually is,\n",
    "the typical behavior when experimenting is to keep going down in the notebook,\n",
    "and add new cells downwards, as we keep writing more python code."
   ]
  },
  {
   "cell_type": "markdown",
   "metadata": {},
   "source": [
    "## Output \n",
    "\n",
    "What is printed (to standard output) in the cell is displayed as its output.\n",
    "And what is printed to the standard error stream is displayed in red.\n",
    "This is not very useful in the code you write in the notebook itself but,\n",
    "since most python libraries print warnings to standard error,\n",
    "a red printout means that an internal warning of some sort got triggered."
   ]
  },
  {
   "cell_type": "code",
   "execution_count": 5,
   "metadata": {},
   "outputs": [
    {
     "name": "stdout",
     "output_type": "stream",
     "text": [
      "cookies!\n"
     ]
    }
   ],
   "source": [
    "print(\"cookies!\")"
   ]
  },
  {
   "cell_type": "code",
   "execution_count": 6,
   "metadata": {},
   "outputs": [
    {
     "name": "stderr",
     "output_type": "stream",
     "text": [
      "the cookie jar is empty\n"
     ]
    }
   ],
   "source": [
    "import sys\n",
    "\n",
    "print(\"the cookie jar is empty\", file=sys.stderr)"
   ]
  },
  {
   "cell_type": "markdown",
   "metadata": {},
   "source": [
    "Therefore whenever you get a red printout,\n",
    "it is wise to check it closely.\n",
    "Often, most warnings can be ignored,\n",
    "but a handful of warnings may be indication of problems\n",
    "that are very difficult to find and debug.\n",
    "The good practice is that one is only allowed to ignore\n",
    "a warning he fully understands the provenance of."
   ]
  },
  {
   "cell_type": "markdown",
   "metadata": {},
   "source": [
    "## Communication with the Kernel\n",
    "\n",
    "The code in the cells is executed by the kernel synchronously\n",
    "but the communication with the kernel is asynchronous.\n",
    "The interface is therefore responsive but one needs to wait for the previous\n",
    "operation to finish before new output can be generated.\n",
    "\n",
    "If you are seeing this in the notebook, execute the next two cells in quick succession.\n",
    "If you are reading the plain text I strongly suggest you try out the notebook,\n",
    "programming - as mathematics - is not a spectator sport."
   ]
  },
  {
   "cell_type": "code",
   "execution_count": 7,
   "metadata": {},
   "outputs": [],
   "source": [
    "import time\n",
    "\n",
    "time.sleep(7)"
   ]
  },
  {
   "cell_type": "code",
   "execution_count": 8,
   "metadata": {},
   "outputs": [
    {
     "name": "stdout",
     "output_type": "stream",
     "text": [
      "finished\n"
     ]
    }
   ],
   "source": [
    "print(\"finished\")"
   ]
  },
  {
   "cell_type": "markdown",
   "metadata": {},
   "source": [
    "The behavior is that the second cell will only execute\n",
    "after the first cell completes.\n",
    "Yet, the notebook interface will not prevent you from executing\n",
    "the second cells whilst the first one is running.\n",
    "The second cell with then be queued to execute as soon\n",
    "as the first cell finishes.\n",
    "This is useful to remember.\n",
    "If you execute a cell but it is not running straight away\n",
    "it means that the kernel is placing cells on a queue,\n",
    "and will continue to do so as long\n",
    "as it waits for some earlier cell to execute.\n",
    "You need to find the culprit cell that is taking a long time to execute\n",
    "and decide whether to wait for it or stop the execution."
   ]
  },
  {
   "cell_type": "markdown",
   "metadata": {},
   "source": [
    "## Asynchronous Output\n",
    "\n",
    "Let's see the asynchronous communication in action.\n",
    "By running the following code the jupyter interface will slowly build the output."
   ]
  },
  {
   "cell_type": "code",
   "execution_count": 9,
   "metadata": {},
   "outputs": [
    {
     "name": "stdout",
     "output_type": "stream",
     "text": [
      "0\n",
      "1\n",
      "2\n",
      "3\n",
      "4\n",
      "5\n",
      "6\n",
      "7\n",
      "8\n",
      "9\n"
     ]
    }
   ],
   "source": [
    "for i in range(10):\n",
    "    print(i)\n",
    "    time.sleep(0.5)"
   ]
  },
  {
   "cell_type": "markdown",
   "metadata": {},
   "source": [
    "If a cell is expected to run for a long time,\n",
    "something that we will be doing when training expensive models,\n",
    "one can execute a printout every a handful of computations\n",
    "in order to see the progress of the code.\n",
    "Debugging complex code is often easier by well placed printouts,\n",
    "rather than complex debuggers."
   ]
  },
  {
   "cell_type": "markdown",
   "metadata": {},
   "source": [
    "For very large outputs a scrollbar will be added.\n",
    "To control the scrolling there are options -\n",
    "*Enable/Disable Scrolling for Outputs* - in the context menu of the cell.\n",
    "Of course, if you are reading the plain text there will be no scroll bar.\n",
    "The scroll bar and the asynchronous output work well together,\n",
    "therefore you do not need to be careful of printing too much from inside a large calculation."
   ]
  },
  {
   "cell_type": "code",
   "execution_count": 10,
   "metadata": {
    "scrolled": true
   },
   "outputs": [
    {
     "name": "stdout",
     "output_type": "stream",
     "text": [
      "0\n",
      "1\n",
      "4\n",
      "9\n",
      "16\n",
      "25\n",
      "36\n",
      "49\n",
      "64\n",
      "81\n",
      "100\n",
      "121\n",
      "144\n",
      "169\n",
      "196\n",
      "225\n",
      "256\n",
      "289\n",
      "324\n",
      "361\n"
     ]
    }
   ],
   "source": [
    "for i in range(20):\n",
    "    print(i**2)"
   ]
  },
  {
   "cell_type": "markdown",
   "metadata": {},
   "source": [
    "And these are pretty much all the basics needed\n",
    "in order to use the jupyter notebook to run python code.\n",
    "Jupyter, of course, has much more to offer\n",
    "but our objective is to learn the tools for machine learning,\n",
    "and that's enough of jupyter.\n",
    "Feel free to explore the full jupyter documentation:\n",
    "\n",
    "- The Jupyter Project: <https://jupyter.org/>\n",
    "- Jupyter Lab Interface: <https://jupyterlab.readthedocs.io/en/stable/>\n",
    "- The Notebook: <https://nbformat.readthedocs.io/en/latest/>"
   ]
  },
  {
   "cell_type": "markdown",
   "metadata": {},
   "source": [
    "## Extra References\n",
    "\n",
    "* [Jupyter Notebook - Running Code][1]\n",
    "\n",
    "[1]: https://jupyter-notebook.readthedocs.io/en/stable/examples/Notebook/Running%20Code.html"
   ]
  }
 ],
 "metadata": {
  "anaconda-cloud": {},
  "kernelspec": {
   "display_name": "Python 3",
   "language": "python",
   "name": "python3"
  },
  "language_info": {
   "codemirror_mode": {
    "name": "ipython",
    "version": 3
   },
   "file_extension": ".py",
   "mimetype": "text/x-python",
   "name": "python",
   "nbconvert_exporter": "python",
   "pygments_lexer": "ipython3",
   "version": "3.7.6"
  }
 },
 "nbformat": 4,
 "nbformat_minor": 4
}
