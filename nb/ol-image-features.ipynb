{
 "cells": [
  {
   "cell_type": "markdown",
   "metadata": {},
   "source": [
    "# 10.07 Image Features\n",
    "\n",
    "Feature extraction is likely the most important, time consuming and nerve eating\n",
    "activity in a machine learning pipeline.\n",
    "Given enough data (millions of samples) we can perform feature extraction automatically,\n",
    "yet that isn't viable in most cases.\n",
    "For different types of data specialized feature extraction techniques exist.\n",
    "Images probably have the most extensive number of feature building techniques."
   ]
  },
  {
   "cell_type": "markdown",
   "metadata": {},
   "source": [
    "![Rembrandt](ol-rembrandt.svg)\n",
    "\n",
    "<div style=\"text-align:right;\"><sup>ol-rembrandt.svg</sup></div>"
   ]
  },
  {
   "cell_type": "markdown",
   "metadata": {},
   "source": [
    "Working with images we have been using pixel values as input to our models.\n",
    "That is one way of doing things but it isn't the most effective way in practice.\n",
    "Years of computer vision research did produce techniques for feature extraction\n",
    "that easily outperform any form of PCA or fold learning.\n",
    "\n",
    "In the Python world the `scikit-image` is the framework for image manipulation using NumPy arrays.  \n",
    "And it is integrated with `matplotlib` too, we import these things fro now."
   ]
  },
  {
   "cell_type": "code",
   "execution_count": 3,
   "metadata": {},
   "outputs": [],
   "source": [
    "import numpy as np\n",
    "import matplotlib.pyplot as plt\n",
    "%matplotlib inline\n",
    "plt.style.use('seaborn-v0_8-talk')"
   ]
  },
  {
   "cell_type": "markdown",
   "metadata": {},
   "source": [
    "`scikit-image`, imported as `skimage`, has several test images, all are just NumPy arrays."
   ]
  },
  {
   "cell_type": "code",
   "execution_count": null,
   "metadata": {},
   "outputs": [],
   "source": [
    "from skimage import data\n",
    "\n",
    "camera = data.camera()\n",
    "camera.shape"
   ]
  },
  {
   "cell_type": "markdown",
   "metadata": {},
   "source": [
    "A two dimensional NumPy array is a gray-scale image."
   ]
  },
  {
   "cell_type": "code",
   "execution_count": null,
   "metadata": {},
   "outputs": [],
   "source": [
    "fit, ax = plt.subplots(figsize=(10, 10))\n",
    "ax.imshow(camera, cmap='gray');"
   ]
  },
  {
   "cell_type": "markdown",
   "metadata": {},
   "source": [
    "A color image is a three dimensional image where the last (rightmost)\n",
    "dimension are the color channels (most often but not always RGB).\n",
    "`skimage` tries to build standards for image representations as arrays,\n",
    "their standards are:\n",
    "\n",
    "| image                      | coordinates                   |\n",
    "|:-------------------------- |:----------------------------- |\n",
    "| 2D gray-scale              | (row, column)                 |\n",
    "| 2D color image             | (row, column, channel)        |\n",
    "| 3D gray-scale (e.g. video) | (frame, row, column)          |\n",
    "| 3D color (e.g. video)      | (frame, row, column, channel) |"
   ]
  },
  {
   "cell_type": "code",
   "execution_count": null,
   "metadata": {},
   "outputs": [],
   "source": [
    "fit, ax = plt.subplots(figsize=(10, 10))\n",
    "coffee = data.coffee()\n",
    "ax.imshow(coffee)\n",
    "coffee.shape"
   ]
  },
  {
   "cell_type": "markdown",
   "metadata": {},
   "source": [
    "To be fair, videos are complicated to load into NumPy arrays.\n",
    "This is mostly due to inter-frame compression in several video formats.\n",
    "Tools, such as `moviepy` or `imageio`, can deal with several video formats\n",
    "but if one can simply dismantle the video into a directory of frames it often produces better results.\n",
    "\n",
    "Images can be read directly into NumPy arrays with `skimage`.\n",
    "Most formats are supported, with a couple of special procedures to load TIFF and GIF files."
   ]
  },
  {
   "cell_type": "code",
   "execution_count": null,
   "metadata": {},
   "outputs": [],
   "source": [
    "from skimage import io\n",
    "\n",
    "tulp = io.imread('ol-rembrandt-tulp.png')"
   ]
  },
  {
   "cell_type": "markdown",
   "metadata": {},
   "source": [
    "Again, this is just a NumPy array, therefore we can plot it."
   ]
  },
  {
   "cell_type": "code",
   "execution_count": null,
   "metadata": {},
   "outputs": [],
   "source": [
    "fit, ax = plt.subplots(figsize=(12, 12))\n",
    "ax.imshow(tulp)\n",
    "tulp.shape"
   ]
  },
  {
   "cell_type": "markdown",
   "metadata": {},
   "source": [
    "The Anatomy Lesson of Dr Tulp is a rather difficult image to process\n",
    "due to irregular lighting.\n",
    "It hence is also a very interesting image to process.\n",
    "\n",
    "You may have noticed that the $y$ coordinate of the displayed images is going from top to bottom.\n",
    "This is the common representation in images, despite being different from a Cartesian graph.\n",
    "The NumPy array we did just read is ordered in the way the axes above show.\n",
    "\n",
    "We said that the last dimension of the array are the channels,\n",
    "therefore separating the RGB channels is easy."
   ]
  },
  {
   "cell_type": "code",
   "execution_count": null,
   "metadata": {},
   "outputs": [],
   "source": [
    "fit, ax = plt.subplots(1, 3, figsize=(14, 5))\n",
    "component = ['R', 'G', 'B']\n",
    "for i in range(3):\n",
    "    ax.flat[i].imshow(tulp[:, :, i], cmap='gray')\n",
    "    ax.flat[i].set_title(component[i])\n",
    "    ax.flat[i].axis('off')"
   ]
  },
  {
   "cell_type": "markdown",
   "metadata": {},
   "source": [
    "But RGB channels are device specific,\n",
    "and, therefore, very poor for image features.\n",
    "\n",
    "Instead, other representations such as HSV (Hue, Saturation and Value/Lightness) or LAB are both:\n",
    "device independent and close to how a human sees an image."
   ]
  },
  {
   "cell_type": "code",
   "execution_count": null,
   "metadata": {},
   "outputs": [],
   "source": [
    "from skimage import color\n",
    "\n",
    "tulp_hsv = color.rgb2hsv(tulp)\n",
    "tulp_lab = color.rgb2lab(tulp)\n",
    "fit, ax = plt.subplots(3, 3, figsize=(12, 12))\n",
    "tulp_arr = [tulp, tulp_hsv, tulp_lab]\n",
    "repr_arr = ['RGB', 'HSV', 'LAB']\n",
    "for i in range(3):\n",
    "    for j in range(3):\n",
    "        ax[i, j].imshow(tulp_arr[i][:, :, j], cmap='gray')\n",
    "        if j == 1:\n",
    "            ax[i, j].set_title(repr_arr[i])\n",
    "        ax[i, j].axis('off')"
   ]
  },
  {
   "cell_type": "markdown",
   "metadata": {},
   "source": [
    "The $V$ in HSV and the $L$ in LAB representations are actually\n",
    "the transformation we perform when we convert an image to gray-scale.\n",
    "On a decent piece of software that is,\n",
    "bad software often does $R/3 + G/3 +B/3$.\n",
    "\n",
    "`skimage`'s `feature` then has several features that make sense on the lightness ($L$) of an image.\n",
    "The Canny filter is a feature that describes where the image changes the most.\n",
    "It is a *kernel* that walks the image and differentiates between adjacent pixels.\n",
    "The idea of a path in an image *changing most* is a way of saying\n",
    "that we are suing a derivative.\n",
    "High derivatives are then set to one and low ones to zero.\n",
    "\n",
    "This kernel method on images is called a function *convolution*.\n",
    "This is not to be confused with SVM kernels.\n",
    "The `sigma=` argument is a sensitivity as to where draw the threshold\n",
    "between white and black values."
   ]
  },
  {
   "cell_type": "code",
   "execution_count": null,
   "metadata": {},
   "outputs": [],
   "source": [
    "from skimage import feature\n",
    "\n",
    "canny = feature.canny(tulp_lab[:, :, 0], sigma=3)\n",
    "fit, ax = plt.subplots(figsize=(10, 10))\n",
    "ax.imshow(canny, cmap='gray')\n",
    "ax.axis('off');"
   ]
  },
  {
   "cell_type": "markdown",
   "metadata": {},
   "source": [
    "The Sobel filter is similar to the Canny filter\n",
    "but it keeps the scaled values of all derivatives instead of forcing them to zero and one.\n",
    "Contrary to the Canny filter, Sobel does not have a parameter for image scaling\n",
    "therefore we need to do it ourselves.\n",
    "\n",
    "The LAB representation uses floating point numbers,\n",
    "which is acceptable for `skimage` algorithms.\n",
    "Yet `skimage` expects floating points representations to be scaled between\n",
    "$-1$ and $1$ or between $0$ and $1$.\n",
    "We scale the lightness channel between $0$ and $1$."
   ]
  },
  {
   "cell_type": "code",
   "execution_count": null,
   "metadata": {},
   "outputs": [],
   "source": [
    "from skimage import filters\n",
    "\n",
    "sobel = filters.sobel(tulp_lab[:, :, 0]/tulp_lab[:, :, 0].max())\n",
    "fit, ax = plt.subplots(figsize=(10, 10))\n",
    "ax.imshow(sobel, cmap='gray')\n",
    "ax.axis('off');"
   ]
  },
  {
   "cell_type": "markdown",
   "metadata": {},
   "source": [
    "In summary, taking the pixels as features of an image is just one\n",
    "of many possibilities.\n",
    "The pixels themselves are linear features,\n",
    "which may give us trouble when modeling non-linear problems.\n",
    "Filters such as the ones we saw and many, many others allow us\n",
    "to deal with non-linearity in a similar way as the non-linear projections we saw.\n",
    "But filters akin of these can also be understood,\n",
    "or learned by models."
   ]
  },
  {
   "cell_type": "markdown",
   "metadata": {},
   "source": [
    "## References\n",
    "\n",
    "- [SciKit Image Documentation][1]\n",
    "- [The image used is Rembrandt's \"Anatomy Lesson of Dr Tulp\" - Image from the VADS' NIRP Project][2]\n",
    "\n",
    "[1]: http://scikit-image.org/docs/stable/index.html \"SciKit Image\"\n",
    "[2]: https://vads.ac.uk/collections/NIRP/index.php \"VADS - NIRP\""
   ]
  }
 ],
 "metadata": {
  "kernelspec": {
   "display_name": "Python 3 (ipykernel)",
   "language": "python",
   "name": "python3"
  },
  "language_info": {
   "codemirror_mode": {
    "name": "ipython",
    "version": 3
   },
   "file_extension": ".py",
   "mimetype": "text/x-python",
   "name": "python",
   "nbconvert_exporter": "python",
   "pygments_lexer": "ipython3",
   "version": "3.13.2"
  }
 },
 "nbformat": 4,
 "nbformat_minor": 4
}
