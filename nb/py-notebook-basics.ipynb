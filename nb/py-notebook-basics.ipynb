{
 "cells": [
  {
   "cell_type": "markdown",
   "metadata": {},
   "source": [
    "# 01.00 Jupyter Lab and Notebooks\n",
    "\n",
    "In data science presenting our results is as important as achieving them.\n",
    "The *Jupyter* project (previously called *IPython* Notebook) provides a notebook\n",
    "application which allows runnable pieces of code to be mixed with text and images\n",
    "explaining them.\n",
    "Support for other languages, apart from Python, has been added\n",
    "a handful of years ago; although the notebook is still mostly a Python niche."
   ]
  },
  {
   "cell_type": "markdown",
   "metadata": {},
   "source": [
    "There are several flavors of notebooks in jupyter.\n",
    "One may be still use (some companies do) old Python 2 libraries\n",
    "and *IPython notebooks*; Python 2 is dead and buried, time to stop\n",
    "practicing necromancy and update to a modern language.\n",
    "The *Jupyter Notebook* application superseded the *IPython Notebook*\n",
    "and has been in use for a long time, although the application is\n",
    "finally starting to show its age.\n",
    "If you are familiar with the *Juputer Notebook* application feel\n",
    "free to use that to run the examples here, they all work\n",
    "in the *Jupyter Notebook* application.\n",
    "\n",
    "What we will use and describe is the *Jupyter Lab* application\n",
    "which can run notebooks, terminals, edit files and has many\n",
    "features on top of the Jupyter Notebook application.\n",
    "*Jupyter Lab* will soon supersede the Jupyter Notebook application,\n",
    "therefore we shall learn it for the future.\n",
    "First a note on terminology: The *Jupyter Lab* is the application\n",
    "that runs among other things jupyter notebooks;\n",
    "The *Jupyter Notebook* application is the older program used to\n",
    "run jupyter notebooks;\n",
    "A jupyter notebook is a file that can be run by either the *Jupyter Lab*\n",
    "application or the *Jupyter Notebook* application.\n",
    "Yes, that's as confusing as it looks.\n",
    "Try to read this paragraph thrice and try to differentiate\n",
    "the concepts in your mind.\n",
    "\n",
    "From now on we will reference *jupyter notebook*\n",
    "as the running notebook inside the application -\n",
    "preferably *Jupyter Lab* - on your machine.\n",
    "Similar to some well known editors (e.g. `vi`) the jupyter notebook is modal,\n",
    "i.e. it has modes where different commands are accepted.\n",
    "By default it has two modes an edit/input mode and a command/run mode.\n",
    "Some extensions provide more modes."
   ]
  },
  {
   "cell_type": "markdown",
   "metadata": {},
   "source": [
    "### IPython Kernel\n",
    "\n",
    "Behind the scenes the notebook is connected to a process which executes\n",
    "the commands and returns their results.\n",
    "The engine (called the kernel by the jupyter project) runs inside a local\n",
    "(or remote) webserver talking to the notebook.\n",
    "Communication between the notebook and the kernel is asynchronous,\n",
    "making for a very responsive interface."
   ]
  },
  {
   "cell_type": "markdown",
   "metadata": {},
   "source": [
    "## The Interface\n",
    "\n",
    "Opening Jupyter Lab one sees a left sidebar which shows the contents\n",
    "of the file system, and a right work area presenting buttons to create\n",
    "some of the supported files by Jupyter Lab.\n",
    "The general interface looks like the following:"
   ]
  },
  {
   "cell_type": "markdown",
   "metadata": {},
   "source": [
    "![Jupyter Lab Interface](py-jupyter-lab-interface.svg)\n",
    "\n",
    "<div style=\"text-align:right;\"><sup>py-jupyter-lab-interface.svg</sup></div>"
   ]
  },
  {
   "cell_type": "markdown",
   "metadata": {},
   "source": [
    "We will describe below a typical work flow through the interface below.\n",
    "But first let's write out a reference for each part so we\n",
    "have something to come back to."
   ]
  },
  {
   "cell_type": "markdown",
   "metadata": {},
   "source": [
    "Left Sidebar\n",
    "\n",
    "* Shows files in the current directory/folder.\n",
    "* Interactive view of a portion of the file system, you can enter/exit directories.\n",
    "* Starts in the directory where the notebook was started.\n",
    "* Will not go above where it was started.\n",
    "* Has options to create files (though a launcher) and directories.\n",
    "* The context menu (right click) has options for files (e.g. rename, download, delete, ...).\n",
    "* Extra tabs on the far left provide information on running notebook kernels."
   ]
  },
  {
   "cell_type": "markdown",
   "metadata": {},
   "source": [
    "Menu Bar\n",
    "\n",
    "* Contains common mnemonic operations, e.g. save the work.\n",
    "* Some keyboard shortcuts are displayed next to the actions."
   ]
  },
  {
   "cell_type": "markdown",
   "metadata": {},
   "source": [
    "Work Area\n",
    "\n",
    "* Shows currently running notebooks, terminals and file editors.\n",
    "* Divided into tabs, each tab may hold a different notebook, terminal or file.\n",
    "* Displays the language/kernel of each notebook.\n",
    "* Below the tabs action buttons are displayed for notebooks.\n",
    "* A **floppy disk** to save, a **play** button to run cells, a **stop** button and some edit buttons.\n",
    "* A drop down menu is available to select the type of a cell."
   ]
  },
  {
   "cell_type": "markdown",
   "metadata": {},
   "source": [
    "A typical work flow through a session is to:\n",
    "First open the Jupyter Lab and navigate in the left sidebar\n",
    "to the place where a notebook is to be created.\n",
    "Create the notebook from the launcher in the main work area.\n",
    "By default the notebook will be named *Untitled.ipynb*,\n",
    "one can rename it by right clicking the file in the left sidebar.\n",
    "\n",
    "Once the notebook is running one would add cells,\n",
    "often interleaved markdown and code cells.\n",
    "*Code cells* are the default when adding a cell,\n",
    "they contain Python code and can be run with the run button\n",
    "or with a handful of shortcuts.\n",
    "To run a code cell from the keyboard one can do:\n",
    "\n",
    "- **`Alt + Enter`** to run the *cell* and insert a new *code cell* below it.\n",
    "- **`Shift + Enter`** to run the *cell* and advance to the next *cell*.\n",
    "- **`Ctrl + Enter`** to run the *code cell* without moving.\n",
    "\n",
    "*Code cells* may produce *output* which is then displayed below the cell.\n",
    "The output can be a printout from the code or be\n",
    "more complex such as displaying an image or a graph.\n",
    "The last shortcut only works with code cells,\n",
    "yet it is probably the most useful shortcut when\n",
    "exploring notebooks written by someone else."
   ]
  },
  {
   "cell_type": "markdown",
   "metadata": {},
   "source": [
    "![Ctrl + Enter](py-ctrl-enter.svg)\n",
    "\n",
    "<div style=\"text-align:right;\"><sup>py-ctrl-enter.svg</sup></div>"
   ]
  },
  {
   "cell_type": "markdown",
   "metadata": {},
   "source": [
    "*Markdown* cells exist to annotate the document.\n",
    "The text you are reading has been originally written\n",
    "in markdown cells on a jupyter notebook.\n",
    "One changes from a code cell to a markdown cell by using\n",
    "the drop down menu at the top, or using the shortcuts:\n",
    "\n",
    "- **`Ctrl + 1`** makes the cell a code cell\n",
    "- **`Ctrl + 2`** makes the cell a markdown cell\n",
    "\n",
    "There also exist *raw cells*,\n",
    "these are for jupyter extensions that may create other cell types.\n",
    "\n",
    "*Markdown* is a very simple plain text format that can be easily\n",
    "transformed into an HTML presentation.\n",
    "It is similar to *LaTeX* in that paragraphs are separated by white lines;\n",
    "and is similar to plain text emails,\n",
    "where emphasis is done by surrounding words with asterisks or hyphens.\n",
    "There are several flavors of markdown but one can simply\n",
    "run the cell to see how the syntax presents itself.\n",
    "\n",
    "- The original markdown by John Gruber: <https://daringfireball.net/projects/markdown/>\n",
    "- The full flavor reference: <https://www.markdownguide.org/>"
   ]
  },
  {
   "cell_type": "markdown",
   "metadata": {},
   "source": [
    "The navigation across cells is modal,\n",
    "which means that a different set of commands work\n",
    "when one is editing a cell or when one is moving between cells.\n",
    "One can click on a selected cell or press **`Enter`** to enter\n",
    "the *edit mode* and modify the contents of the cell.\n",
    "By selecting another cell or pressing **`Esc`** one exits\n",
    "the edit mode and goes back to *command mode*,\n",
    "where cells can be moved up and down by dragging.\n",
    "\n",
    "When one closes the tab containing a notebook,\n",
    "the code running in it keeps going.\n",
    "In order to stop the Python code one must either\n",
    "shutdown the entire Jupyter Lab or select\n",
    "*Close and Shutdown Notebook*n the *File* menu.\n",
    "There are many more shortcuts to Jupyter\n",
    "but here is a handful of useful ones:\n",
    "\n",
    "- **`Ctrl + Shift + D`** Single Document Mode,\n",
    "  it hides the tabs until you execute the shortcut again.\n",
    "- **`Ctrl + Shift + Q`** Close and Shutdown Notebook,\n",
    "  as opposed to keep it running in the background.\n",
    "- **`Ctrl + S`** Saves the notebook."
   ]
  },
  {
   "cell_type": "markdown",
   "metadata": {},
   "source": [
    "### Interface Extras\n",
    "\n",
    "Apart from notebooks Jupyter Lab has other uses.\n",
    "Two significant features are the ability to edit text\n",
    "files directly on the file system and the ability\n",
    "to open a terminal in order to perform more advanced operations by hand.\n",
    "We will have a quick reference at these two:"
   ]
  },
  {
   "cell_type": "markdown",
   "metadata": {},
   "source": [
    "Text Editor\n",
    "\n",
    "* Edits a **plain text file**.\n",
    "* The default extension is `.txt`, changing that will guess the file syntax.\n",
    "* The syntax can be explicitly set in the *Text Editor Syntax Highlighting* menu.\n",
    "* Useful to persist some pure python scripts (or other languages).\n",
    "* For python the `__init__.py` file is still needed."
   ]
  },
  {
   "cell_type": "markdown",
   "metadata": {},
   "source": [
    "Terminal View\n",
    "\n",
    "* An actual `PTY` connected through a websocket.\n",
    "* A full `xterm` emulator on Linux/MacOS.\n",
    "* `PowerShell` on MS Windows."
   ]
  },
  {
   "cell_type": "markdown",
   "metadata": {},
   "source": [
    "Other Jupyter Lab features include a CSV (Comma Separated Value) visualizer\n",
    "and a display for several formats of images and graphs."
   ]
  },
  {
   "cell_type": "markdown",
   "metadata": {},
   "source": [
    "## IPython (the command)\n",
    "\n",
    "The `ipython` program (improved Python) is a command line interface that can\n",
    "be understood as another interface to an IPython Kernel (in reality the\n",
    "IPython Kernel is a modified `ipython` binary, since `ipython` is an older project).\n",
    "For quick exploration or just for people that prefer command line tools\n",
    "(your faithful here included), `ipython` is a good option.\n",
    "Later, after some experimentation,\n",
    "one can move the results to a notebook for presentation."
   ]
  },
  {
   "cell_type": "markdown",
   "metadata": {},
   "source": [
    "## Extra References\n",
    "\n",
    "* [Jupyter Lab - Interface][1]\n",
    "\n",
    "[1]: https://jupyterlab.readthedocs.io/en/stable/user/interface.html"
   ]
  }
 ],
 "metadata": {
  "anaconda-cloud": {},
  "kernelspec": {
   "display_name": ".venv",
   "language": "python",
   "name": "python3"
  },
  "language_info": {
   "codemirror_mode": {
    "name": "ipython",
    "version": 3
   },
   "file_extension": ".py",
   "mimetype": "text/x-python",
   "name": "python",
   "nbconvert_exporter": "python",
   "pygments_lexer": "ipython3",
   "version": "3.11.12"
  }
 },
 "nbformat": 4,
 "nbformat_minor": 4
}
