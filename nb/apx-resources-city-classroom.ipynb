{
 "cells": [
  {
   "cell_type": "markdown",
   "metadata": {},
   "source": [
    "# Resources\n",
    "\n",
    "It is useful to be familiar with the resources we have here at City."
   ]
  },
  {
   "cell_type": "markdown",
   "metadata": {},
   "source": [
    "## Classrooms\n",
    "\n",
    "-   We will be using [anaconda][] with Python 3.\n",
    "    Classroom machines come with it installed.\n",
    "\n",
    "-   Most resources, lectures and exercises will be provided as IPython/Jupyter Notebooks,\n",
    "    i.e. the `*.ipynb` format.\n",
    "\n",
    "-   The computers in the labs save your `U:` drive, everything else can be lost between logins.\n",
    "\n",
    "-   You can use up to 1GB of space on the `U:` drive.\n",
    "\n",
    "-   There are 10GBs on the [One Drive][drive] from Office 365 (next to your city [email][]).\n",
    "\n",
    "-   The **eduroam** network is available with your login (also outside of the classroom).\n",
    "\n",
    "Now, let's go to [moodle][] and download a shortcut that will allow us\n",
    "to start Jupyter Notebook (the thing that is currently displaying these notes)\n",
    "directly from the `U:` drive.\n",
    "\n",
    "[anaconda]: https://www.anaconda.com/products/individual#Downloads\n",
    "[drive]: https://cityuni-my.sharepoint.com\n",
    "[email]: https://email.city.ac.uk\n",
    "[moodle]: https://moodle.city.ac.uk"
   ]
  },
  {
   "cell_type": "markdown",
   "metadata": {},
   "source": [
    "## Extra\n",
    "\n",
    "- IT support, including printing  is in Room E101, Drysdale Building.\n",
    "- Printing is available at <https://mps.city.ac.uk>, where it can be topped up.\n",
    "- More information about printing is on the [intranet][print]\n",
    "- Fire alarms\n",
    "- My own presentation \n",
    "\n",
    "[print]: https://www.city.ac.uk/current-students/it-support/resources-and-facilities/printing"
   ]
  },
  {
   "cell_type": "markdown",
   "metadata": {},
   "source": [
    "## Evaluation\n",
    "\n",
    "The evaluation of the course happens\n",
    "by the informal discussion of the exercises performed.\n",
    "Therefore *do* discuss the exercises with us,\n",
    "we will be asking about the exercises during the\n",
    "Q&A sessions.\n",
    "The main objective for the course is that everyone attending does learn something.\n",
    "In other words, the objective of the course is not to present\n",
    "the entire material but to make sure that at least 70-80% of the material\n",
    "is understood by 70-80% of the students.\n",
    "\n",
    "The course always have a huge discrepancy among students,\n",
    "this is the nature of data science therefore we are in a good position.\n",
    "That said we do need to brush on a couple of prerequisites:\n",
    "We will be using **python** to program straight away,\n",
    "we will not be learning the language.\n",
    "We do a quick review of python but that's all.\n",
    "Also, we will need to basics in **mathematics**\n",
    "and statistics, although we do a quick review of that too\n",
    "when needed."
   ]
  },
  {
   "cell_type": "markdown",
   "metadata": {},
   "source": [
    "Also, what kind of people we have here today?\n",
    "The following list, which is by no means exhaustive,\n",
    "is how some students of data analytics and machine learning\n",
    "denominate themselves\n",
    "\n",
    "- ML managers (including project managers),\n",
    "  looking to understand their teams\n",
    "\n",
    "- Grad specialization,\n",
    "  after an undergrad course in possibly mathematics but\n",
    "  as esoteric as literature\n",
    "\n",
    "- Curious hackers, well they were very curious\n",
    "\n",
    "- Researchers from another area,\n",
    "  PhDs of biological and chemical sciences are common\n",
    "\n",
    "- Migration from another language,\n",
    "  Java, or C, or Web programmers looking out for what Python\n",
    "  has to offer\n",
    "\n",
    "The set of lecturers is also as unorthodox,\n",
    "we have or had some very distinct teachers:\n",
    "\n",
    "- A computational physicist going full circle through system\n",
    "  administration, gray hat hacking, and web optimization;\n",
    "  back into physics and machine learning\n",
    "\n",
    "- A self-taught programmer, who never completed an undergrad\n",
    "  but instead fell in love with all forms of machine learning.\n",
    "  With a motto: if the machine can learn what to do, then why teach it?\n",
    "\n",
    "- A quantum physicist, tired of working with Two Higgs\n",
    "  doublet models (2HDM) turned to data science.\n",
    "  Since then spent more time on machine learning than\n",
    "  ever on 2HDM."
   ]
  }
 ],
 "metadata": {
  "kernelspec": {
   "display_name": ".venv",
   "language": "python",
   "name": "python3"
  },
  "language_info": {
   "codemirror_mode": {
    "name": "ipython",
    "version": 3
   },
   "file_extension": ".py",
   "mimetype": "text/x-python",
   "name": "python",
   "nbconvert_exporter": "python",
   "pygments_lexer": "ipython3",
   "version": "3.11.12"
  }
 },
 "nbformat": 4,
 "nbformat_minor": 4
}
