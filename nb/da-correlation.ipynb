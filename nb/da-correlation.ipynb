{
 "cells": [
  {
   "cell_type": "markdown",
   "metadata": {},
   "source": [
    "# 05.02 Correlation and Statistics\n",
    "\n",
    "A statistic is a measure takes over data, and well, that is it.\n",
    "A statistic does *not* have a meaning,\n",
    "it it the interpreter of the statistic that give is the meaning.\n",
    "That sounds simple but it is too often forgotten.\n",
    "Hence I repeat it: a statistic has no meaning,\n",
    "the meaning is given by the interpreter of the statistic.\n",
    "\n",
    "The interpreter of the statistic is expected to have a reasonable\n",
    "understanding of the data.\n",
    "And he builds an understanding of the data by obtaining statistics\n",
    "on the data and analyzing every statistic taking into accordance\n",
    "all other statistics obtained.\n",
    "In summary, taking a piece of data, running one statistic\n",
    "and then saying something about that data based on that\n",
    "statistic alone is plain wrong."
   ]
  },
  {
   "cell_type": "markdown",
   "metadata": {},
   "source": [
    "We will look at a handful of fallacies when using the statistics we saw before.\n",
    "Notably how correlation shall not be trusted.\n",
    "For a start we import what we need."
   ]
  },
  {
   "cell_type": "code",
   "execution_count": null,
   "metadata": {},
   "outputs": [],
   "source": [
    "import numpy as np\n",
    "import pandas as pd\n",
    "import matplotlib.pyplot as plt"
   ]
  },
  {
   "cell_type": "markdown",
   "metadata": {},
   "source": [
    "![Mathematicians](da-gauss-euler.svg)\n",
    "\n",
    "<div style=\"text-align:right;\"><sup>da-gauss-euler.svg</sup></div>\n",
    "\n",
    "<div style=\"border: 0.3em double teal; border-radius: 0.5em; padding: 0.5em;\">\n",
    "    Gauss (left) and Euler (right) are considered to be the fathers of modern mathematics.\n",
    "    Often they are portrayed as rivals, an idea that is vastly incorrect.\n",
    "    Leonhard Euler was born in 1707 and died in 1783,\n",
    "    whilst Johann Carl Friedrich Gauss was born in 1777 and died in 1855.\n",
    "    Hence Euler passed away whilst Gauss was still 6 years old.\n",
    "    Despite the fact that Gauss was a child prodigy,\n",
    "    it is hard to believe that he would meet,\n",
    "    or even know of Euler at such a young age.\n",
    "</div>"
   ]
  },
  {
   "cell_type": "markdown",
   "metadata": {},
   "source": [
    "## Anscombe Quartet\n",
    "\n",
    "A tiny dataset of $4$ set of $11$ two dimensional points will be our guide.\n",
    "This small dataset is called the Anscombe quartet,\n",
    "it was developed by John Anscombe in 1937 to show that plain statistics\n",
    "do not represent well a set of data.\n",
    "\n",
    "In the early $20th$ century many believed that human understanding is faulty,\n",
    "and instead we can develop measures on data that can perform better\n",
    "than a biased human.\n",
    "As noble as the idea sounds it is quite impossible to achieve.\n",
    "Every attempt at infallible statistics only resulted in the development\n",
    "of counterexamples to that statistic.\n",
    "Unfortunately, the concept that humans are biased whilst statistics\n",
    "are undoubtedly correct is still propagated by many;\n",
    "despite the fact that the concept failed to bear fruit for a century now."
   ]
  },
  {
   "cell_type": "code",
   "execution_count": 2,
   "metadata": {},
   "outputs": [
    {
     "data": {
      "text/html": [
       "<div>\n",
       "<style scoped>\n",
       "    .dataframe tbody tr th:only-of-type {\n",
       "        vertical-align: middle;\n",
       "    }\n",
       "\n",
       "    .dataframe tbody tr th {\n",
       "        vertical-align: top;\n",
       "    }\n",
       "\n",
       "    .dataframe thead th {\n",
       "        text-align: right;\n",
       "    }\n",
       "</style>\n",
       "<table border=\"1\" class=\"dataframe\">\n",
       "  <thead>\n",
       "    <tr style=\"text-align: right;\">\n",
       "      <th></th>\n",
       "      <th>x1</th>\n",
       "      <th>y1</th>\n",
       "      <th>x2</th>\n",
       "      <th>y2</th>\n",
       "      <th>x3</th>\n",
       "      <th>y3</th>\n",
       "      <th>x4</th>\n",
       "      <th>y4</th>\n",
       "    </tr>\n",
       "  </thead>\n",
       "  <tbody>\n",
       "    <tr>\n",
       "      <th>0</th>\n",
       "      <td>10.0</td>\n",
       "      <td>8.04</td>\n",
       "      <td>10.0</td>\n",
       "      <td>9.14</td>\n",
       "      <td>10.0</td>\n",
       "      <td>7.46</td>\n",
       "      <td>8.0</td>\n",
       "      <td>6.58</td>\n",
       "    </tr>\n",
       "    <tr>\n",
       "      <th>1</th>\n",
       "      <td>8.0</td>\n",
       "      <td>6.95</td>\n",
       "      <td>8.0</td>\n",
       "      <td>8.14</td>\n",
       "      <td>8.0</td>\n",
       "      <td>6.77</td>\n",
       "      <td>8.0</td>\n",
       "      <td>5.76</td>\n",
       "    </tr>\n",
       "    <tr>\n",
       "      <th>2</th>\n",
       "      <td>13.0</td>\n",
       "      <td>7.58</td>\n",
       "      <td>13.0</td>\n",
       "      <td>8.74</td>\n",
       "      <td>13.0</td>\n",
       "      <td>12.74</td>\n",
       "      <td>8.0</td>\n",
       "      <td>7.71</td>\n",
       "    </tr>\n",
       "    <tr>\n",
       "      <th>3</th>\n",
       "      <td>9.0</td>\n",
       "      <td>8.81</td>\n",
       "      <td>9.0</td>\n",
       "      <td>8.77</td>\n",
       "      <td>9.0</td>\n",
       "      <td>7.11</td>\n",
       "      <td>8.0</td>\n",
       "      <td>8.84</td>\n",
       "    </tr>\n",
       "    <tr>\n",
       "      <th>4</th>\n",
       "      <td>11.0</td>\n",
       "      <td>8.33</td>\n",
       "      <td>11.0</td>\n",
       "      <td>9.26</td>\n",
       "      <td>11.0</td>\n",
       "      <td>7.81</td>\n",
       "      <td>8.0</td>\n",
       "      <td>8.47</td>\n",
       "    </tr>\n",
       "    <tr>\n",
       "      <th>5</th>\n",
       "      <td>14.0</td>\n",
       "      <td>9.96</td>\n",
       "      <td>14.0</td>\n",
       "      <td>8.10</td>\n",
       "      <td>14.0</td>\n",
       "      <td>8.84</td>\n",
       "      <td>8.0</td>\n",
       "      <td>7.04</td>\n",
       "    </tr>\n",
       "    <tr>\n",
       "      <th>6</th>\n",
       "      <td>6.0</td>\n",
       "      <td>7.24</td>\n",
       "      <td>6.0</td>\n",
       "      <td>6.13</td>\n",
       "      <td>6.0</td>\n",
       "      <td>6.08</td>\n",
       "      <td>8.0</td>\n",
       "      <td>5.25</td>\n",
       "    </tr>\n",
       "    <tr>\n",
       "      <th>7</th>\n",
       "      <td>4.0</td>\n",
       "      <td>4.26</td>\n",
       "      <td>4.0</td>\n",
       "      <td>3.10</td>\n",
       "      <td>4.0</td>\n",
       "      <td>5.39</td>\n",
       "      <td>19.0</td>\n",
       "      <td>12.50</td>\n",
       "    </tr>\n",
       "    <tr>\n",
       "      <th>8</th>\n",
       "      <td>12.0</td>\n",
       "      <td>10.84</td>\n",
       "      <td>12.0</td>\n",
       "      <td>9.13</td>\n",
       "      <td>12.0</td>\n",
       "      <td>8.15</td>\n",
       "      <td>8.0</td>\n",
       "      <td>5.56</td>\n",
       "    </tr>\n",
       "    <tr>\n",
       "      <th>9</th>\n",
       "      <td>7.0</td>\n",
       "      <td>4.82</td>\n",
       "      <td>7.0</td>\n",
       "      <td>7.26</td>\n",
       "      <td>7.0</td>\n",
       "      <td>6.42</td>\n",
       "      <td>8.0</td>\n",
       "      <td>7.91</td>\n",
       "    </tr>\n",
       "    <tr>\n",
       "      <th>10</th>\n",
       "      <td>5.0</td>\n",
       "      <td>5.68</td>\n",
       "      <td>5.0</td>\n",
       "      <td>4.74</td>\n",
       "      <td>5.0</td>\n",
       "      <td>5.73</td>\n",
       "      <td>8.0</td>\n",
       "      <td>6.89</td>\n",
       "    </tr>\n",
       "  </tbody>\n",
       "</table>\n",
       "</div>"
      ],
      "text/plain": [
       "      x1     y1    x2    y2    x3     y3    x4     y4\n",
       "0   10.0   8.04  10.0  9.14  10.0   7.46   8.0   6.58\n",
       "1    8.0   6.95   8.0  8.14   8.0   6.77   8.0   5.76\n",
       "2   13.0   7.58  13.0  8.74  13.0  12.74   8.0   7.71\n",
       "3    9.0   8.81   9.0  8.77   9.0   7.11   8.0   8.84\n",
       "4   11.0   8.33  11.0  9.26  11.0   7.81   8.0   8.47\n",
       "5   14.0   9.96  14.0  8.10  14.0   8.84   8.0   7.04\n",
       "6    6.0   7.24   6.0  6.13   6.0   6.08   8.0   5.25\n",
       "7    4.0   4.26   4.0  3.10   4.0   5.39  19.0  12.50\n",
       "8   12.0  10.84  12.0  9.13  12.0   8.15   8.0   5.56\n",
       "9    7.0   4.82   7.0  7.26   7.0   6.42   8.0   7.91\n",
       "10   5.0   5.68   5.0  4.74   5.0   5.73   8.0   6.89"
      ]
     },
     "execution_count": 2,
     "metadata": {},
     "output_type": "execute_result"
    }
   ],
   "source": [
    "ans = pd.DataFrame(dict(\n",
    "    x1=np.array([10.0, 8.0, 13.0, 9.0, 11.0, 14.0, 6.0, 4.0, 12.0, 7.0, 5.0]),\n",
    "    y1=np.array([8.04, 6.95, 7.58, 8.81, 8.33, 9.96, 7.24, 4.26, 10.84, 4.82, 5.68]),\n",
    "    x2=np.array([10.0, 8.0, 13.0, 9.0, 11.0, 14.0, 6.0, 4.0, 12.0, 7.0, 5.0]),\n",
    "    y2=np.array([9.14, 8.14, 8.74, 8.77, 9.26, 8.10, 6.13, 3.10, 9.13, 7.26, 4.74]),\n",
    "    x3=np.array([10.0, 8.0, 13.0, 9.0, 11.0, 14.0, 6.0, 4.0, 12.0, 7.0, 5.0]),\n",
    "    y3=np.array([7.46, 6.77, 12.74, 7.11, 7.81, 8.84, 6.08, 5.39, 8.15, 6.42, 5.73]),\n",
    "    x4=np.array([8.0, 8.0, 8.0, 8.0, 8.0, 8.0, 8.0, 19.0, 8.0, 8.0, 8.0]),\n",
    "    y4=np.array([6.58, 5.76, 7.71, 8.84, 8.47, 7.04, 5.25, 12.50, 5.56, 7.91, 6.89])\n",
    "))\n",
    "ans"
   ]
  },
  {
   "cell_type": "markdown",
   "metadata": {},
   "source": [
    "As said, we have $4$ set of data and nothing out of the ordinary can be seen about these sets.\n",
    "We will perform some statistics on these sets and check what comes out."
   ]
  },
  {
   "cell_type": "code",
   "execution_count": 3,
   "metadata": {},
   "outputs": [
    {
     "data": {
      "text/plain": [
       "(9.0, 9.0, 9.0, 9.0)"
      ]
     },
     "execution_count": 3,
     "metadata": {},
     "output_type": "execute_result"
    }
   ],
   "source": [
    "ans.x1.mean(), ans.x2.mean(), ans.x3.mean(), ans.x4.mean()"
   ]
  },
  {
   "cell_type": "markdown",
   "metadata": {},
   "source": [
    "The mean of all four sets seems to be the same.\n",
    "The numbers are quite different from each other but their sum is the same.\n",
    "A fair point, there are many (infinite) ways to select $11$\n",
    "number which all sum to $99$.\n",
    "\n",
    "Let's check the values for $y$ now."
   ]
  },
  {
   "cell_type": "code",
   "execution_count": 4,
   "metadata": {},
   "outputs": [
    {
     "data": {
      "text/plain": [
       "(7.500909090909093, 7.500909090909091, 7.500000000000001, 7.50090909090909)"
      ]
     },
     "execution_count": 4,
     "metadata": {},
     "output_type": "execute_result"
    }
   ],
   "source": [
    "ans.y1.mean(), ans.y2.mean(), ans.y3.mean(), ans.y4.mean()"
   ]
  },
  {
   "cell_type": "markdown",
   "metadata": {},
   "source": [
    "And these means are again pretty much the same.\n",
    "The same reasoning is valid here too.\n",
    "There are many way to select $11$ numbers so that their sum is around $82.5$.\n",
    "\n",
    "Now we should check the variance or standard deviation.\n",
    "One is just the square of the other so we can just check one of them."
   ]
  },
  {
   "cell_type": "code",
   "execution_count": 5,
   "metadata": {},
   "outputs": [
    {
     "data": {
      "text/plain": [
       "(3.3166247903554, 3.3166247903554, 3.3166247903554, 3.3166247903554)"
      ]
     },
     "execution_count": 5,
     "metadata": {},
     "output_type": "execute_result"
    }
   ],
   "source": [
    "ans.x1.std(), ans.x2.std(), ans.x3.std(), ans.x4.std()"
   ]
  },
  {
   "cell_type": "markdown",
   "metadata": {},
   "source": [
    "Now this is intriguing,\n",
    "the standard deviations are nearly the same for all values in $x$.\n",
    "The *spread* over the horizontal axis is the same for each set.\n",
    "\n",
    "Will the same be for the vertical axis?\n",
    "We shall check."
   ]
  },
  {
   "cell_type": "code",
   "execution_count": 6,
   "metadata": {},
   "outputs": [
    {
     "data": {
      "text/plain": [
       "(2.031568135925815, 2.0316567355016177, 2.030423601123667, 2.0305785113876023)"
      ]
     },
     "execution_count": 6,
     "metadata": {},
     "output_type": "execute_result"
    }
   ],
   "source": [
    "ans.y1.std(), ans.y2.std(), ans.y3.std(), ans.y4.std()"
   ]
  },
  {
   "cell_type": "markdown",
   "metadata": {},
   "source": [
    "And the standard deviation on the vertical axis is $2.03$ in all sets.\n",
    "By now we are expecting all things to be the same in the strange group\n",
    "of for sets of $11$ data points.\n",
    "\n",
    "Until now we have been checking statistics for every of the $8$ columns by itself\n",
    "But the quartet are $4$ sets, next we shall verify covariance between\n",
    "the corresponding values for $x$ and $y$.\n",
    "By now we know covariance can be scaled to give us correlation,\n",
    "so we will use correlation directly."
   ]
  },
  {
   "cell_type": "code",
   "execution_count": 7,
   "metadata": {},
   "outputs": [
    {
     "data": {
      "text/plain": [
       "(0.81642051634484, 0.8162365060002428, 0.8162867394895982, 0.8165214368885031)"
      ]
     },
     "execution_count": 7,
     "metadata": {},
     "output_type": "execute_result"
    }
   ],
   "source": [
    "def corr(x, y):\n",
    "    return np.corrcoef(x, y)[0, 1]\n",
    "\n",
    "corr(ans.x1, ans.y1), corr(ans.x2, ans.y2), corr(ans.x3, ans.y3), corr(ans.x4, ans.y4)"
   ]
  },
  {
   "cell_type": "markdown",
   "metadata": {},
   "source": [
    "And even the correlation between the four sets is the same.\n",
    "We created an extra helper function to take the relevant part of the\n",
    "return value from `corrcoef`.\n",
    "\n",
    "After all these statistics one may be inclined to believe that the\n",
    "for sets of $11$ points must look very similar to each other.\n",
    "Let's plot each set and see for ourselves."
   ]
  },
  {
   "cell_type": "code",
   "execution_count": 8,
   "metadata": {},
   "outputs": [
    {
     "data": {
      "image/png": "[encoded data removed]",
      "text/plain": [
       "<Figure size 1296x648 with 4 Axes>"
      ]
     },
     "metadata": {
      "needs_background": "light"
     },
     "output_type": "display_data"
    }
   ],
   "source": [
    "fig, ax = plt.subplots(2, 2, figsize=(18, 9))\n",
    "ax.flat[0].plot(ans.x1, ans.y1, 'o', color='crimson')\n",
    "ax.flat[1].plot(ans.x2, ans.y2, 'o', color='crimson')\n",
    "ax.flat[2].plot(ans.x3, ans.y3, 'o', color='crimson')\n",
    "ax.flat[3].plot(ans.x4, ans.y4, 'o', color='crimson')\n",
    "for axis in ax.flat:\n",
    "    axis.set(xlim=(0, 20), ylim=(0, 16))"
   ]
  },
  {
   "cell_type": "markdown",
   "metadata": {},
   "source": [
    "And the sets look *very different* from one another!\n",
    "The idea that simple measures can give us certainty over data is flawed.\n",
    "The Anscombe quartet is a simple example where huge differences can be\n",
    "seen on tiny and low dimensional sets.\n",
    "When the number of dimensions increases the chances of falling into\n",
    "statistical fallacies, such as the meaning of almost equal standard deviation,\n",
    "increases geometrically.\n",
    "And unless there is a well known solution to a problem to compare against,\n",
    "a handful of statistics does not have a meaning.\n",
    "\n",
    "Most problems do not have well known solutions.\n",
    "Do not be fooled that the meaning of a statistic in one problem\n",
    "(one dataset) will bear the same meaning in another problem.\n",
    "Also note how the last graph is a multivariate distribution\n",
    "of data values, with two peaks."
   ]
  },
  {
   "cell_type": "markdown",
   "metadata": {},
   "source": [
    "## Never Trust Correlation Alone!\n",
    "\n",
    "Let's take a completely different look at correlation,\n",
    "we will look at vectors.\n",
    "A vector is a combination of several scalar numbers in order\n",
    "do describe a position in several dimensions at once.\n",
    "We have been using NumPy arrays as vectors for a while now.\n",
    "For example:\n",
    "\n",
    "$$\n",
    "\\vec{v_1} = [3, 2, 7, 12]\n",
    "$$\n",
    "\n",
    "Is a vector representing a point in $4$ dimensional space.\n",
    "We will argue that we can represent a generic vector in $4$\n",
    "dimensions as:\n",
    "\n",
    "$$\n",
    "\\vec{v_1} = [a_1, b_1, c_1, d_1]\n",
    "$$\n",
    "\n",
    "Extending this to more or less dimensions should be easy.\n",
    "The length of the vector, or *euclidean norm*, is then defined as:\n",
    "\n",
    "$$\n",
    "\\Vert v_1 \\Vert = \\sqrt{a_1^2 + b_1^2 + c_1^2 + d_1^2}\n",
    "$$"
   ]
  },
  {
   "cell_type": "markdown",
   "metadata": {},
   "source": [
    "![Vector Projection](da-cosinus.svg)\n",
    "\n",
    "<div style=\"text-align:right;\"><sup>da-cosinus.svg</sup></div>"
   ]
  },
  {
   "cell_type": "markdown",
   "metadata": {},
   "source": [
    "And one of the operations defined on vectors is their scalar product:\n",
    "\n",
    "$$\n",
    "\\vec{v_1} \\cdot \\vec{v_2}\n",
    "= a_1 a_2 + b_1 b_2 + c_1 c_2 + d_1 d_2\n",
    "$$\n",
    "\n",
    "$$\n",
    "\\vec{v_1} \\cdot \\vec{v_2}\n",
    "= \\Vert v_1 \\Vert \\Vert v_2 \\Vert \\cos \\theta\n",
    "$$\n",
    "\n",
    "Where $\\theta$ is the angle between the two vectors.\n",
    "Note that in $4$ dimensions $2$ vectors form a plane,\n",
    "and on this plane the angle $\\theta$ can be measured.\n",
    "If we transform this last equation a little we can get\n",
    "$\\cos \\theta$ on one side:\n",
    "\n",
    "$$\n",
    "\\cos \\theta = \\frac{\\vec{v_1} \\cdot \\vec{v_2}}{\\Vert v_1 \\Vert \\Vert v_2 \\Vert}\n",
    "$$\n",
    "\n",
    "And now I'll argue that $\\cos \\theta$ is just the value of *correlation*.\n",
    "What?  Let's just do the code and see what it means later."
   ]
  },
  {
   "cell_type": "code",
   "execution_count": 9,
   "metadata": {},
   "outputs": [
    {
     "data": {
      "text/plain": [
       "0.81642051634484"
      ]
     },
     "execution_count": 9,
     "metadata": {},
     "output_type": "execute_result"
    }
   ],
   "source": [
    "def norm(x):\n",
    "    return np.sqrt((x**2).sum())\n",
    "\n",
    "x = ans.x1.values\n",
    "y = ans.y1.values\n",
    "xv = x - x.mean()\n",
    "yv = y - y.mean()\n",
    "cos = (xv*yv).sum()/(norm(xv)*norm(yv))\n",
    "cos"
   ]
  },
  {
   "cell_type": "markdown",
   "metadata": {},
   "source": [
    "We use the same data from the Anscombe quartet, just the first set of points.\n",
    "We define `norm` to be the length of the vector ($\\Vert \\vec{v_1} \\Vert$),\n",
    "And we move the vectors so that their *mean is zero*,\n",
    "this is important to make sure that we are dealing in similar ball park\n",
    "to statistical moments.\n",
    "And we output the $\\cos \\theta$ as per the equation above.\n",
    "The value we get is the same as the correlation coefficient."
   ]
  },
  {
   "cell_type": "code",
   "execution_count": 10,
   "metadata": {},
   "outputs": [
    {
     "data": {
      "text/plain": [
       "0.81642051634484"
      ]
     },
     "execution_count": 10,
     "metadata": {},
     "output_type": "execute_result"
    }
   ],
   "source": [
    "np.corrcoef(ans.x1.values, ans.y1.values)[0, 1]"
   ]
  },
  {
   "cell_type": "markdown",
   "metadata": {},
   "source": [
    "This way we can see that correlation is nothing more than cosinus\n",
    "of the angle between the vectors formed by the data.\n",
    "More exactly, the correlation of $2$ sets of $11$ points - \n",
    "a $2$ dimensional dataset - is nothing more than the value\n",
    "of the cosinus of the angle between the $2$ vectors in\n",
    "an $11$ dimensional space.\n",
    "\n",
    "In other words, if we have a matrix with two features, e.g.\n",
    "$M_{11x2}$ the correlation between the feature is just the\n",
    "cosinus of the angle between the vectors defined by the points\n",
    "on the transpose of that matrix ($M_{2x11} = (M_{11x2}).T$).\n",
    "\n",
    "Correlation is just the cosinus between two vectors.\n",
    "Between **any** two vectors.\n",
    "No wonder that you can find correlations between almost anything.\n",
    "Do not trust a high correlation value unless you can build\n",
    "a plausible argument as to why it happens.\n",
    "A high correlation value may just be a random reason\n",
    "a vector is pointing into a specific direction.\n",
    "Finally, different ways of measuring correlation are\n",
    "(in their vast majority) just different ways of measuring\n",
    "distance in the space where these two vectors reside."
   ]
  }
 ],
 "metadata": {
  "anaconda-cloud": {},
  "kernelspec": {
   "display_name": ".venv",
   "language": "python",
   "name": "python3"
  },
  "language_info": {
   "codemirror_mode": {
    "name": "ipython",
    "version": 3
   },
   "file_extension": ".py",
   "mimetype": "text/x-python",
   "name": "python",
   "nbconvert_exporter": "python",
   "pygments_lexer": "ipython3",
   "version": "3.11.12"
  }
 },
 "nbformat": 4,
 "nbformat_minor": 4
}
