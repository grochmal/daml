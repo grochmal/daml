{
 "cells": [
  {
   "cell_type": "markdown",
   "metadata": {},
   "source": [
    "# 01.04 - Python Exercises\n",
    "\n",
    "Exercises rating:\n",
    "\n",
    "★☆☆ - You should be able to do it based on Python knowledge plus the text.\n",
    "\n",
    "★★☆ - You will need to do extra thinking and some extra reading/searching.\n",
    "\n",
    "★★★ - The answer is difficult to find by a simple search,\n",
    "      requires you to do a considerable amount of extra work by yourself\n",
    "      (feel free to ignore these exercises if you're short on time)."
   ]
  },
  {
   "cell_type": "markdown",
   "metadata": {},
   "source": [
    "#### 1. Create a function which has a default argument, here is a test for the function. (★☆☆)\n",
    "\n",
    "This will be a pattern in some exercises.\n",
    "The exercise will fail when you run it.\n",
    "And the objective will be to change the code above the `# test` indicator\n",
    "until the code below the `# test` indicator do not fail anymore."
   ]
  },
  {
   "cell_type": "code",
   "execution_count": null,
   "metadata": {},
   "outputs": [],
   "source": [
    "# define function here\n",
    "def my_func() -> str:\n",
    "    pass\n",
    "\n",
    "\n",
    "# test\n",
    "print(my_func(\"positional\", \"optional\"))\n",
    "print(my_func(\"positional\"))"
   ]
  },
  {
   "cell_type": "markdown",
   "metadata": {},
   "source": [
    "#### 2. Write a function that receives an arbitrary number of arguments and  prints them. (★☆☆)\n",
    "\n",
    "Note that we do not specify whether these arguments are positional or keyword arguments.\n",
    "For the extra challenge you may wish to accept and arbitrary number of both types\n",
    "of arguments."
   ]
  },
  {
   "cell_type": "code",
   "execution_count": null,
   "metadata": {},
   "outputs": [],
   "source": []
  },
  {
   "cell_type": "markdown",
   "metadata": {},
   "source": [
    "#### 3. Call the function above using the list and dictionary provided below. (★☆☆)"
   ]
  },
  {
   "cell_type": "code",
   "execution_count": null,
   "metadata": {},
   "outputs": [],
   "source": [
    "args = [1, \"two\", 3.14]\n",
    "kwargs = {\"pinkie\": \"pie\", \"rainbow\": \"dash\"}"
   ]
  },
  {
   "cell_type": "markdown",
   "metadata": {},
   "source": [
    "#### 4. Rewrite the below function into a list comprehension. (★☆☆)\n",
    "\n",
    "You can run the first cell to define the function in the notebook state.\n",
    "Then use the `add_five` function to check whether your list comprehension\n",
    "gives the same result."
   ]
  },
  {
   "cell_type": "code",
   "execution_count": null,
   "metadata": {},
   "outputs": [],
   "source": [
    "def add_five(numbers: list[int]) -> list[int]:\n",
    "    nums = []\n",
    "    for num in numbers:\n",
    "        nums.append(num + 5)\n",
    "    return nums"
   ]
  },
  {
   "cell_type": "code",
   "execution_count": null,
   "metadata": {},
   "outputs": [],
   "source": [
    "numbers = [1, 2, 3]\n",
    "\n",
    "\n",
    "# list comprehension"
   ]
  },
  {
   "cell_type": "markdown",
   "metadata": {},
   "source": [
    "#### 5. Print the type of `type` (yes, this makes sense :) ). (★★☆)"
   ]
  },
  {
   "cell_type": "code",
   "execution_count": null,
   "metadata": {},
   "outputs": [],
   "source": []
  },
  {
   "cell_type": "markdown",
   "metadata": {},
   "source": [
    "#### 6. In the text below, how often each word appears?  (Use list comprehensions.) (★★☆)\n",
    "\n",
    "There is no need to count or remove punctuation,\n",
    "although for extra challenge you may wish to remove the dots and commas."
   ]
  },
  {
   "cell_type": "code",
   "execution_count": null,
   "metadata": {},
   "outputs": [],
   "source": [
    "lorem_ipsum = \"\"\"\n",
    "Lorem ipsum dolor sit amet, consectetur adipiscing elit,\n",
    "sed do eiusmod tempor incididunt ut labore et dolore magna aliqua.\n",
    "Ut enim ad minim veniam, quis nostrud exercitation ullamco laboris nisi\n",
    "ut aliquip ex ea commodo consequat.\n",
    "Duis aute irure dolor in reprehenderit in voluptate velit esse cillum\n",
    "dolore eu fugiat nulla pariatur.\n",
    "Excepteur sint occaecat cupidatat non proident, sunt in culpa\n",
    "qui officia deserunt mollit anim id est laborum.\n",
    "\"\"\""
   ]
  },
  {
   "cell_type": "markdown",
   "metadata": {},
   "source": [
    "#### 7. Write a `sum` function that takes an arbitrary number of parameters and can sum numbers or concatenate strings. (★★☆)\n",
    "\n",
    "If only numbers are given the function will sum them up.\n",
    "If only strings are given the function will concatenate them all.\n",
    "If both strings and numbers are given it is fine to raise an error.\n",
    "But what if no arguments are given?  That's up to you."
   ]
  },
  {
   "cell_type": "code",
   "execution_count": null,
   "metadata": {},
   "outputs": [],
   "source": [
    "def my_sum(*args: list[int | float | str]) -> int | float | str | None:\n",
    "    pass"
   ]
  }
 ],
 "metadata": {
  "kernelspec": {
   "display_name": "Python 3",
   "language": "python",
   "name": "python3"
  },
  "language_info": {
   "codemirror_mode": {
    "name": "ipython",
    "version": 3
   },
   "file_extension": ".py",
   "mimetype": "text/x-python",
   "name": "python",
   "nbconvert_exporter": "python",
   "pygments_lexer": "ipython3",
   "version": "3.7.6"
  }
 },
 "nbformat": 4,
 "nbformat_minor": 4
}
