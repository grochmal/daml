{
 "cells": [
  {
   "cell_type": "markdown",
   "metadata": {},
   "source": [
    "# Resources\n",
    "\n",
    "Despite not being inside a classroom,\n",
    "you can still benefit from several tools at City."
   ]
  },
  {
   "cell_type": "markdown",
   "metadata": {},
   "source": [
    "## Online\n",
    "\n",
    "- We will be using [anaconda][] with Python 3.\n",
    "  Videos on how to install it can be found on moodle.\n",
    "\n",
    "- The [moodle][] website is our main meeting point.\n",
    "  All lecture material and essential links are posted there.\n",
    "  Make sure you can login to moodle\n",
    "  (with the username and password that was sent in an email).\n",
    "\n",
    "- Most resources, lectures and exercises will be provided as IPython/Jupyter Notebooks,\n",
    "  i.e. the `*.ipynb` format.\n",
    "\n",
    "- City provides all students with an [email][] address.\n",
    "  Please do check it occasionally, we may send important messages to it.\n",
    "\n",
    "- There are 10GBs on the [One Drive][drive] from Office 365 (next to your city [email][]).\n",
    "  You can use that space to copy over the lecture files and data we will be using.\n",
    "\n",
    "- The **eduroam** network is available with your city login.\n",
    "  Eduroam is the biggest educational network around the world,\n",
    "  can be accessed across several universities and schools.\n",
    "\n",
    "[anaconda]: https://www.anaconda.com/products/individual#Downloads\n",
    "[moodle]: https://moodle.city.ac.uk\n",
    "[email]: https://email.city.ac.uk\n",
    "[drive]: https://cityuni-my.sharepoint.com"
   ]
  },
  {
   "cell_type": "markdown",
   "metadata": {},
   "source": [
    "## Full links\n",
    "\n",
    "If you are not running this in a Jupyter interface,\n",
    "here are the links that can be typed into the browser:\n",
    "\n",
    "- Anaconda: <https://www.anaconda.com/products/individual#Downloads>\n",
    "- Moodle: <https://moodle.city.ac.uk>\n",
    "- City EMail: <https://email.city.ac.uk>\n",
    "- City One Drive: <https://cityuni-my.sharepoint.com>\n",
    "- Reference and Extra Materials: <https://learnyousomeml.com>"
   ]
  },
  {
   "cell_type": "markdown",
   "metadata": {},
   "source": [
    "## Evaluation\n",
    "\n",
    "The evaluation of the course happens\n",
    "by the informal discussion of the exercises performed.\n",
    "Therefore *do* discuss the exercises with us,\n",
    "we will be asking about the exercises during the\n",
    "Q&A sessions.\n",
    "The main objective for the course is that everyone attending does learn something.\n",
    "In other words, the objective of the course is not to present\n",
    "the entire material but to make sure that at least 70-80% of the material\n",
    "is understood by 70-80% of the students.\n",
    "\n",
    "The course always have a huge discrepancy among students,\n",
    "this is the nature of data science therefore we are in a good position.\n",
    "That said we do need to brush on a couple of prerequisites:\n",
    "We will be using **python** to program straight away,\n",
    "we will not be learning the language.\n",
    "We do a quick review of python but that's all.\n",
    "Also, we will need some base in **mathematics**\n",
    "and statistics, although we do a quick review of that too\n",
    "when needed."
   ]
  },
  {
   "cell_type": "markdown",
   "metadata": {},
   "source": [
    "Also, what kind of people we have here today?\n",
    "The following list, which is by no means exhaustive,\n",
    "is how some students of data analytics and machine learning\n",
    "denominate themselves\n",
    "\n",
    "- ML managers (including project managers),\n",
    "  looking to understand their teams\n",
    "\n",
    "- Grad specialization,\n",
    "  after an undergrad course in possibly mathematics but\n",
    "  as esoteric as literature\n",
    "\n",
    "- Curious hackers,\n",
    "  well they were very curious to be hackers in the first place\n",
    "\n",
    "- Researchers from another area,\n",
    "  PhDs of biological and chemical sciences are common here\n",
    "\n",
    "- Migration from another language,\n",
    "  Java, or C, or Web programmers looking out for what Python\n",
    "  has to offer\n",
    "\n",
    "The set of lecturers is also as unorthodox,\n",
    "we have or had some very distinct teachers:\n",
    "\n",
    "- A computational physicist going full circle through system\n",
    "  administration, gray hat hacking, and web optimization;\n",
    "  back into physics and machine learning\n",
    "\n",
    "- A self-taught programmer, who never completed an undergrad\n",
    "  but instead fell in love with all forms of machine learning.\n",
    "  With a motto: if the machine can learn what to do by itself, then why teach it?\n",
    "\n",
    "- A quantum physicist, tired of working with Two Higgs\n",
    "  doublet models (2HDM) turned to data science.\n",
    "  Since then spent more time on machine learning than\n",
    "  has ever spent on 2HDM."
   ]
  }
 ],
 "metadata": {
  "kernelspec": {
   "display_name": "Python 3 (ipykernel)",
   "language": "python",
   "name": "python3"
  },
  "language_info": {
   "codemirror_mode": {
    "name": "ipython",
    "version": 3
   },
   "file_extension": ".py",
   "mimetype": "text/x-python",
   "name": "python",
   "nbconvert_exporter": "python",
   "pygments_lexer": "ipython3",
   "version": "3.13.2"
  }
 },
 "nbformat": 4,
 "nbformat_minor": 4
}
