{
 "cells": [
  {
   "cell_type": "markdown",
   "metadata": {},
   "source": [
    "# 04.00 Pandas Introduction\n",
    "\n",
    "Pandas is a wrapper on top of `NumPy` (and several other libraries, including `Matplotlib`)\n",
    "to make up for the shortcomings of the vectorial computing when working with real-world data.\n",
    "Instead of working towards efficient\n",
    "numerical computing it attempts to make working with messy data less annoying.\n",
    "The name Pandas comes from the term *Panel data* which is derived from econometrics."
   ]
  },
  {
   "cell_type": "markdown",
   "metadata": {},
   "source": [
    "Let's import it,\n",
    "and also let's import `NumPy` to see how both libraries work with each other.\n",
    "The common name given to a `pandas` import is `pd`."
   ]
  },
  {
   "cell_type": "code",
   "execution_count": 1,
   "metadata": {},
   "outputs": [],
   "source": [
    "import numpy as np\n",
    "import pandas as pd"
   ]
  },
  {
   "cell_type": "markdown",
   "metadata": {},
   "source": [
    "## General ideas behind pandas\n",
    "\n",
    "Originally built as an enhanced version of R's `data.frame`,\n",
    "`pandas` incorporates several known APIs into a single structure.\n",
    "The `DataFrame` includes APIs that make it easy for use from different perspectives.\n",
    "The `DataFrame`:\n",
    "\n",
    "* Is an R `data.frame` like structure, extended by multi-indexes\n",
    "* Has SQL-like joins, without need for external libraries (e.g. `sqldf` in R)\n",
    "* Looks like a spreadsheet (yes, that is intentional)\n",
    "* Can move between two and multidimensional representations (`stack`, `unstack`)\n",
    "* Has aggregations across dimensions with `groupby` (similar to SQL)\n",
    "* Can define enhanced data types with many operations outside pure computation when compared with `numpy`.\n",
    "\n",
    "You will use `pandas` (rather than `NumPy`) for tasks around messy data.\n",
    "`pandas` is built atop `NumPy`, and uses the continuous memory and broadcast operations\n",
    "of `NumPy` arrays to boost its performance.  `pandas` excels at:\n",
    "\n",
    "* Importing data (very resilient compared to `numpy.loadtxt`)\n",
    "* Clean up messy data (`dropna` or `fillna`)\n",
    "* Quickly build insight into data (`describe`)\n",
    "\n",
    "Let's use some data about the British Isles and the United Kingdom to demonstrate\n",
    "some of the features:"
   ]
  },
  {
   "cell_type": "code",
   "execution_count": 2,
   "metadata": {},
   "outputs": [
    {
     "data": {
      "text/html": [
       "<div>\n",
       "<style scoped>\n",
       "    .dataframe tbody tr th:only-of-type {\n",
       "        vertical-align: middle;\n",
       "    }\n",
       "\n",
       "    .dataframe tbody tr th {\n",
       "        vertical-align: top;\n",
       "    }\n",
       "\n",
       "    .dataframe thead th {\n",
       "        text-align: right;\n",
       "    }\n",
       "</style>\n",
       "<table border=\"1\" class=\"dataframe\">\n",
       "  <thead>\n",
       "    <tr style=\"text-align: right;\">\n",
       "      <th></th>\n",
       "      <th>capital</th>\n",
       "      <th>area</th>\n",
       "      <th>population 2001</th>\n",
       "      <th>population 2011</th>\n",
       "    </tr>\n",
       "  </thead>\n",
       "  <tbody>\n",
       "    <tr>\n",
       "      <th>Northern Ireland</th>\n",
       "      <td>Belfast</td>\n",
       "      <td>14130</td>\n",
       "      <td>1686000.0</td>\n",
       "      <td>1811000.0</td>\n",
       "    </tr>\n",
       "    <tr>\n",
       "      <th>Scotland</th>\n",
       "      <td>Edinburgh</td>\n",
       "      <td>77933</td>\n",
       "      <td>5064000.0</td>\n",
       "      <td>5281000.0</td>\n",
       "    </tr>\n",
       "    <tr>\n",
       "      <th>Wales</th>\n",
       "      <td>Cardiff</td>\n",
       "      <td>20779</td>\n",
       "      <td>NaN</td>\n",
       "      <td>3057000.0</td>\n",
       "    </tr>\n",
       "    <tr>\n",
       "      <th>England</th>\n",
       "      <td>London</td>\n",
       "      <td>130279</td>\n",
       "      <td>48650000.0</td>\n",
       "      <td>53010000.0</td>\n",
       "    </tr>\n",
       "    <tr>\n",
       "      <th>Isle of Man</th>\n",
       "      <td>Douglas</td>\n",
       "      <td>572</td>\n",
       "      <td>77703.0</td>\n",
       "      <td>84886.0</td>\n",
       "    </tr>\n",
       "    <tr>\n",
       "      <th>Ireland</th>\n",
       "      <td>Dublin</td>\n",
       "      <td>70273</td>\n",
       "      <td>NaN</td>\n",
       "      <td>4571000.0</td>\n",
       "    </tr>\n",
       "  </tbody>\n",
       "</table>\n",
       "</div>"
      ],
      "text/plain": [
       "                    capital    area  population 2001  population 2011\n",
       "Northern Ireland    Belfast   14130        1686000.0        1811000.0\n",
       "Scotland          Edinburgh   77933        5064000.0        5281000.0\n",
       "Wales               Cardiff   20779              NaN        3057000.0\n",
       "England              London  130279       48650000.0       53010000.0\n",
       "Isle of Man         Douglas     572          77703.0          84886.0\n",
       "Ireland              Dublin   70273              NaN        4571000.0"
      ]
     },
     "execution_count": 2,
     "metadata": {},
     "output_type": "execute_result"
    }
   ],
   "source": [
    "country = [\"Northern Ireland\", \"Scotland\", \"Wales\", \"England\", \"Isle of Man\", \"Ireland\"]\n",
    "area = np.array([14130, 77933, 20779, 130279, 572, 70273])\n",
    "capital = [\"Belfast\", \"Edinburgh\", \"Cardiff\", \"London\", \"Douglas\", \"Dublin\"]\n",
    "population2001 = [1.686e6, 5.064e6,  np.nan, 48.65e6, 77.703e3,  np.nan]\n",
    "population2011 = [1.811e6, 5.281e6, 3.057e6, 53.01e6, 84.886e3, 4.571e6]\n",
    "df = pd.DataFrame({\"capital\": capital,\n",
    "                   \"area\": area,\n",
    "                   \"population 2001\": population2001,\n",
    "                   \"population 2011\": population2011,\n",
    "                  },\n",
    "                  index=country)\n",
    "df"
   ]
  },
  {
   "cell_type": "markdown",
   "metadata": {},
   "source": [
    "![Domesday Book](pd-parchment.svg)\n",
    "\n",
    "<div style=\"text-align:right;\"><sup>pd-parchment.svg</sup></div>\n",
    "\n",
    "<div style=\"border: 0.3em double teal; border-radius: 0.5em; padding: 0.5em;\">\n",
    "    After the defeat of Harold and conquest of England in 1066,\n",
    "    William (the Conqueror) commissioned a survey of the lands under his control.\n",
    "    The purpose of the survey was mostly to assert what taxes can be\n",
    "    made on the conquered English.\n",
    "    In 1086, the survey was complete, under the name \"Liber de Wintonia\".\n",
    "    But a more fitting name for the book among the English was\n",
    "    Domesday Book, as an analogy to the Last Judgement.\n",
    "</div>"
   ]
  },
  {
   "cell_type": "markdown",
   "metadata": {},
   "source": [
    "# Series\n",
    "\n",
    "The main feature of `pandas` is its `DataFrame` but that is just a collection of `Series` data structures.\n",
    "A `Series` is pretty similar to a `NumPy` array: it is a list of several data of the same data type.\n",
    "The difference is that the `Series` adds labels (an index) to the data."
   ]
  },
  {
   "cell_type": "code",
   "execution_count": 3,
   "metadata": {},
   "outputs": [
    {
     "data": {
      "text/plain": [
       "0     14130\n",
       "1     77933\n",
       "2     20779\n",
       "3    130279\n",
       "4       572\n",
       "5     70273\n",
       "dtype: int64"
      ]
     },
     "execution_count": 3,
     "metadata": {},
     "output_type": "execute_result"
    }
   ],
   "source": [
    "series_area = pd.Series(area)\n",
    "series_area"
   ]
  },
  {
   "cell_type": "markdown",
   "metadata": {},
   "source": [
    "Above the index is just the offset from the beginning of the series,\n",
    "as in a NumPy array.\n",
    "But with `pandas` we can give names to the index."
   ]
  },
  {
   "cell_type": "code",
   "execution_count": 4,
   "metadata": {},
   "outputs": [
    {
     "data": {
      "text/plain": [
       "Northern Ireland     14130\n",
       "Scotland             77933\n",
       "Wales                20779\n",
       "England             130279\n",
       "Isle of Man            572\n",
       "Ireland              70273\n",
       "dtype: int64"
      ]
     },
     "execution_count": 4,
     "metadata": {},
     "output_type": "execute_result"
    }
   ],
   "source": [
    "series_area = pd.Series(area, index=country)\n",
    "series_area"
   ]
  },
  {
   "cell_type": "markdown",
   "metadata": {},
   "source": [
    "### Selection from the index\n",
    "\n",
    "Selecting from a `Series` works both as a list or as a dictionary.\n",
    "You can say that a `Series.index` maps keys over `Series.values`."
   ]
  },
  {
   "cell_type": "code",
   "execution_count": 5,
   "metadata": {},
   "outputs": [
    {
     "data": {
      "text/plain": [
       "(array([ 14130,  77933,  20779, 130279,    572,  70273]),\n",
       " dtype('int64'),\n",
       " Index(['Northern Ireland', 'Scotland', 'Wales', 'England', 'Isle of Man',\n",
       "        'Ireland'],\n",
       "       dtype='object'))"
      ]
     },
     "execution_count": 5,
     "metadata": {},
     "output_type": "execute_result"
    }
   ],
   "source": [
    "series_area.values, series_area.values.dtype, series_area.index"
   ]
  },
  {
   "cell_type": "markdown",
   "metadata": {},
   "source": [
    "All of the following three forms of indexing produce the same record."
   ]
  },
  {
   "cell_type": "code",
   "execution_count": 6,
   "metadata": {},
   "outputs": [
    {
     "data": {
      "text/plain": [
       "(np.int64(20779), np.int64(20779), np.int64(20779))"
      ]
     },
     "execution_count": 6,
     "metadata": {},
     "output_type": "execute_result"
    }
   ],
   "source": [
    "series_area[\"Wales\"], series_area.iloc[2], series_area.values[2]"
   ]
  },
  {
   "cell_type": "markdown",
   "metadata": {},
   "source": [
    "Slicing works too."
   ]
  },
  {
   "cell_type": "code",
   "execution_count": 7,
   "metadata": {},
   "outputs": [
    {
     "data": {
      "text/plain": [
       "Northern Ireland    14130\n",
       "Scotland            77933\n",
       "Wales               20779\n",
       "dtype: int64"
      ]
     },
     "execution_count": 7,
     "metadata": {},
     "output_type": "execute_result"
    }
   ],
   "source": [
    "series_area[0:3]"
   ]
  },
  {
   "cell_type": "markdown",
   "metadata": {},
   "source": [
    "And so does fancy indexing."
   ]
  },
  {
   "cell_type": "code",
   "execution_count": 8,
   "metadata": {},
   "outputs": [
    {
     "data": {
      "text/plain": [
       "Wales       20779\n",
       "Scotland    77933\n",
       "dtype: int64"
      ]
     },
     "execution_count": 8,
     "metadata": {},
     "output_type": "execute_result"
    }
   ],
   "source": [
    "series_area[[\"Wales\", \"Scotland\"]]"
   ]
  },
  {
   "cell_type": "markdown",
   "metadata": {},
   "source": [
    "### Sorted and unsorted indexes\n",
    "\n",
    "Slicing works on indexes (the labels of the Series)\n",
    "but it is only likely to produce meaningful results if the index is sorted.\n",
    "\n",
    "Note: In older versions of `pandas` slicing over an unsorted index produced an error,\n",
    "this still happens over a multi-index (outlined in a later section).\n",
    "Since we did not care about the order when constructing the data frame our index is unsorted,\n",
    "therefore slicing it will produce strange results."
   ]
  },
  {
   "cell_type": "code",
   "execution_count": 9,
   "metadata": {},
   "outputs": [
    {
     "data": {
      "text/plain": [
       "Series([], dtype: int64)"
      ]
     },
     "execution_count": 9,
     "metadata": {},
     "output_type": "execute_result"
    }
   ],
   "source": [
    "series_area[\"England\":\"Scotland\"]"
   ]
  },
  {
   "cell_type": "markdown",
   "metadata": {},
   "source": [
    "If we sort the index,\n",
    "the alphabetical order (or actually ASCIIbetical order) of the labels can be used for slicing."
   ]
  },
  {
   "cell_type": "code",
   "execution_count": 10,
   "metadata": {},
   "outputs": [
    {
     "data": {
      "text/plain": [
       "England             130279\n",
       "Ireland              70273\n",
       "Isle of Man            572\n",
       "Northern Ireland     14130\n",
       "Scotland             77933\n",
       "dtype: int64"
      ]
     },
     "execution_count": 10,
     "metadata": {},
     "output_type": "execute_result"
    }
   ],
   "source": [
    "sorted_area = series_area.sort_index()\n",
    "sorted_area[\"England\":\"Scotland\"]"
   ]
  },
  {
   "cell_type": "markdown",
   "metadata": {},
   "source": [
    "### Implicit indexes\n",
    "\n",
    "If you do not define an index you can still select and slice series items.\n",
    "This is because apart from the normal index an implicit, positional, index is created.\n",
    "In other words, every `pandas` series has two indexes: the implicit and the explicit index."
   ]
  },
  {
   "cell_type": "code",
   "execution_count": 11,
   "metadata": {},
   "outputs": [
    {
     "data": {
      "text/plain": [
       "0    14130\n",
       "1    77933\n",
       "2    20779\n",
       "dtype: int64"
      ]
     },
     "execution_count": 11,
     "metadata": {},
     "output_type": "execute_result"
    }
   ],
   "source": [
    "series_area = pd.Series(area)\n",
    "series_area[0:3]"
   ]
  },
  {
   "cell_type": "markdown",
   "metadata": {},
   "source": [
    "Moreover, when the explicit index is non-numeric,\n",
    "the implicit index is used for access.\n",
    "Here is a series with a sorted index."
   ]
  },
  {
   "cell_type": "code",
   "execution_count": 12,
   "metadata": {},
   "outputs": [
    {
     "data": {
      "text/plain": [
       "England             130279\n",
       "Ireland              70273\n",
       "Isle of Man            572\n",
       "Northern Ireland     14130\n",
       "Scotland             77933\n",
       "Wales                20779\n",
       "dtype: int64"
      ]
     },
     "execution_count": 12,
     "metadata": {},
     "output_type": "execute_result"
    }
   ],
   "source": [
    "series_area = pd.Series(area, index=country).sort_index()\n",
    "series_area"
   ]
  },
  {
   "cell_type": "markdown",
   "metadata": {},
   "source": [
    "Most of the time both indexes work in the same fashion but slicing\n",
    "is inconsistent between them:\n",
    "The explicit index includes the last slice element (unlike Python list slicing)."
   ]
  },
  {
   "cell_type": "code",
   "execution_count": 13,
   "metadata": {},
   "outputs": [
    {
     "data": {
      "text/plain": [
       "England             130279\n",
       "Ireland              70273\n",
       "Isle of Man            572\n",
       "Northern Ireland     14130\n",
       "dtype: int64"
      ]
     },
     "execution_count": 13,
     "metadata": {},
     "output_type": "execute_result"
    }
   ],
   "source": [
    "series_area[\"England\":\"Northern Ireland\"]"
   ]
  },
  {
   "cell_type": "markdown",
   "metadata": {},
   "source": [
    "But the implicit index works in the same way as Python slicing,\n",
    "it excludes the last slice element."
   ]
  },
  {
   "cell_type": "code",
   "execution_count": 14,
   "metadata": {},
   "outputs": [
    {
     "data": {
      "text/plain": [
       "England        130279\n",
       "Ireland         70273\n",
       "Isle of Man       572\n",
       "dtype: int64"
      ]
     },
     "execution_count": 14,
     "metadata": {},
     "output_type": "execute_result"
    }
   ],
   "source": [
    "series_area[0:3]"
   ]
  },
  {
   "cell_type": "markdown",
   "metadata": {},
   "source": [
    "This can give us a headache with numerical indexes,\n",
    "therefore `pandas` allows us to choose which index to select from:\n",
    "\n",
    "* `loc` always refers to the explicit index\n",
    "* `iloc` always refers to the implicit index"
   ]
  },
  {
   "cell_type": "markdown",
   "metadata": {},
   "source": [
    "To allow for $1$-based indexing instead of $0$-based indexing\n",
    "one may be tempted to set the index as $1$-based numerical indexes.\n",
    "This can become very confusing very fast because the numerical index\n",
    "is explicit and follows the explicit index rules for slicing.\n",
    "Also, the implicit index remains $0$-based.\n",
    "\n",
    "Do not do this unless you have very good reasons."
   ]
  },
  {
   "cell_type": "code",
   "execution_count": 15,
   "metadata": {},
   "outputs": [
    {
     "data": {
      "text/plain": [
       "1     14130\n",
       "2     77933\n",
       "3     20779\n",
       "4    130279\n",
       "5       572\n",
       "6     70273\n",
       "dtype: int64"
      ]
     },
     "execution_count": 15,
     "metadata": {},
     "output_type": "execute_result"
    }
   ],
   "source": [
    "series_area = pd.Series(area)\n",
    "series_area.index = range(1, len(area)+1)\n",
    "series_area"
   ]
  },
  {
   "cell_type": "markdown",
   "metadata": {},
   "source": [
    "Note that one can set the index by simply assigning to it.\n",
    "\n",
    "Nevertheless, with a $1$-based index selection differences between explicit and implicit\n",
    "indexes are apparent, if not puzzling."
   ]
  },
  {
   "cell_type": "code",
   "execution_count": 16,
   "metadata": {},
   "outputs": [
    {
     "data": {
      "text/plain": [
       "(np.int64(14130), np.int64(14130), np.int64(77933))"
      ]
     },
     "execution_count": 16,
     "metadata": {},
     "output_type": "execute_result"
    }
   ],
   "source": [
    "series_area[1], series_area.loc[1], series_area.iloc[1]"
   ]
  },
  {
   "cell_type": "markdown",
   "metadata": {},
   "source": [
    "Selection through the implicit index did still use $0$-based indexing.\n",
    "But selection without specifying the index used the explicit one.\n",
    "\n",
    "Yet, when slicing the situation is different."
   ]
  },
  {
   "cell_type": "code",
   "execution_count": 17,
   "metadata": {},
   "outputs": [
    {
     "data": {
      "text/plain": [
       "([77933, 20779], [14130, 77933, 20779], [77933, 20779])"
      ]
     },
     "execution_count": 17,
     "metadata": {},
     "output_type": "execute_result"
    }
   ],
   "source": [
    "list(series_area[1:3]), list(series_area.loc[1:3]), list(series_area.iloc[1:3])"
   ]
  },
  {
   "cell_type": "markdown",
   "metadata": {},
   "source": [
    "By default, *numeric slices use the implicit index* and implicit index rules.\n",
    "\n",
    "But there's more!\n",
    "If one does not define an index at all,\n",
    "slicing with `.loc` accesses the implicit index\n",
    "but it uses the explicit index rules of slicing."
   ]
  },
  {
   "cell_type": "code",
   "execution_count": 18,
   "metadata": {},
   "outputs": [
    {
     "data": {
      "text/plain": [
       "0     14130\n",
       "1     77933\n",
       "2     20779\n",
       "3    130279\n",
       "4       572\n",
       "5     70273\n",
       "dtype: int64"
      ]
     },
     "execution_count": 18,
     "metadata": {},
     "output_type": "execute_result"
    }
   ],
   "source": [
    "series_area = pd.Series(area)\n",
    "series_area"
   ]
  },
  {
   "cell_type": "markdown",
   "metadata": {},
   "source": [
    "Since there is just a single index selection is consistent."
   ]
  },
  {
   "cell_type": "code",
   "execution_count": 19,
   "metadata": {},
   "outputs": [
    {
     "data": {
      "text/plain": [
       "(np.int64(77933), np.int64(77933), np.int64(77933))"
      ]
     },
     "execution_count": 19,
     "metadata": {},
     "output_type": "execute_result"
    }
   ],
   "source": [
    "series_area[1], series_area.loc[1], series_area.iloc[1]"
   ]
  },
  {
   "cell_type": "markdown",
   "metadata": {},
   "source": [
    "But slicing can be quite confusing.\n",
    "Here `.loc` uses the explicit index rules - include the last slice element - whilst\n",
    "it accesses the implicit index because there is no explicit index."
   ]
  },
  {
   "cell_type": "code",
   "execution_count": 20,
   "metadata": {},
   "outputs": [
    {
     "data": {
      "text/plain": [
       "([77933, 20779], [77933, 20779, 130279], [77933, 20779])"
      ]
     },
     "execution_count": 20,
     "metadata": {},
     "output_type": "execute_result"
    }
   ],
   "source": [
    "list(series_area[1:3]), list(series_area.loc[1:3]), list(series_area.iloc[1:3])"
   ]
  },
  {
   "cell_type": "markdown",
   "metadata": {},
   "source": [
    "Always cross-check slicing operations and use `.loc` or `.iloc` explicitly.\n",
    "The same rules apply to data frames (seen in a moment)."
   ]
  },
  {
   "cell_type": "markdown",
   "metadata": {},
   "source": [
    "### A `Series` works like a NumPy array\n",
    "\n",
    "The `NumPy` vectorized operations, selection and broadcasting work as if we were working on an array."
   ]
  },
  {
   "cell_type": "code",
   "execution_count": 21,
   "metadata": {},
   "outputs": [
    {
     "data": {
      "text/plain": [
       "Scotland     77933\n",
       "Wales        20779\n",
       "England     130279\n",
       "Ireland      70273\n",
       "dtype: int64"
      ]
     },
     "execution_count": 21,
     "metadata": {},
     "output_type": "execute_result"
    }
   ],
   "source": [
    "series_area = pd.Series(area, index=country)\n",
    "series_area[series_area > 20000]"
   ]
  },
  {
   "cell_type": "markdown",
   "metadata": {},
   "source": [
    "Let's compute the area in square miles instead of square kilometers.\n",
    "\n",
    "$$\n",
    "0.386 \\approx \\frac{1}{1.61^2}\n",
    "$$"
   ]
  },
  {
   "cell_type": "code",
   "execution_count": 22,
   "metadata": {},
   "outputs": [
    {
     "data": {
      "text/plain": [
       "Northern Ireland     5454.180\n",
       "Scotland            30082.138\n",
       "Wales                8020.694\n",
       "England             50287.694\n",
       "Isle of Man           220.792\n",
       "Ireland             27125.378\n",
       "dtype: float64"
      ]
     },
     "execution_count": 22,
     "metadata": {},
     "output_type": "execute_result"
    }
   ],
   "source": [
    "series_area * 0.386"
   ]
  },
  {
   "cell_type": "markdown",
   "metadata": {},
   "source": [
    "And the total of the British Isles area in square miles."
   ]
  },
  {
   "cell_type": "code",
   "execution_count": 23,
   "metadata": {},
   "outputs": [
    {
     "data": {
      "text/plain": [
       "np.float64(121190.876)"
      ]
     },
     "execution_count": 23,
     "metadata": {},
     "output_type": "execute_result"
    }
   ],
   "source": [
    "(series_area * 0.386).sum()"
   ]
  },
  {
   "cell_type": "markdown",
   "metadata": {
    "slideshow": {
     "slide_type": "slide"
    }
   },
   "source": [
    "### A `Series` is more than a NumPy array\n",
    "\n",
    "The `Series` aligns the indexes when performing operations.\n",
    "\n",
    "In order to see that let's have a look at an array with missing values.\n",
    "The UK had a census in 2001 but part of the British Isles outside\n",
    "of the UK have no data since they did not participate."
   ]
  },
  {
   "cell_type": "code",
   "execution_count": 24,
   "metadata": {},
   "outputs": [
    {
     "data": {
      "text/plain": [
       "Northern Ireland     1686000.0\n",
       "Scotland             5064000.0\n",
       "Wales                      NaN\n",
       "England             48650000.0\n",
       "Isle of Man            77703.0\n",
       "Ireland                    NaN\n",
       "dtype: float64"
      ]
     },
     "execution_count": 24,
     "metadata": {},
     "output_type": "execute_result"
    }
   ],
   "source": [
    "p2001 = pd.Series(population2001, index=country)\n",
    "p2001"
   ]
  },
  {
   "cell_type": "markdown",
   "metadata": {},
   "source": [
    "The index holds the fact that there is missing data.\n",
    "Missing data may be represented in several ways.\n",
    "Here we use `NaN` (not a number), which is a standard value for\n",
    "unknowns in floating point values.\n",
    "Another option is to us the Python `None` value.\n",
    "\n",
    "Since missing values can be represented by different values,\n",
    "instead of comparing against them `pandas` provides us with\n",
    "an `isnull` procedure that will catch common ways of representing missing data.\n",
    "Another name for `isnull` is `isna`, you may see any of the two procedures\n",
    "used to check for nulls."
   ]
  },
  {
   "cell_type": "code",
   "execution_count": 25,
   "metadata": {},
   "outputs": [
    {
     "data": {
      "text/plain": [
       "Northern Ireland    False\n",
       "Scotland            False\n",
       "Wales                True\n",
       "England             False\n",
       "Isle of Man         False\n",
       "Ireland              True\n",
       "dtype: bool"
      ]
     },
     "execution_count": 25,
     "metadata": {},
     "output_type": "execute_result"
    }
   ],
   "source": [
    "p2001.isnull()"
   ]
  },
  {
   "cell_type": "markdown",
   "metadata": {},
   "source": [
    "For the year 2011 we have all population data."
   ]
  },
  {
   "cell_type": "code",
   "execution_count": 26,
   "metadata": {},
   "outputs": [
    {
     "data": {
      "text/plain": [
       "Northern Ireland     1811000.0\n",
       "Scotland             5281000.0\n",
       "Wales                3057000.0\n",
       "England             53010000.0\n",
       "Isle of Man            84886.0\n",
       "Ireland              4571000.0\n",
       "dtype: float64"
      ]
     },
     "execution_count": 26,
     "metadata": {},
     "output_type": "execute_result"
    }
   ],
   "source": [
    "p2011 = pd.Series(population2011, index=country)\n",
    "p2011"
   ]
  },
  {
   "cell_type": "markdown",
   "metadata": {},
   "source": [
    "What if we would like to know the population growth between 2001 and 2011?\n",
    "\n",
    "We could manually filter for the values we have in both years and compute\n",
    "the growth using those values alone.\n",
    "Yet, if we use `pandas`, it will perform the computation by default between the correct values."
   ]
  },
  {
   "cell_type": "code",
   "execution_count": 27,
   "metadata": {},
   "outputs": [
    {
     "data": {
      "text/plain": [
       "Northern Ireland     125000.0\n",
       "Scotland             217000.0\n",
       "Wales                     NaN\n",
       "England             4360000.0\n",
       "Isle of Man            7183.0\n",
       "Ireland                   NaN\n",
       "dtype: float64"
      ]
     },
     "execution_count": 27,
     "metadata": {},
     "output_type": "execute_result"
    }
   ],
   "source": [
    "p2011 - p2001"
   ]
  },
  {
   "cell_type": "markdown",
   "metadata": {},
   "source": [
    "But what if we did not have the `NaN` values in the correct places?\n",
    "\n",
    "We can drop the missing data using the `dropna` procedure and see."
   ]
  },
  {
   "cell_type": "code",
   "execution_count": 28,
   "metadata": {},
   "outputs": [
    {
     "data": {
      "text/plain": [
       "Northern Ireland     1686000.0\n",
       "Scotland             5064000.0\n",
       "England             48650000.0\n",
       "Isle of Man            77703.0\n",
       "dtype: float64"
      ]
     },
     "execution_count": 28,
     "metadata": {},
     "output_type": "execute_result"
    }
   ],
   "source": [
    "p2001clean = p2001.dropna()\n",
    "p2001clean"
   ]
  },
  {
   "cell_type": "markdown",
   "metadata": {},
   "source": [
    "The new series for the year $2001$ has only $4$ values,\n",
    "whilst the series for $2011$ has $6$ values for population.\n",
    "\n",
    "Still, `pandas` aligns the indexes and allows us to operate between the two series."
   ]
  },
  {
   "cell_type": "code",
   "execution_count": 29,
   "metadata": {},
   "outputs": [
    {
     "data": {
      "text/plain": [
       "England             4360000.0\n",
       "Ireland                   NaN\n",
       "Isle of Man            7183.0\n",
       "Northern Ireland     125000.0\n",
       "Scotland             217000.0\n",
       "Wales                     NaN\n",
       "dtype: float64"
      ]
     },
     "execution_count": 29,
     "metadata": {},
     "output_type": "execute_result"
    }
   ],
   "source": [
    "p2011 - p2001clean"
   ]
  },
  {
   "cell_type": "markdown",
   "metadata": {},
   "source": [
    "When we perform the operation the indexes are matched,\n",
    "where a number cannot be found (i.e. the operation contains a `NaN`),\n",
    "pandas automatically inserts a `NaN` as the result."
   ]
  }
 ],
 "metadata": {
  "anaconda-cloud": {},
  "kernelspec": {
   "display_name": ".venv",
   "language": "python",
   "name": "python3"
  },
  "language_info": {
   "codemirror_mode": {
    "name": "ipython",
    "version": 3
   },
   "file_extension": ".py",
   "mimetype": "text/x-python",
   "name": "python",
   "nbconvert_exporter": "python",
   "pygments_lexer": "ipython3",
   "version": "3.10.14"
  }
 },
 "nbformat": 4,
 "nbformat_minor": 4
}
