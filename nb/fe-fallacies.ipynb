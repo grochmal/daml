{
 "cells": [
  {
   "cell_type": "markdown",
   "metadata": {},
   "source": [
    "# 07.00 A Step Back\n",
    "\n",
    "Let's take a step back and have an overview of the two main applications of supervised learning,\n",
    "and see why these are so useful and important to today's intelligent systems.\n",
    "We already used ML but let us repeat a couple of the most important\n",
    "concepts so that they remain firm in our minds."
   ]
  },
  {
   "cell_type": "markdown",
   "metadata": {},
   "source": [
    "![Vincent van Gogh](fe-van-gogh.svg)\n",
    "\n",
    "<div style=\"text-align:right;\"><sup>fe-van-gogh.svg</sup></div>"
   ]
  },
  {
   "cell_type": "markdown",
   "metadata": {},
   "source": [
    "## Classification\n",
    "\n",
    "Is the most common for of ML because several problems can be thought of as a classification.\n",
    "Notably problems where we want to know if something is or is not an instance of something.\n",
    "Some examples:\n",
    "\n",
    "*   Whether a transaction is or is not a fraud\n",
    "*   Whether an image has a face or has not\n",
    "*   Whether an email is spam or not\n",
    "*   Probability of an iceberg floating in each of three sea currents\n",
    "*   Given the symptoms, if a patient may or may not have certain sickness\n",
    "*   As a bigger example: in a recommendation engine, you may not want to calculate\n",
    "    a score for each product versus each customer, you can classify products as interesting\n",
    "    and not interesting at all, and then calculate a score only on the interesting ones"
   ]
  },
  {
   "cell_type": "markdown",
   "metadata": {},
   "source": [
    "## Regression\n",
    "\n",
    "The final result of a regression is a model that generates continuous numbers,\n",
    "and comparing these generated numbers makes sense.  This outlines the power of\n",
    "the regression techniques: given a set of unknown samples we can **order them**.\n",
    "Examples of regression use follow:\n",
    "\n",
    "*   Estimate the effect of a physics law (possibly proving or disproving a theory)\n",
    "*   Estimate speed limits for roads\n",
    "*   The amount of fish depending on season and weather\n",
    "*   Risk estimation between different courses of action\n",
    "*   In a recommendation engine, the score of recommended items (so we can order them)"
   ]
  },
  {
   "cell_type": "markdown",
   "metadata": {},
   "source": [
    "## Evaluation\n",
    "\n",
    "There are plethora of ways of evaluating a supervised model.\n",
    "And it is not possible to create a single evaluation methods for all\n",
    "models because models trained on different data are inherently different.\n",
    "The way how you evaluate a model often depends more on what data you are working\n",
    "on than on what type of model is being used.\n",
    "\n",
    "In classification the F1 score is a pretty good general evaluation\n",
    "in which we make sure that we do not miss certain classes from appearing.\n",
    "But that evaluation is not a panacea for every classification problem,\n",
    "for example, **fraud and diagnostic classification** need a score in which\n",
    "false negatives weight much more than false positives.\n",
    "\n",
    "Also, most statistical fallacies do apply to machine learning models.\n",
    "The most common fallacy that make machine learning models to fail is the base rate fallacy.\n",
    "This fallacy is very well illustrated by *Alex Reinhart* in his book *Statistics Done Wrong*\n",
    "(see link to full text below):\n",
    "\n",
    "> Suppose 0.8% of women who get mammograms have breast cancer.\n",
    "> In 90% of women with breast cancer, the mammogram will correctly detect it.\n",
    "> (That’s the statistical power of the test.\n",
    "> This is an estimate, since it’s hard to tell how many cancers are missed if we don’t know they’re there.)\n",
    "> However, among women with no breast cancer at all, about 7% will get a positive reading on the mammogram,\n",
    "> leading to further tests and biopsies and so on.\n",
    "> If you get a positive mammogram result, what are the chances you have breast cancer?\n",
    ">\n",
    "> Ignoring the chance that you, the reader, are male, the answer is 9%.\n",
    "\n",
    "This could not be more true for machine learning.\n",
    "More often than not one is faced with datasets in which the prevalence of one class\n",
    "(normally negative, e.g. non-fraud, healthy) over others.\n",
    "It is often better to reduce the dataset and train on a sample where\n",
    "classes do not have orders of magnitude differences in population.\n",
    "In other words, a dataset is often as good (and as big)\n",
    "as the number of samples of the smaller class in the data.\n",
    "You cannot train a classifier to recognize Van Gogh paintings by giving\n",
    "it 1 Van Gogh painting and 10 million non-Van Gogh paintings."
   ]
  },
  {
   "cell_type": "markdown",
   "metadata": {},
   "source": [
    "## SciKit Learn\n",
    "\n",
    "We used SciKit Learn for some machine learning tasks\n",
    "but we are yet to outline the main objectives of the library.\n",
    "SciKit Learn is really a framework to perform machine learning solutions in,\n",
    "*not* just a collection of machine learning models.\n",
    "Originally SciKit Learn was part of Scipy\n",
    "but since it grew too large and was split.\n",
    "\n",
    "Data preprocessing and model selection are the strong points\n",
    "of the SciKit Learn framework.\n",
    "You will spend $90\\%$ of your time preprocessing the data and evaluating models\n",
    "instead of hacking model specific code,\n",
    "`sklearn` attempts to automate as much as possible of that time."
   ]
  },
  {
   "cell_type": "markdown",
   "metadata": {},
   "source": [
    "## References\n",
    "\n",
    "* [Base Rate Fallacy - Statistics Done Wrong][1]\n",
    "\n",
    "[1]: https://www.statisticsdonewrong.com/p-value.html \"statistics done wrong\""
   ]
  }
 ],
 "metadata": {
  "kernelspec": {
   "display_name": ".venv",
   "language": "python",
   "name": "python3"
  },
  "language_info": {
   "codemirror_mode": {
    "name": "ipython",
    "version": 3
   },
   "file_extension": ".py",
   "mimetype": "text/x-python",
   "name": "python",
   "nbconvert_exporter": "python",
   "pygments_lexer": "ipython3",
   "version": "3.11.12"
  }
 },
 "nbformat": 4,
 "nbformat_minor": 4
}
