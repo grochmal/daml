{
 "cells": [
  {
   "cell_type": "markdown",
   "metadata": {},
   "source": [
    "# 08.08 Unsupervised Learning Exercises\n",
    "\n",
    "Exercises rating:\n",
    "\n",
    "★☆☆ - You should be able to based on Python knowledge plus the text.\n",
    "\n",
    "★★☆ - You will need to do extra thinking and some extra reading/searching.\n",
    "\n",
    "★★★ - The answer is difficult to find by a simple search,\n",
    "      requires you to do a considerable amount of extra work by yourself\n",
    "      (feel free to ignore these exercises if you're short on time)."
   ]
  },
  {
   "cell_type": "code",
   "execution_count": null,
   "metadata": {},
   "outputs": [],
   "source": [
    "import matplotlib.pyplot as plt  # noqa: F401\n",
    "import numpy as np  # noqa: F401\n",
    "from sklearn.cluster import (  # noqa: F401\n",
    "    AgglomerativeClustering,\n",
    "    MiniBatchKMeans,\n",
    ")\n",
    "from sklearn.datasets import load_digits  # noqa: F401\n",
    "from sklearn.decomposition import PCA  # noqa: F401\n",
    "from sklearn.manifold import TSNE  # noqa: F401\n",
    "from sklearn.metrics import v_measure_score  # noqa: F401\n",
    "from sklearn.pipeline import make_pipeline  # noqa: F401\n",
    "\n",
    "digits = load_digits()"
   ]
  },
  {
   "cell_type": "markdown",
   "metadata": {},
   "source": [
    "### 1. Attempt k-means on the digits dataset after PCA (★★☆)\n",
    "\n",
    "Make a pipeline and join PCA and k-means into a single model.\n",
    "Does the v-measure improves after the use of linear preprocessing?"
   ]
  },
  {
   "cell_type": "code",
   "execution_count": null,
   "metadata": {},
   "outputs": [],
   "source": []
  },
  {
   "cell_type": "markdown",
   "metadata": {},
   "source": [
    "### 2. Attempt k-means on the digits dataset after t-SNE (★★☆)\n",
    "\n",
    "Now use t-SNE as the preprocessing.\n",
    "Does the v-measure improves after the use of non-linear preprocessing?\n",
    "\n",
    "Note that the t-SNE implementation of `sklearn` is incomplete.\n",
    "It does not have a plain `transform` method\n",
    "and is not applicable beyond the data for which it is `fit`.\n",
    "This is not a problem for us who are only exploring the\n",
    "non-linearity of the digits dataset.\n",
    "Instead of using plain `TSNE` in your pipeline use the class defined below (remember to execute this cell)."
   ]
  },
  {
   "cell_type": "code",
   "execution_count": null,
   "metadata": {},
   "outputs": [],
   "source": [
    "class PipeTSNE(TSNE):\n",
    "    def transform(self, x: np.ndarray) -> np.ndarray:\n",
    "        return self.fit_transform(x)"
   ]
  },
  {
   "cell_type": "code",
   "execution_count": null,
   "metadata": {},
   "outputs": [],
   "source": []
  },
  {
   "cell_type": "markdown",
   "metadata": {},
   "source": [
    "### 3. Attempt agglomerative clustering on the digits dataset after PCA (★★☆)\n",
    "\n",
    "Use `linkage='ward'` for the time being."
   ]
  },
  {
   "cell_type": "code",
   "execution_count": null,
   "metadata": {},
   "outputs": [],
   "source": []
  },
  {
   "cell_type": "markdown",
   "metadata": {},
   "source": [
    "### 4. Attempt agglomerative clustering on the digits dataset after t-SNE (★★☆)\n",
    "\n",
    "Remember to use the `PipeTSNE` defined above.\n",
    "Keep `linkage='ward'` in this exercise."
   ]
  },
  {
   "cell_type": "code",
   "execution_count": null,
   "metadata": {},
   "outputs": [],
   "source": []
  },
  {
   "cell_type": "markdown",
   "metadata": {},
   "source": [
    "### 5. Attempt single linkage on the digits dataset after t-SNE (★★☆)\n",
    "\n",
    "Remember to use the `PipeTSNE` defined above.\n",
    "Now it is time to use `linkage='single'` in the agglomerative clustering.\n",
    "Does single linkage perform better on the non-linearly preprocessed dataset\n",
    "than it did when we saw it performed on the raw data of the digits dataset?"
   ]
  },
  {
   "cell_type": "code",
   "execution_count": null,
   "metadata": {},
   "outputs": [],
   "source": []
  }
 ],
 "metadata": {
  "anaconda-cloud": {},
  "kernelspec": {
   "display_name": ".venv",
   "language": "python",
   "name": "python3"
  },
  "language_info": {
   "codemirror_mode": {
    "name": "ipython",
    "version": 3
   },
   "file_extension": ".py",
   "mimetype": "text/x-python",
   "name": "python",
   "nbconvert_exporter": "python",
   "pygments_lexer": "ipython3",
   "version": "3.11.12"
  }
 },
 "nbformat": 4,
 "nbformat_minor": 4
}
