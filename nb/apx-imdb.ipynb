{
 "cells": [
  {
   "cell_type": "markdown",
   "metadata": {},
   "source": [
    "# DAML Project - Movie Directors\n",
    "\n",
    "The IMBD website makes available a subset of its data on movies on it's [IMDB interfaces][imdbif]\n",
    "section.  This data is a dump of the websites database tables as CSV/TSV files, and it is\n",
    "licensed for personal and non-commercial use.  It is quite a big lump of data and therefore\n",
    "a good example of real-world data exploration and machine learning application.  Let's try to\n",
    "do something useful with this dataset.\n",
    "\n",
    "[imdbif]: http://www.imdb.com/interfaces/ \"interfaces section\""
   ]
  },
  {
   "cell_type": "markdown",
   "metadata": {},
   "source": [
    "## The Data\n",
    "\n",
    "Files are available at the [IMDB datasets][dsimdb] and come zipped with GNU-zip (`gzip`).\n",
    "`pandas`' `read_csv` is capable of inferring the correct python module to use to open the file,\n",
    "otherwise you can pass it the `compression='gzip'` argument.  To see the content of the files\n",
    "without `pandas`, on Linux/Mac running `gunzip` on the file should uncompress it, on Microsoft\n",
    "Windows most free unzipping programs will have a `gzip` option.\n",
    "\n",
    "[dsimdb]: https://datasets.imdbws.com/ \"datasets\"\n",
    "\n",
    "It is important to remember that the data comes from SQL tables.  And, therefore, the two most\n",
    "important columns will are `tconst` (for movies) and `nconst` (for people), these are\n",
    "the primary keys and it will be required to join the data over them.  Not all files from\n",
    "the database will be needed, deciding how to approach which files are needed is part\n",
    "of the problem (but see the hints below).\n",
    "\n",
    "Also note that the data is dirty to some extent.  We can find absurd movies in the dataset,\n",
    "e.g. movies in the future or without a cast.  Be careful and clean it up.  Also note that\n",
    "IMBD is alist of movies *and* series, and it stores the series as episodes.  Be careful\n",
    "to not count the series or not count every episode with the same value as a full movie."
   ]
  },
  {
   "cell_type": "markdown",
   "metadata": {
    "collapsed": true
   },
   "source": [
    "## The Problem\n",
    "\n",
    "We will divide the problem to solve it in three levels.  It is advisable to solve the first level,\n",
    "the second level is meant for everyone who enjoys an extra challenge, and the third level is\n",
    "even more challenging and not necessarily viable on a first or second attempt (read: I have not\n",
    "tried it yet but should be possible).  Anyhow, on to the problem.\n",
    "\n",
    "Most movie directors have a preferred group of actors with whom they like to work with.\n",
    "Moreover, they work in specific genres of movies, or make series, short films as movies.\n",
    "We will attempt to create a **movie director classifier**, which will tell us the director's\n",
    "name based only on the data that is available on IMDB.  In other words, given:\n",
    "\n",
    "- title\n",
    "- year\n",
    "- running time\n",
    "- genre(s)\n",
    "- cast\n",
    "- writers\n",
    "\n",
    "Of the movie, our classifier will tell us the movie director.\n",
    "How well it needs to perform depends on which level of the problem you are trying to solve.\n",
    "\n",
    "Note:  To consider a classifier built is to have it cross-validated across a grid of possible\n",
    "hyperparameters, and presenting a decent accuracy (e.g. F1) score."
   ]
  },
  {
   "cell_type": "markdown",
   "metadata": {},
   "source": [
    "### Level 1\n",
    "\n",
    "Given the data about the movie the classifier must be able to tell if the movie was\n",
    "directed by [Quentin Tarantino][quentin] or not.\n",
    "\n",
    "[quentin]: https://en.wikipedia.org/wiki/Quentin_Tarantino \"wikipedia\""
   ]
  },
  {
   "cell_type": "markdown",
   "metadata": {},
   "source": [
    "### Level 2\n",
    "\n",
    "Build a list of directors that have made at least 7 movies and create a classifier\n",
    "to distinguish between these movie directors."
   ]
  },
  {
   "cell_type": "markdown",
   "metadata": {},
   "source": [
    "### Level 3\n",
    "\n",
    "Now that we have a classifier for directors let's try to find the centre of each class\n",
    "in the high dimensional space and define relative distances.  For example, a way to tell\n",
    "whether [Roman Polanski][polanski]'s work is closer to Quentin Tarantino's\n",
    "or [Steven Spielberg][spielberg]'s.\n",
    "\n",
    "[polanski]: https://en.wikipedia.org/wiki/Roman_Polanski \"wikipedia\"\n",
    "[spielberg]: https://en.wikipedia.org/wiki/Steven_Spielberg \"wikipedia\"\n",
    "\n",
    "Finally cluster around the classes of directors with at least 7 movies directors who\n",
    "have less movies but do similar films (where similar means: according to out data).\n",
    "This tries to answer which aspiring new directors may become a specific genre big name,\n",
    "the specific genre being the one from the big director they are currently similar to."
   ]
  },
  {
   "cell_type": "markdown",
   "metadata": {},
   "source": [
    "## Hints\n",
    "\n",
    "-   Try different classifiers!  From simple ones advancing to more complex ones.\n",
    "    This is a more-or-less real world and a difficult problem, do not expect accuracy\n",
    "    of your classifier to be in the 90% range.  More than 80% accuracy is good enough.\n",
    "\n",
    "-   This project is a case of very heterogeneous features across a lot of data\n",
    "    but not much data that can be used by a classifier trainer.  This scenario\n",
    "    is often true in the real world.\n",
    "\n",
    "-   Most of the data is categorical in nature (names of people), you will be working\n",
    "    with sparse matrices of zeros and ones most of the time.  Transform your data into\n",
    "    these matrices after filtering out the data you do not need.  Changing every actor's\n",
    "    name into a dummy-variable column is likely to bust out the memory of the most\n",
    "    capable machines.\n",
    "\n",
    "-   Remember that the data is very, very high-dimensional.  And, due to the big amount\n",
    "    of categorical variables most of the decision boundaries are aligned to the axes\n",
    "    in some dimension.\n",
    "\n",
    "-   Several directors are often writers on their movies, several despise the idea.\n",
    "    The `writer` feature will be very important.\n",
    "\n",
    "-   Quentin Tarantino is known for working with a very small and selected group of actors.\n",
    "\n",
    "-   A classifier is trained badly with classes of different magnitudes, i.e. one class\n",
    "    with 10 samples and another with 10 000 samples.  When building the training set\n",
    "    try to even out the class magnitude.  This means that for the classifier on the\n",
    "    level 1, you probably will get best results with a total training set of less than\n",
    "    100 points.\n",
    "\n",
    "-   With datasets that are quite small (as most training sets will be here) the\n",
    "    cross-validation technique should be leave-one-out.\n",
    "\n",
    "-   When building a list of directors you may want to fine-tune it by hand.\n",
    "    It is completely fine to limit your classifier to Hollywood-only movies.\n",
    "    IMDB contains movies from several countries, which can make the classifier\n",
    "    work based on a country boundary by guessing across the cast for names that\n",
    "    are known in one country only.  This may make the classifier work worse\n",
    "    between directors in the same country.\n",
    "\n",
    "-   When building the clusters it may be wise to cluster only directors with at least 2 movies\n",
    "    on their making.  This allows you to try more expensive techniques and makes it easier\n",
    "    to avoid dirty data."
   ]
  }
 ],
 "metadata": {
  "anaconda-cloud": {},
  "kernelspec": {
   "display_name": ".venv",
   "language": "python",
   "name": "python3"
  },
  "language_info": {
   "codemirror_mode": {
    "name": "ipython",
    "version": 3
   },
   "file_extension": ".py",
   "mimetype": "text/x-python",
   "name": "python",
   "nbconvert_exporter": "python",
   "pygments_lexer": "ipython3",
   "version": "3.11.12"
  }
 },
 "nbformat": 4,
 "nbformat_minor": 1
}
