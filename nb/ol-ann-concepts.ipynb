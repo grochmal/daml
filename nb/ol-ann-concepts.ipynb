{
 "cells": [
  {
   "cell_type": "markdown",
   "metadata": {},
   "source": [
    "# 10.05 ANN Concepts\n",
    "\n",
    "OK, so how does all that work?\n",
    "We managed to train perceptrons because we knew what the output of each perceptron should be.\n",
    "And we saw that a perceptron can only output only two values with the `sign` activation function."
   ]
  },
  {
   "cell_type": "markdown",
   "metadata": {},
   "source": [
    "![Gradient](ol-gradient.svg)\n",
    "\n",
    "<div style=\"text-align:right;\"><sup>ol-gradient.svg</sup></div>"
   ]
  },
  {
   "cell_type": "markdown",
   "metadata": {},
   "source": [
    "In neural networks the perceptrons/neurons are organized in layers.\n",
    "\n",
    "- One *input layer* which has one perceptron per feature\n",
    "- At least one *hidden layer* with fully connected perceptrons\n",
    "- One output layer with one perceptron per output class\n",
    "  (or per output for regression)\n",
    "\n",
    "Each neuron will have its own weights, and these will be trained simultaneously\n",
    "across the entire network with a GD variant.\n",
    "This is often referred as a process called *backpropagation*.\n",
    "But before we dive into backpropagation let's discuss activation functions.\n",
    "The `sign` function is only one viable activation function,\n",
    "we can make our NN work with several others."
   ]
  },
  {
   "cell_type": "markdown",
   "metadata": {},
   "source": [
    "![Common Activation Functions](ol-activation-functions.svg)\n",
    "\n",
    "<div style=\"text-align:right;\"><sup>ol-activation-functions.svg</sup></div>"
   ]
  },
  {
   "cell_type": "markdown",
   "metadata": {},
   "source": [
    "Although this is not possible in `sklearn`, many NN libraries allow\n",
    "one to set a different activation function for each layer of the NN.\n",
    "All functions but the linear one allow for a touch of non-linearity\n",
    "during the processing.\n",
    "Note also how many of the functions clip the output to be either\n",
    "between $0$ and $1$ or between $-1$ and $1$.\n",
    "The clipping allow for the NN outputs for one single layer to be\n",
    "similar in magnitude to other layers,\n",
    "and the derivatives do not grow too high either.\n",
    "Unfortunately when we add more layers this clipping is not enough\n",
    "to prevent overly high or overly low derivatives and further tricks are needed\n",
    "but these are out of scope here.\n",
    "\n",
    "The equations of the functions shown are below.\n",
    "\n",
    "$$\n",
    "\\text{linear}(x) = x \\\\\n",
    "\\text{sign}(x) =\n",
    "\\begin{cases}\n",
    "-1 \\text{ if } x \\leq 0 \\\\\n",
    "1 \\text{ if } x > 0 \\\\\n",
    "\\end{cases} \\\\\n",
    "\\text{relu}(x) =\n",
    "\\begin{cases}\n",
    "0 \\text{ if } x \\leq 0 \\\\\n",
    "x \\text{ if } x > 0 \\\\\n",
    "\\end{cases} \\\\\n",
    "\\text{tanh}(x) = \\frac{e^{x} - e^{-x}}{e^{x} + e^{-x}}\\\\\n",
    "\\text{sigmoid}(x) = \\frac{1}{1 + e^{-x}}\n",
    "$$\n",
    "\n",
    "The exponential functions have very easy derivatives but may be\n",
    "expensive to compute when there are many neurons and many samples.\n",
    "The `relu` stands for Rectified Linear Unit and `tanh` for Hyperbolic Tangent."
   ]
  },
  {
   "cell_type": "markdown",
   "metadata": {},
   "source": [
    "And that's not all, for the last layer of the network other functions are often used.\n",
    "The most common of which is the `softmax` function,\n",
    "which scales all values so that the higher value moves apart from the lower ones.\n",
    "\n",
    "$$\\text{softmax}(x) = \\frac{e^{x_i}}{\\sum_{k = 0}^{N} e^{x_k}} , \\text{for i in }1, 2, \\dots, N$$"
   ]
  },
  {
   "cell_type": "markdown",
   "metadata": {},
   "source": [
    "![Artificial Neural Network](ol-ann-full.svg)\n",
    "\n",
    "<div style=\"text-align:right;\"><sup>ol-ann-full.svg</sup></div>"
   ]
  },
  {
   "cell_type": "markdown",
   "metadata": {},
   "source": [
    "A typical NN is organized in layers and there are connections between all\n",
    "neurons in adjacent layers.\n",
    "As in a perceptron the weights (model parameters) exist for every single connection.\n",
    "And for every neuron there exist a bias connection which always inputs\n",
    "a value of $1$ multiplied by its weight into the neuron."
   ]
  },
  {
   "cell_type": "markdown",
   "metadata": {},
   "source": [
    "## Backpropagation is just Gradient Descent really\n",
    "\n",
    "How can we train the perceptrons in the hidden layers?\n",
    "We do not really know what their output should be.\n",
    "Enters **backpropagation**,\n",
    "a technique to train a NN without the need to know\n",
    "what the outputs of every neuron should be.\n",
    "\n",
    "Backpropagation argues that we can divide the error or the NN according\n",
    "to the contribution of every weight.\n",
    "To find the contribution of every weight we use the partial derivative.\n",
    "\n",
    "$$\n",
    "\\nabla E = \\frac{\\partial E}{\\partial w_1}\\hat{\\imath} + \\frac{\\partial E}{\\partial w_2}\\hat{\\jmath} + \\ldots\n",
    "$$\n",
    "\n",
    "But we did see this before!\n",
    "That is the same equation as for Gradient Descent.\n",
    "Hence, to train a NN, all we need to do it to apply a variant of GD to it.\n",
    "\n",
    "Inside a NN library the NN is composed of several matrices.\n",
    "Calculation of derivatives on matrices is efficient due to some tricks in Vector Calculus.\n",
    "But for us the important part is that we can define the entire NN as just a set of operations,\n",
    "as a single function performing multiplications, additions and applying the activation functions."
   ]
  },
  {
   "cell_type": "markdown",
   "metadata": {},
   "source": [
    "![Neural Network Execution](ol-ann-matrix-form.svg)\n",
    "\n",
    "<div style=\"text-align:right;\"><sup>ol-ann-matrix-form.svg</sup></div>"
   ]
  },
  {
   "cell_type": "markdown",
   "metadata": {},
   "source": [
    "## Chain Rule\n",
    "\n",
    "Since we see that the NN itself is just a function.\n",
    "And if we subtract the expected values (the labels) we get the error function,\n",
    "we argue that all we need to train it is GD or a variant of it.\n",
    "In most cases we square, take the absolute value or even a more complex\n",
    "operation on the error to make it positive but it is still just a function.\n",
    "We also often add an `L2` or `L1` regularization term to this function.\n",
    "\n",
    "To perform GD all we need are derivatives.\n",
    "And it turns out that by a clever use of the derivation chain rule\n",
    "a computer can automate the differentiation of even quite complicated functions."
   ]
  },
  {
   "cell_type": "markdown",
   "metadata": {},
   "source": [
    "A complete explanation of the chain rule is beyond our scope.\n",
    "But we can do an example using the chain rule on a reasonably complex function\n",
    "to see how a computer can perform the derivation.\n",
    "\n",
    "$$\n",
    "f(x, y) = (xy + 3)^2 + 1\n",
    "$$\n",
    "\n",
    "Working by hand we can find that the partial derivative against $x$ is:\n",
    "\n",
    "$$\n",
    "\\frac{\\partial f}{\\partial x} = 2xy^2 + 6y\n",
    "$$\n",
    "\n",
    "But that requires a human to do the thinking on how to derivate.\n",
    "For a computer to do it we divide $f$ into several simple functions.\n",
    "Each function performs only a single operation.\n",
    "\n",
    "$$\n",
    "g(h) = h + 1 \\\\\n",
    "h(k) = k^2 \\\\\n",
    "k(m) = m + 3 \\\\\n",
    "m(x, y) = xy\n",
    "$$\n",
    "\n",
    "This way we can write $f$ as.\n",
    "\n",
    "$$\n",
    "f(x, y) = g(h(k(m(x, y))))\n",
    "$$"
   ]
  },
  {
   "cell_type": "markdown",
   "metadata": {},
   "source": [
    "By the chain rule we know that.\n",
    "\n",
    "$$\n",
    "\\frac{\\partial f}{\\partial x} =\n",
    "\\frac{\\partial g}{\\partial h} \\cdot\n",
    "\\frac{\\partial h}{\\partial k} \\cdot\n",
    "\\frac{\\partial k}{\\partial m} \\cdot\n",
    "\\frac{\\partial m}{\\partial x}\n",
    "$$\n",
    "\n",
    "So we calculate each of them.\n",
    "\n",
    "$$\n",
    "\\frac{\\partial g}{\\partial h} = 1 \\\\\n",
    "\\frac{\\partial h}{\\partial k} = 2k = 2(m + 3) = 2(xy + 3) = 2xy + 6 \\\\\n",
    "\\frac{\\partial k}{\\partial m} = 1 \\\\\n",
    "\\frac{\\partial m}{\\partial x} = y\n",
    "$$\n",
    "\n",
    "Substitute in the equation above and we get.\n",
    "\n",
    "$$\n",
    "\\frac{\\partial f}{\\partial x} = 1 \\cdot (2xy + 6) \\cdot 1 \\cdot y = 2xy^2 + 6y\n",
    "$$\n",
    "\n",
    "The same result."
   ]
  },
  {
   "cell_type": "markdown",
   "metadata": {},
   "source": [
    "Hence GD can be performed easily on complex functions.\n",
    "Computationally there are techniques to calculate $\\frac{\\partial f}{\\partial x}$\n",
    "and $\\frac{\\partial f}{\\partial y}$ at once\n",
    "but the operations are exactly the ones described above in the chain rule example.\n",
    "\n",
    "It turns out that computationally it is more efficient to calculate the derivatives\n",
    "backward, i.e. in the order: $\\frac{\\partial m}{\\partial x}$,\n",
    "$\\frac{\\partial k}{\\partial m}$, $\\frac{\\partial h}{\\partial k}$\n",
    "and $\\frac{\\partial g}{\\partial h}$.\n",
    "The term **backpropagation** comes from this backward order through the chain rule.\n",
    "*Not* backward through the NN as it is *incorrectly* said in many texts.\n",
    "OK, fair enough, perhaps the analogy of backpropagation going through the network\n",
    "itself is not completely incorrect - there is some truth in it if you think about\n",
    "the internal computational graph that performs the derivation.\n",
    "But be wary of the analogy of the backpropagation going backward through the network,\n",
    "the mindset presented by that analogy can hinder one's attempts at understanding the\n",
    "mathematics behind the chain rule use for NN training.\n",
    "\n",
    "The forward propagation i.e. calculating the derivatives in the order\n",
    "$\\frac{\\partial g}{\\partial h}$, $\\frac{\\partial h}{\\partial k}$\n",
    "$\\frac{\\partial k}{\\partial m}$ and  $\\frac{\\partial m}{\\partial x}$,\n",
    "is called forward propagation and it is a viable way of training the NN.\n",
    "The forward propagation requires a lot more memory than backpropagation\n",
    "to store intermediate values.\n",
    "Hence backpropagation is preferred in almost all cases."
   ]
  }
 ],
 "metadata": {
  "anaconda-cloud": {},
  "kernelspec": {
   "display_name": "Python 3 (ipykernel)",
   "language": "python",
   "name": "python3"
  },
  "language_info": {
   "codemirror_mode": {
    "name": "ipython",
    "version": 3
   },
   "file_extension": ".py",
   "mimetype": "text/x-python",
   "name": "python",
   "nbconvert_exporter": "python",
   "pygments_lexer": "ipython3",
   "version": "3.13.2"
  }
 },
 "nbformat": 4,
 "nbformat_minor": 4
}
