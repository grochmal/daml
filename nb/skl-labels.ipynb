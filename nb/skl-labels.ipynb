{
 "cells": [
  {
   "cell_type": "markdown",
   "metadata": {},
   "source": [
    "# 06.04 - Labels\n",
    "\n",
    "We went through a classification example but we left several loose ends.\n",
    "Machine Learning algorithms work only on numbers and that is also true\n",
    "for the classes that can be predicted.\n",
    "We didn't predict colors with our $k$ nearest neighbors algorithms,\n",
    "we did predict the *index* of the color - in that case it was either $0$ or $1$.\n",
    "In order to predict anything using an ML algorithm\n",
    "we need to encode the classes we are to predict as indexes.\n",
    "`sklearn` has tools to help us in this endeavor."
   ]
  },
  {
   "cell_type": "code",
   "execution_count": null,
   "metadata": {},
   "outputs": [],
   "source": [
    "import pandas as pd\n",
    "from sklearn import metrics\n",
    "from sklearn.preprocessing import LabelEncoder"
   ]
  },
  {
   "cell_type": "markdown",
   "metadata": {},
   "source": [
    "The `LabelEncoder` works in a similar fashion to an `sklearn`\n",
    "model and preforms the encoding of classes as indexes.\n",
    "In order to perform some label encoding we will argue on\n",
    "a classification of vehicles.\n",
    "Based on its length (in meters) and its weight (in kilograms)\n",
    "a vehicle in the following dataset can be classified as a *car* or a *ship*."
   ]
  },
  {
   "cell_type": "code",
   "execution_count": null,
   "metadata": {},
   "outputs": [
    {
     "data": {
      "text/html": [
       "<div>\n",
       "<style scoped>\n",
       "    .dataframe tbody tr th:only-of-type {\n",
       "        vertical-align: middle;\n",
       "    }\n",
       "\n",
       "    .dataframe tbody tr th {\n",
       "        vertical-align: top;\n",
       "    }\n",
       "\n",
       "    .dataframe thead th {\n",
       "        text-align: right;\n",
       "    }\n",
       "</style>\n",
       "<table border=\"1\" class=\"dataframe\">\n",
       "  <thead>\n",
       "    <tr style=\"text-align: right;\">\n",
       "      <th></th>\n",
       "      <th>length</th>\n",
       "      <th>weight</th>\n",
       "      <th>vehicle</th>\n",
       "    </tr>\n",
       "  </thead>\n",
       "  <tbody>\n",
       "    <tr>\n",
       "      <th>0</th>\n",
       "      <td>3.0</td>\n",
       "      <td>1200</td>\n",
       "      <td>car</td>\n",
       "    </tr>\n",
       "    <tr>\n",
       "      <th>1</th>\n",
       "      <td>5.0</td>\n",
       "      <td>2500</td>\n",
       "      <td>car</td>\n",
       "    </tr>\n",
       "    <tr>\n",
       "      <th>2</th>\n",
       "      <td>320.0</td>\n",
       "      <td>25000000</td>\n",
       "      <td>ship</td>\n",
       "    </tr>\n",
       "    <tr>\n",
       "      <th>3</th>\n",
       "      <td>3.2</td>\n",
       "      <td>1500</td>\n",
       "      <td>car</td>\n",
       "    </tr>\n",
       "    <tr>\n",
       "      <th>4</th>\n",
       "      <td>250.0</td>\n",
       "      <td>1000000</td>\n",
       "      <td>ship</td>\n",
       "    </tr>\n",
       "    <tr>\n",
       "      <th>5</th>\n",
       "      <td>4.0</td>\n",
       "      <td>1000</td>\n",
       "      <td>car</td>\n",
       "    </tr>\n",
       "  </tbody>\n",
       "</table>\n",
       "</div>"
      ],
      "text/plain": [
       "   length    weight vehicle\n",
       "0     3.0      1200     car\n",
       "1     5.0      2500     car\n",
       "2   320.0  25000000    ship\n",
       "3     3.2      1500     car\n",
       "4   250.0   1000000    ship\n",
       "5     4.0      1000     car"
      ]
     },
     "execution_count": 2,
     "metadata": {},
     "output_type": "execute_result"
    }
   ],
   "source": [
    "labels_df = pd.DataFrame(\n",
    "    dict(\n",
    "        length=[3.0, 5.0, 320.0, 3.2, 250.0, 4.0],\n",
    "        weight=[1200, 2500, 25000000, 1500, 1000000, 1000],\n",
    "        vehicle=[\"car\", \"car\", \"ship\", \"car\", \"ship\", \"car\"],\n",
    "    )\n",
    ")\n",
    "labels_df"
   ]
  },
  {
   "cell_type": "markdown",
   "metadata": {},
   "source": [
    "The actual classification task is trivial: ships are considerably longer\n",
    "and heavier than cars.\n",
    "Our interest is not in the classification itself but in the way\n",
    "of encoding these words (\"car\" and \"ship\") in order to feed it\n",
    "to a machine learning algorithm.\n",
    "And moreover, in order to evaluate the quality of the ML algirithm used.\n",
    "\n",
    "The `LabelEncoder` stores state and has `fit` and `transform` methods\n",
    "just as an `sklearn` model.\n",
    "This is a common pattern in `sklearn`, tools for data preprocessing\n",
    "will fit the data and then transform it."
   ]
  },
  {
   "cell_type": "code",
   "execution_count": null,
   "metadata": {},
   "outputs": [
    {
     "data": {
      "text/plain": [
       "array([0, 0, 1, 0, 1, 0])"
      ]
     },
     "execution_count": 3,
     "metadata": {},
     "output_type": "execute_result"
    }
   ],
   "source": [
    "enc = LabelEncoder()\n",
    "enc.fit(labels_df.vehicle)\n",
    "enc.transform(labels_df.vehicle)"
   ]
  },
  {
   "cell_type": "markdown",
   "metadata": {},
   "source": [
    "![Label Buckets](skl-labels.svg)\n",
    "\n",
    "<div style=\"text-align:right;\"><sup>skl-labels.svg</sup></div>"
   ]
  },
  {
   "cell_type": "markdown",
   "metadata": {},
   "source": [
    "And the reason for splitting the fitting and transforming stages,\n",
    "in a task as simple as enumerating a list of two values,\n",
    "lies in the fact that the transformation can be reused.\n",
    "\n",
    "For example, if new data becomes available on top of the set we have defined,\n",
    "we can simply apply the transformation directly to the new data."
   ]
  },
  {
   "cell_type": "code",
   "execution_count": 4,
   "metadata": {},
   "outputs": [
    {
     "data": {
      "text/plain": [
       "array([0, 1, 1])"
      ]
     },
     "execution_count": 4,
     "metadata": {},
     "output_type": "execute_result"
    }
   ],
   "source": [
    "enc.transform([\"car\", \"ship\", \"ship\"])"
   ]
  },
  {
   "cell_type": "markdown",
   "metadata": {},
   "source": [
    "Let us see now why working with numbers only can make things easier.\n",
    "We copied the set of correct labels and performed a transform\n",
    "of them into indexes.\n",
    "We call these correct labels `y_true`.\n",
    "\n",
    "Then we imagine that a prediction has been made,\n",
    "we transform the labels of the prediction we made up\n",
    "and call is `y_hat`.\n",
    "The name `y_hat` comes from the convention where\n",
    "predictions are called $\\hat{y}$ in statistical modeling.\n",
    "The contents of `y_hat` are in the format just as an ML\n",
    "model would have spat it out."
   ]
  },
  {
   "cell_type": "code",
   "execution_count": 5,
   "metadata": {},
   "outputs": [
    {
     "data": {
      "text/html": [
       "<div>\n",
       "<style scoped>\n",
       "    .dataframe tbody tr th:only-of-type {\n",
       "        vertical-align: middle;\n",
       "    }\n",
       "\n",
       "    .dataframe tbody tr th {\n",
       "        vertical-align: top;\n",
       "    }\n",
       "\n",
       "    .dataframe thead th {\n",
       "        text-align: right;\n",
       "    }\n",
       "</style>\n",
       "<table border=\"1\" class=\"dataframe\">\n",
       "  <thead>\n",
       "    <tr style=\"text-align: right;\">\n",
       "      <th></th>\n",
       "      <th>y_true</th>\n",
       "      <th>y_hat</th>\n",
       "    </tr>\n",
       "  </thead>\n",
       "  <tbody>\n",
       "    <tr>\n",
       "      <th>0</th>\n",
       "      <td>0</td>\n",
       "      <td>0</td>\n",
       "    </tr>\n",
       "    <tr>\n",
       "      <th>1</th>\n",
       "      <td>0</td>\n",
       "      <td>1</td>\n",
       "    </tr>\n",
       "    <tr>\n",
       "      <th>2</th>\n",
       "      <td>1</td>\n",
       "      <td>1</td>\n",
       "    </tr>\n",
       "    <tr>\n",
       "      <th>3</th>\n",
       "      <td>0</td>\n",
       "      <td>0</td>\n",
       "    </tr>\n",
       "    <tr>\n",
       "      <th>4</th>\n",
       "      <td>1</td>\n",
       "      <td>1</td>\n",
       "    </tr>\n",
       "    <tr>\n",
       "      <th>5</th>\n",
       "      <td>0</td>\n",
       "      <td>0</td>\n",
       "    </tr>\n",
       "  </tbody>\n",
       "</table>\n",
       "</div>"
      ],
      "text/plain": [
       "   y_true  y_hat\n",
       "0       0      0\n",
       "1       0      1\n",
       "2       1      1\n",
       "3       0      0\n",
       "4       1      1\n",
       "5       0      0"
      ]
     },
     "execution_count": 5,
     "metadata": {},
     "output_type": "execute_result"
    }
   ],
   "source": [
    "y_true = enc.transform([\"car\", \"car\", \"ship\", \"car\", \"ship\", \"car\"])\n",
    "y_hat = enc.transform([\"car\", \"ship\", \"ship\", \"car\", \"ship\", \"car\"])\n",
    "pd.DataFrame(dict(y_true=y_true, y_hat=y_hat))"
   ]
  },
  {
   "cell_type": "markdown",
   "metadata": {},
   "source": [
    "We did use a handful of scores when attempting to find the best\n",
    "hyperparameter value for our model in the blue and yellow points.\n",
    "Some of the scores only work for two classes: $0$ and $1$,\n",
    "whilst others work for many classes.\n",
    "This division is another grouping of scoring and classifiers.\n",
    "There are *binary* classifiers that only distinguish between two classes,\n",
    "and *multiclass* classifiers that can deal with many classes at once.\n",
    "We will come back to these concepts eventually,\n",
    "for now let us just argue that the vast majority of real life problems are binary.\n",
    "Is this river above pollution threshold?\n",
    "Is this transaction a fraud?\n",
    "\n",
    "There are techniques to make binary classifiers work for several classes and,\n",
    "eventually, we will look at these techniques.\n",
    "For now let us use the binary case of cars and ships.\n",
    "In order to understand the next couple of scores we first need to\n",
    "rephrase our classification problem: we are not \"identifying cars and ships\";\n",
    "We are \"identifying ships among cars\".\n",
    "The change in phrasing mean that only the ship identification is important,\n",
    "the value of $1$ after encoding.\n",
    "This is often called the positive class."
   ]
  },
  {
   "cell_type": "markdown",
   "metadata": {},
   "source": [
    "With the positive class defined we can not define a prediction that is:\n",
    "\n",
    "- True Positive (TP), as a prediction that is $1$ and the true label is $1$.\n",
    "- False Positive (FP), as a prediction that is $1$ but the true label is $0$.\n",
    "- True Negative (TN), as a prediction that is $0$ and the true label is $0$.\n",
    "- False Negative (FN), as a prediction that is $0$ but the true label is $1$.\n",
    "\n",
    "In our `y_hat` we have $TP = 2$, $FP = 1$, $TN = 3$ and $FN = 0$.\n",
    "With that in mind we can look at the scores."
   ]
  },
  {
   "cell_type": "markdown",
   "metadata": {},
   "source": [
    "#### precision\n",
    "\n",
    "$$P = \\frac{true\\:positives}{true\\:positives + false\\:positives}$$\n",
    "\n",
    "Precision asks whether identifying a positive is sure to really be a positive.\n",
    "Whether once we identify a ship we can be confident that it is a ship.\n",
    "Note that for a perfect precision score all that is needed is to correctly\n",
    "identify one ship and say that everything else are cars.\n",
    "If we identify one ship correctly and no other ships means that all ships we\n",
    "identified are indeed ships,\n",
    "any ships we may have missed do not matter."
   ]
  },
  {
   "cell_type": "code",
   "execution_count": 6,
   "metadata": {},
   "outputs": [
    {
     "data": {
      "text/plain": [
       "0.6666666666666666"
      ]
     },
     "execution_count": 6,
     "metadata": {},
     "output_type": "execute_result"
    }
   ],
   "source": [
    "metrics.precision_score(y_true, y_hat)"
   ]
  },
  {
   "cell_type": "markdown",
   "metadata": {},
   "source": [
    "We can replicate the same calculation by hand."
   ]
  },
  {
   "cell_type": "code",
   "execution_count": 7,
   "metadata": {},
   "outputs": [
    {
     "data": {
      "text/plain": [
       "0.6666666666666666"
      ]
     },
     "execution_count": 7,
     "metadata": {},
     "output_type": "execute_result"
    }
   ],
   "source": [
    "tp = 2\n",
    "fp = 1\n",
    "tp / (tp + fp)"
   ]
  },
  {
   "cell_type": "markdown",
   "metadata": {},
   "source": [
    "#### recall\n",
    "\n",
    "$$R = \\frac{true\\:positives}{true\\:positives + false\\:negatives}$$\n",
    "\n",
    "Recall is to some extent the opposite of precision.\n",
    "It asks whether we missed any ships, i.e. if we miss to classify\n",
    "any ship as a ship then the recall score deteriorates.\n",
    "Note that a perfect recall score can be achieved by classifying everything as a ship\n",
    "We certainly do not miss any ships that way but it is not a useful model."
   ]
  },
  {
   "cell_type": "code",
   "execution_count": 8,
   "metadata": {},
   "outputs": [
    {
     "data": {
      "text/plain": [
       "1.0"
      ]
     },
     "execution_count": 8,
     "metadata": {},
     "output_type": "execute_result"
    }
   ],
   "source": [
    "metrics.recall_score(y_true, y_hat)"
   ]
  },
  {
   "cell_type": "markdown",
   "metadata": {},
   "source": [
    "And again we can replicate the calculation by hand."
   ]
  },
  {
   "cell_type": "code",
   "execution_count": 9,
   "metadata": {},
   "outputs": [
    {
     "data": {
      "text/plain": [
       "1.0"
      ]
     },
     "execution_count": 9,
     "metadata": {},
     "output_type": "execute_result"
    }
   ],
   "source": [
    "tp = 2\n",
    "fn = 0\n",
    "tp / (tp + fn)"
   ]
  },
  {
   "cell_type": "markdown",
   "metadata": {},
   "source": [
    "#### F1 score\n",
    "\n",
    "$$F_1 = \\frac{2}{\\frac{1}{P} + \\frac{1}{R}}=2 \\frac{P \\cdot R}{P + R}$$\n",
    "\n",
    "F1 score is one of the scores we did use until now.\n",
    "The score is a harmonic mean between precision ($P$) and recall ($R$).\n",
    "The F1 score does not allow either precision or recall to go too low.\n",
    "The final result is a reasonable balance between recall and precision."
   ]
  },
  {
   "cell_type": "code",
   "execution_count": 10,
   "metadata": {},
   "outputs": [
    {
     "data": {
      "text/plain": [
       "0.8"
      ]
     },
     "execution_count": 10,
     "metadata": {},
     "output_type": "execute_result"
    }
   ],
   "source": [
    "metrics.f1_score(y_true, y_hat)"
   ]
  },
  {
   "cell_type": "markdown",
   "metadata": {},
   "source": [
    "And once again we replicate by ourselves."
   ]
  },
  {
   "cell_type": "code",
   "execution_count": 11,
   "metadata": {},
   "outputs": [
    {
     "data": {
      "text/plain": [
       "0.8"
      ]
     },
     "execution_count": 11,
     "metadata": {},
     "output_type": "execute_result"
    }
   ],
   "source": [
    "tp = 2\n",
    "fp = 1\n",
    "fn = 0\n",
    "p = tp / (tp + fp)\n",
    "r = tp / (tp + fn)\n",
    "2 / (1 / p + 1 / r)"
   ]
  },
  {
   "cell_type": "markdown",
   "metadata": {},
   "source": [
    "#### Accuracy Score\n",
    "\n",
    "$$\n",
    "\\frac{1}{N} \\sum_{i=1}^{N} 1 (y = \\hat{y})\n",
    "$$\n",
    "\n",
    "The accuracy score is the other score we used,\n",
    "and it is also the default score used by `sklearn` for classifiers.\n",
    "The expression $y = \\hat{y}$ evaluates to $1$ if the prediction\n",
    "and the true label are the same and to $0$ otherwise."
   ]
  },
  {
   "cell_type": "code",
   "execution_count": 12,
   "metadata": {},
   "outputs": [
    {
     "data": {
      "text/plain": [
       "0.8333333333333334"
      ]
     },
     "execution_count": 12,
     "metadata": {},
     "output_type": "execute_result"
    }
   ],
   "source": [
    "metrics.accuracy_score(y_true, y_hat)"
   ]
  },
  {
   "cell_type": "markdown",
   "metadata": {},
   "source": [
    "And as we have been doing we evaluate the same values by hand,\n",
    "this is order to prove to ourselves that `sklearn` is not doing anything out of the ordinary.\n",
    "We got $5$ our of the $6$ labels correctly, hence."
   ]
  },
  {
   "cell_type": "code",
   "execution_count": 13,
   "metadata": {},
   "outputs": [
    {
     "data": {
      "text/plain": [
       "np.float64(0.8333333333333334)"
      ]
     },
     "execution_count": 13,
     "metadata": {},
     "output_type": "execute_result"
    }
   ],
   "source": [
    "(y_true == y_hat).sum() / len(y_hat)"
   ]
  },
  {
   "cell_type": "markdown",
   "metadata": {},
   "source": [
    "The accuracy score can deal with more than two classes.\n",
    "If we attempt to classify cars, ships and planes in the same dataset;\n",
    "the accuracy score will be a good score to evaluate the model.\n",
    "Here we do not need any clever phrasing or positive class,\n",
    "we only need the classes and whether the labels match to the predictions.\n",
    "\n",
    "That said the accuracy score is often quite overoptimistic about\n",
    "model performance.\n",
    "Next we quickly build an encoder for $3$ classes\n",
    "and evaluate a case in which we get $6$ out of $7$ predictions right."
   ]
  },
  {
   "cell_type": "code",
   "execution_count": 14,
   "metadata": {},
   "outputs": [
    {
     "data": {
      "text/plain": [
       "(0.8571428571428571, np.float64(0.8571428571428571))"
      ]
     },
     "execution_count": 14,
     "metadata": {},
     "output_type": "execute_result"
    }
   ],
   "source": [
    "enc = LabelEncoder()\n",
    "enc.fit([\"car\", \"ship\", \"plane\"])\n",
    "y_true = enc.transform([\"car\", \"car\", \"ship\", \"car\", \"ship\", \"car\", \"plane\"])\n",
    "y_hat = enc.transform([\"car\", \"ship\", \"ship\", \"car\", \"ship\", \"car\", \"plane\"])\n",
    "metrics.accuracy_score(y_true, y_hat), (y_true == y_hat).sum() / len(y_hat)"
   ]
  },
  {
   "cell_type": "markdown",
   "metadata": {},
   "source": [
    "Other common scoring functions include `log_loss` for evaluating probabilities\n",
    "or the `roc_auc_score` for the area under the ROC curve.\n",
    "There are often reasons to use one scoring function over another.\n",
    "For example, in a medical test or in a lawsuit classifier one\n",
    "would want to prioritize *recall*.\n",
    "This is because in medicine we want a test which almost certainly will identify\n",
    "a sick patient, even if there are some non-negligible false positives.\n",
    "And in law one cannot miss relevant cases, even if some false positives creep in.\n",
    "\n",
    "Another concept to not that a metric that is named a *score*\n",
    "will have its best value - e.g. a good classifier close to $1$ - as\n",
    "a high value, and a bad value at a low score.\n",
    "A *loss* or *error* on the other hand will have the best value as $0$,\n",
    "\n",
    "In the model we have been using we have only a single free parameter,\n",
    "and it is integer valued which makes it easy to select by hand.\n",
    "Some models have dozens of real valued parameters making the search\n",
    "for an optimal parameter much harder.\n",
    "We will see that when we look at these models."
   ]
  },
  {
   "cell_type": "markdown",
   "metadata": {},
   "source": [
    "# References\n",
    "\n",
    "- [Metrics and Scoring - sklearn user guide][1]\n",
    "- [Evaluation of retrieved sets/classes - IR intro][2]\n",
    "\n",
    "[1]: https://scikit-learn.org/stable/modules/model_evaluation.html \"Metrics and Scoring\"\n",
    "[2]: https://nlp.stanford.edu/IR-book/html/htmledition/evaluation-of-unranked-retrieval-sets-1.html \"IR Book\""
   ]
  }
 ],
 "metadata": {
  "anaconda-cloud": {},
  "kernelspec": {
   "display_name": ".venv",
   "language": "python",
   "name": "python3"
  },
  "language_info": {
   "codemirror_mode": {
    "name": "ipython",
    "version": 3
   },
   "file_extension": ".py",
   "mimetype": "text/x-python",
   "name": "python",
   "nbconvert_exporter": "python",
   "pygments_lexer": "ipython3",
   "version": "3.11.12"
  }
 },
 "nbformat": 4,
 "nbformat_minor": 4
}
