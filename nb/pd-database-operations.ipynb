{
 "cells": [
  {
   "cell_type": "markdown",
   "metadata": {},
   "source": [
    "# DAML 04 - Pandas Indexes as Dimensions\n",
    "\n",
    "Michal Grochmal <michal.grochmal@city.ac.uk>"
   ]
  },
  {
   "cell_type": "markdown",
   "metadata": {},
   "source": [
    "Indexes in `pandas` do much more than enumerating the rows of a series or data frame.\n",
    "An index can hold a list of values as the index of a certain element, in other words\n",
    "we can have a combination of values as the index, a multi-index.  Column names are also\n",
    "an index and can be multi-valued as well.\n",
    "\n",
    "Let's pick the numeric columns from our British Isles data frame and *stack* them\n",
    "together into a multiple index."
   ]
  },
  {
   "cell_type": "code",
   "execution_count": null,
   "metadata": {
    "ExecuteTime": {
     "end_time": "2017-05-10T11:14:24.087336Z",
     "start_time": "2017-05-10T12:14:23.438294+01:00"
    },
    "slideshow": {
     "slide_type": "skip"
    }
   },
   "outputs": [],
   "source": [
    "import numpy as np\n",
    "import pandas as pd\n",
    "pd.options.display.max_rows = 12"
   ]
  },
  {
   "cell_type": "code",
   "execution_count": null,
   "metadata": {},
   "outputs": [],
   "source": [
    "country = ['Northern Ireland', 'Scotland', 'Wales', 'England', 'Isle of Man']\n",
    "capital = ['Belfast', 'Edinburgh', 'Cardiff', 'London', 'Douglas']\n",
    "area = np.array([14130, 77933, 20779, 130279, 572])\n",
    "population2017 = np.array([1876695, 5404700, np.nan, 55268100, np.nan])\n",
    "population2011 = np.array([1810863, 5313600, 3063456, 53012456, 83314])\n",
    "data = pd.DataFrame({'area': area,\n",
    "                     'capital': capital,\n",
    "                     'population 2011': population2011,\n",
    "                     'population 2017': population2017},\n",
    "                    index=country).sort_index()\n",
    "data"
   ]
  },
  {
   "cell_type": "code",
   "execution_count": null,
   "metadata": {},
   "outputs": [],
   "source": [
    "pop = data[['population 2011', 'population 2017']]\n",
    "pop.columns = [2011, 2017]\n",
    "pop"
   ]
  },
  {
   "cell_type": "markdown",
   "metadata": {},
   "source": [
    "We also renamed the columns to 2011 and 2017 to make examples shorter.\n",
    "\n",
    "Now we stack, and we get a `Series` with a double valued index."
   ]
  },
  {
   "cell_type": "code",
   "execution_count": null,
   "metadata": {},
   "outputs": [],
   "source": [
    "pop_year = pop.stack()\n",
    "pop_year"
   ]
  },
  {
   "cell_type": "markdown",
   "metadata": {},
   "source": [
    "Selecting only one part of the index provides a single indexed data frame,\n",
    "which may contain more than one value."
   ]
  },
  {
   "cell_type": "code",
   "execution_count": null,
   "metadata": {},
   "outputs": [],
   "source": [
    "pop_year['England']"
   ]
  },
  {
   "cell_type": "markdown",
   "metadata": {},
   "source": [
    "To get a single value we select a combined index value.\n",
    "Note that the tuple syntax is not necessary for `Series`\n",
    "but may be needed for data frames."
   ]
  },
  {
   "cell_type": "code",
   "execution_count": null,
   "metadata": {},
   "outputs": [],
   "source": [
    "pop_year[('England', 2011)]"
   ]
  },
  {
   "cell_type": "markdown",
   "metadata": {},
   "source": [
    "The slicing operators allow us to select parts of the index.\n",
    "For example, all places that do have data for 2017."
   ]
  },
  {
   "cell_type": "code",
   "execution_count": null,
   "metadata": {},
   "outputs": [],
   "source": [
    "pop_year[:, 2017]"
   ]
  },
  {
   "cell_type": "markdown",
   "metadata": {},
   "source": [
    "By *unstacking* we get back the data frame."
   ]
  },
  {
   "cell_type": "code",
   "execution_count": null,
   "metadata": {},
   "outputs": [],
   "source": [
    "pop_year.unstack()"
   ]
  },
  {
   "cell_type": "markdown",
   "metadata": {},
   "source": [
    "## Indexes on Data Frames\n",
    "\n",
    "If rows and columns are indexed in the same way we can exchange the row\n",
    "(index) labels with column labels and reposition data appropriately.\n",
    "Moreover, if several values are used to index a row or column we can exchange\n",
    "only some of the values between rows and columns, or vice-versa.\n",
    "That sounds horribly complicated but it is actually a common task within databases,\n",
    "notably data warehouses.\n",
    "The operation of changing labels between rows and columns whilst reordering the data\n",
    "accordingly is called **pivoting** or **crosstabbing** in database jargon.\n",
    "Database software extensions often provide pivot or crosstab operations.\n",
    "\n",
    "Before we attempt pivoting let's try to move the index into the data frame itself."
   ]
  },
  {
   "cell_type": "code",
   "execution_count": null,
   "metadata": {},
   "outputs": [],
   "source": [
    "pop.index.name = 'country'\n",
    "pop_full = pop.reset_index()\n",
    "pop_full"
   ]
  },
  {
   "cell_type": "markdown",
   "metadata": {},
   "source": [
    "We moved the index into a column, good.\n",
    "But since the columns are an index too we can move them into the data frame too."
   ]
  },
  {
   "cell_type": "code",
   "execution_count": null,
   "metadata": {},
   "outputs": [],
   "source": [
    "pop_melt = pop_full.melt(id_vars=['country'], var_name='year')\n",
    "pop_melt"
   ]
  },
  {
   "cell_type": "markdown",
   "metadata": {},
   "source": [
    "Melting a data frame produces spread data,\n",
    "i.e. we see the same data as before but instead of looking through a row and column\n",
    "we look at a combination of columns in a row to understand what the \"value\" means.\n",
    "\n",
    "The *pivot* operation is the opposite of melting.\n",
    "We build meaningful columns from the data in the rows."
   ]
  },
  {
   "cell_type": "code",
   "execution_count": null,
   "metadata": {},
   "outputs": [],
   "source": [
    "pop_full = pop_melt.pivot(index='country', columns='year', values='value')\n",
    "pop_full"
   ]
  },
  {
   "cell_type": "markdown",
   "metadata": {},
   "source": [
    "Pivoting can be powerful,\n",
    "not only it can build new columns but it can aggregate the resulting values.\n",
    "In `pandas` the `pivot_table` method accept aggregations.\n",
    "We can output a mean and keep the number of values from which the mean was taken from."
   ]
  },
  {
   "cell_type": "code",
   "execution_count": null,
   "metadata": {},
   "outputs": [],
   "source": [
    "pop_agg = pop_melt[['country', 'value']].pivot_table(\n",
    "    index='country', aggfunc=[np.mean, lambda x: np.sum(~np.isnan(x)), np.max, np.min])\n",
    "pop_agg"
   ]
  },
  {
   "cell_type": "markdown",
   "metadata": {},
   "source": [
    "There is a side effect here.\n",
    "Since we may aggregate on more than a single column at once we get a multi-index\n",
    "on the columns.  Since we do not need it for this case we name the columns ourselves."
   ]
  },
  {
   "cell_type": "code",
   "execution_count": null,
   "metadata": {},
   "outputs": [],
   "source": [
    "pop_agg.columns = ['mean', 'not null', 'max', 'min']\n",
    "pop_agg"
   ]
  },
  {
   "cell_type": "markdown",
   "metadata": {},
   "source": [
    "## Dimensions\n",
    "\n",
    "`pandas` provide several ways to pivot columns and rows,\n",
    "for example, stacking and unstacking can be performed on data frames.\n",
    "Yet, the most important point of the pivot operation is the fact that we can represent several\n",
    "dimensions in a smaller number of dimensions by labeling data with combinations of values.\n",
    "\n",
    "Just like we can represent a function of the type $f(x, y) = z$ by either storing a\n",
    "2-dimensional grid of $x$ and $y$ points mapping to values of $z$; or by building a long\n",
    "1-dimensional list of points of the form $(x, y)$ and mapping it to the $z$ values."
   ]
  },
  {
   "cell_type": "code",
   "execution_count": null,
   "metadata": {},
   "outputs": [],
   "source": []
  }
 ],
 "metadata": {
  "anaconda-cloud": {},
  "kernelspec": {
   "display_name": "Python 3",
   "language": "python",
   "name": "python3"
  },
  "language_info": {
   "codemirror_mode": {
    "name": "ipython",
    "version": 3
   },
   "file_extension": ".py",
   "mimetype": "text/x-python",
   "name": "python",
   "nbconvert_exporter": "python",
   "pygments_lexer": "ipython3",
   "version": "3.8.2"
  }
 },
 "nbformat": 4,
 "nbformat_minor": 4
}
