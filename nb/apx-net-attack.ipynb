{
 "cells": [
  {
   "cell_type": "markdown",
   "metadata": {},
   "source": [
    "# Mini Project - Net Attack\n",
    "\n",
    "To experience some more-or-less real data we will explore webserver logs from a honeypot machine.\n",
    "A honeypot is a server especially setup so that attacks on a website (or service)\n",
    "are likely to be directed to that server instead of the actual server running the site."
   ]
  },
  {
   "cell_type": "markdown",
   "metadata": {},
   "source": [
    "A honeypot has several heuristics that allow it to determine whether\n",
    "a connection was an attempt at something malicious.\n",
    "These heuristics include information about the connection\n",
    "and about any extra activity performed during the connection.\n",
    "For example, if there was excessive memory of CPU usage from a process linked\n",
    "to a connection, the connection is considered malicious.\n",
    "Since honeypots attempt to attract malicious connections,\n",
    "the ratio between malicious and non-malicious connections is reasonable.\n",
    "\n",
    "We will look at the webserver logs for more then 10k connections,\n",
    "and at the evaluation of the connection by the honeypot heuristics.\n",
    "We will try to use only the webserver log information to build a machine learning model\n",
    "to classify connections as malicious or not malicious based on that information alone.\n",
    "We could then use this model to catch connections that did not direct themselves at the honeypot,\n",
    "and possibly prevent them from reaching deep into the server actually running the service."
   ]
  },
  {
   "cell_type": "markdown",
   "metadata": {},
   "source": [
    "## The Data\n",
    "\n",
    "The file `net-attack-access.log` (contained in `net-attack-access.log.zip`) contains the webserver logs.\n",
    "This is a *binary file* despite containing mostly text.\n",
    "Each line of the file contains a JSON encoded over ISO-8859-1 (latin-1) character set,\n",
    "and possibly a couple of bytes JSON escaped.\n",
    "All JSONs contain the exact same keys, and all keys are (byte) strings.\n",
    "\n",
    "The file `net-attack-access.labels` (contained in `net-attack-access.labels.zip`) contains a label\n",
    "of the class that the corresponding JSON log is labeled against.\n",
    "The positive class (1) means a malicious connection,\n",
    "and the negative class (0) means a not malicious connection.\n",
    "The ratio is that about 1/10 of all connections in the file are malicious."
   ]
  },
  {
   "cell_type": "markdown",
   "metadata": {},
   "source": [
    "## Objective\n",
    "\n",
    "We want to build an ML model that will reasonably classify connections as malicious\n",
    "or not malicious based on webserver log data alone.\n",
    "This model shall have a reasonable *generalization* score.\n",
    "The requirements are as follows.\n",
    "\n",
    "- Select a non-parametric model for a baseline (e.g. Naive Bayes)\n",
    "- Perform data pre-processing and evaluate if you can improve the baseline on preprocessing alone\n",
    "- Select a different model which improves the generalization of the classification\n",
    "\n",
    "Describe each decision, e.g. why did you try one model over another,\n",
    "or why you decided on one form of preprocessing over another.\n",
    "\n",
    "Note: The data are binary strings but ML models accept numbers only.\n",
    "You will need to extract features from the data before attempting any classification."
   ]
  },
  {
   "cell_type": "markdown",
   "metadata": {},
   "source": [
    "## Tips\n",
    "\n",
    "- This is byte data, therefore byte ranges and byte string lengths are easy to retrieve as features.\n",
    "\n",
    "- Not all features are useful.\n",
    "  The data is actually quite dirty, some keys are absolutely the same across all samples.\n",
    "\n",
    "- See the Die Hard example for string processing in pandas.\n",
    "  Whether you work on the strings as byte string or as converted UTF-8 strings does not alter the result.\n",
    "\n",
    "- Some features are more important than others, despite having smaller variance.\n",
    "  Do not blindly perform dimensionality reduction expecting to perform better.\n",
    "\n",
    "- One-Hot-Encoding will be useful.\n",
    "  Several features have only a handful of values, i.e. they are categorical.\n",
    "\n",
    "- Explore the data!  Find all values and the number of values within each feature.\n",
    "  On UNIX a useful tool is [jq][], which is capable of querying the combined JSON file directly.\n",
    "\n",
    "[jq]: https://stedolan.github.io/jq/"
   ]
  },
  {
   "cell_type": "markdown",
   "metadata": {},
   "source": [
    "## Extra\n",
    "\n",
    "If you want a bigger challenge (i.e. this is not strictly part of the project),\n",
    "try clustering the connections.\n",
    "In other words, had we not had the honeypot heuristics whether we could be able\n",
    "to still guess malicious from non-malicious connections from the data alone.\n",
    "\n",
    "Using the same data preparation for the classification use `kmeans` to find clusters.\n",
    "And compare how well the clusters match to the honeypot labels.\n",
    "Here dimensionality reduction may help.\n",
    "\n",
    "For an even bigger challenge you can try [other forms of clustering][cluster]\n",
    "available in `sklearn`.\n",
    "\n",
    "[cluster]: http://scikit-learn.org/stable/auto_examples/cluster/plot_cluster_comparison.html"
   ]
  }
 ],
 "metadata": {
  "kernelspec": {
   "display_name": ".venv",
   "language": "python",
   "name": "python3"
  },
  "language_info": {
   "codemirror_mode": {
    "name": "ipython",
    "version": 3
   },
   "file_extension": ".py",
   "mimetype": "text/x-python",
   "name": "python",
   "nbconvert_exporter": "python",
   "pygments_lexer": "ipython3",
   "version": "3.11.12"
  }
 },
 "nbformat": 4,
 "nbformat_minor": 4
}
