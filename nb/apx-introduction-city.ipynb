{
 "cells": [
  {
   "cell_type": "markdown",
   "metadata": {},
   "source": [
    "# DAML - Data Analytics and Machine Learning\n",
    "\n",
    "Here at City, University of London we will be with you\n",
    "and discuss an introduction into the subjects of\n",
    "data analytics and machine learning.\n",
    "\n",
    "### People\n",
    "\n",
    "* Michal Grochmal: <michal.grochmal@city.ac.uk>\n",
    "* Cosmin Stamate: <cosmin.stamate@city.ac.uk>\n",
    "* Ana Solaguren-Beascoa: <ana.solagurenbeascoa@gmail.com>"
   ]
  },
  {
   "cell_type": "markdown",
   "metadata": {},
   "source": [
    "### Material\n",
    "\n",
    "- [Learn you Some Machine Learning for Great Good!][1] the Course Website\n",
    "- [SciKit Learn User Guide][2] by the SciKit Community\n",
    "- [Think Stats, 2nd Edition][3] by Allen Downey\n",
    "- [Intro to Information Retrieval][4] by Manning, Raghavan and Schütze\n",
    "- [Python Data Science Handbook][5] by Jake VanderPals\n",
    "- [Statistics Done Wrong][6] by Alex Reinhart\n",
    "- [Deep Learning][7] by Goodfellow, Bengio and Courville\n",
    "\n",
    "[1]: https://learnyousomeml.com/\n",
    "[2]: http://scikit-learn.org/stable/user_guide.html\n",
    "[3]: http://greenteapress.com/wp/think-stats-2e/\n",
    "[4]: https://nlp.stanford.edu/IR-book/\n",
    "[5]: https://jakevdp.github.io/PythonDataScienceHandbook/\n",
    "[6]: https://www.statisticsdonewrong.com/\n",
    "[7]: http://www.deeplearningbook.org/"
   ]
  },
  {
   "cell_type": "markdown",
   "metadata": {},
   "source": [
    "## Learning Outline\n",
    "\n",
    "1. Jupyter (and Python Review)\n",
    "2. NumPy\n",
    "3. Matplotlib\n",
    "4. Pandas\n",
    "5. Statistics and Analytics\n",
    "6. Scikit Learn and Classification (e.g. KNN)\n",
    "7. Regression and Feature Engineering\n",
    "8. Clustering and PCA\n",
    "9. Decision Trees (and Random Forests) and SVMs\n",
    "10. Neural Networks\n",
    "11. Extras and the future"
   ]
  }
 ],
 "metadata": {
  "kernelspec": {
   "display_name": "Python 3 (ipykernel)",
   "language": "python",
   "name": "python3"
  },
  "language_info": {
   "codemirror_mode": {
    "name": "ipython",
    "version": 3
   },
   "file_extension": ".py",
   "mimetype": "text/x-python",
   "name": "python",
   "nbconvert_exporter": "python",
   "pygments_lexer": "ipython3",
   "version": "3.13.2"
  }
 },
 "nbformat": 4,
 "nbformat_minor": 4
}
