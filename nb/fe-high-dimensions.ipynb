{
 "cells": [
  {
   "cell_type": "markdown",
   "metadata": {},
   "source": [
    "# 07.05 High Dimensions\n",
    "\n",
    "We saw that search engine research produced an elegant technique to encode words in plain test:\n",
    "*Term Frequency by Inverse Document Frequency* (TF-IDF).\n",
    "Each word in a sample is represented by the count of this word divided by the frequency\n",
    "of this same word across all samples.\n",
    "We end up with a vector where each word is a dimension.\n",
    "But think for a moment about what may happen if we encode entire articles in this fashion.\n",
    "Quickly we will reach a vocabulary of thousands of words,\n",
    "and the resulting vector space will have thousands of dimensions."
   ]
  },
  {
   "cell_type": "markdown",
   "metadata": {},
   "source": [
    "Thousands of dimensions is not an uncommon occurrence in machine learning.\n",
    "More often than not we will work with datasets with very high dimensions.\n",
    "In terms of representation such high dimensions are not much more than\n",
    "a rather big matrix - remember that we can represent several dimensions\n",
    "in a lesser dimensional construct because we can melt data.\n",
    "\n",
    "We often argue that every column in such a matrix is a dimension.\n",
    "Very high dimensions have its problems and we will come back to discuss these\n",
    "But for now let us attempt a model that will work on highly dimensional\n",
    "data produced by TF-IDF.\n",
    "\n",
    "We can try it out with samples from *newsgroups*.\n",
    "And since newsgroups are aggregated by topic we will try to classify the samples into topics.\n",
    "A newsgroup is what today one would call an email chain or mailing list.\n",
    "At the beginning of the Internet there was no World Wide Web (WWW)\n",
    "and communication happened mostly over email.\n",
    "To find people with similar interests one would sent an email to a newsgroup\n",
    "and then receive emails directed to that newsgroup in the hopes someone answers.\n",
    "We also import an Naive Bayes model that works well with classes\n",
    "that have real valued features, such as TF-IDF."
   ]
  },
  {
   "cell_type": "code",
   "execution_count": 1,
   "metadata": {},
   "outputs": [],
   "source": [
    "from sklearn.datasets import fetch_20newsgroups\n",
    "from sklearn.feature_extraction.text import TfidfVectorizer\n",
    "from sklearn.pipeline import make_pipeline\n",
    "from sklearn.naive_bayes import ComplementNB"
   ]
  },
  {
   "cell_type": "markdown",
   "metadata": {},
   "source": [
    "![Thomas Bayes](fe-thomas-bayes.svg)\n",
    "\n",
    "<div style=\"text-align:right;\"><sup>fe-thomas-bayes.svg</sup></div>\n",
    "\n",
    "<div style=\"border: 0.3em double teal; border-radius: 0.5em; padding: 0.5em;\">\n",
    "    Reverend Thomas Bayes was the first to use an early version of the Bayes' Theorem to\n",
    "    compute conditional probability.\n",
    "    Expanding on Bayes' work the Preacher Richard Price published the well known Bayes' Theorem.\n",
    "    Bayes lived in Turnbridge Wells, Kent whilst Price lived in the Newington Green Square, London.\n",
    "    Both men were certainly friends and belonged to a group of the clergy conned noncomformists\n",
    "    in the 18th cetury.\n",
    "    Beys and Price lie in Bunhill Fields, to this day a cemetery, just south of Old Street\n",
    "    station, London.\n",
    "</div>"
   ]
  },
  {
   "cell_type": "markdown",
   "metadata": {},
   "source": [
    "The newsgroup dataset is a profiling dataset,\n",
    "and is federated for training and testing sets.\n",
    "What this means for us is that the dataset itself already provides us\n",
    "with a split into a training and testing set.\n",
    "Since the dataset is text (emails) it is not memory efficient,\n",
    "such as datasets encoded in NumPy arrays.\n",
    "Repeatedly copying and splitting the dataset would likely cause memory issues.\n",
    "\n",
    "We ask for specific topics, in this case we will as for $7$ rather unrelated\n",
    "newsgroup topics, and ask once for the training and once for the testing set.\n",
    "The dataset is downloaded from the web and then cached on the running machine,\n",
    "it may take a moment for it to download."
   ]
  },
  {
   "cell_type": "code",
   "execution_count": 2,
   "metadata": {},
   "outputs": [
    {
     "data": {
      "text/plain": [
       "['comp.graphics',\n",
       " 'misc.forsale',\n",
       " 'rec.autos',\n",
       " 'rec.sport.hockey',\n",
       " 'sci.space',\n",
       " 'soc.religion.christian',\n",
       " 'talk.politics.misc']"
      ]
     },
     "execution_count": 2,
     "metadata": {},
     "output_type": "execute_result"
    }
   ],
   "source": [
    "newsgroups = [\n",
    "    'comp.graphics',\n",
    "    'misc.forsale',\n",
    "    'rec.autos',\n",
    "    'rec.sport.hockey',\n",
    "    'sci.space',\n",
    "    'soc.religion.christian',\n",
    "    'talk.politics.misc',\n",
    "]\n",
    "train = fetch_20newsgroups(categories=newsgroups, subset='train')\n",
    "test = fetch_20newsgroups(categories=newsgroups, subset='test')\n",
    "train.target_names"
   ]
  },
  {
   "cell_type": "markdown",
   "metadata": {},
   "source": [
    "First of all let us have a look what we are dealing with.\n",
    "These are emails, I find the $134th$ email in the subset downloaded\n",
    "rather familiar no matter the time.\n",
    "People had computer problem since computers were invented.\n",
    "\n",
    "Now we have newsgroup topics (the classes) and emails in these newsgroups (samples).\n",
    "We will attempt to build a classifier that given some text, e.g. an email,\n",
    "will be capable of telling us the topic.\n",
    "The model will be limited to the $7$ topics of our choice above\n",
    "but it is still a classification worth attempting."
   ]
  },
  {
   "cell_type": "code",
   "execution_count": 3,
   "metadata": {},
   "outputs": [
    {
     "name": "stdout",
     "output_type": "stream",
     "text": [
      "From: thomas@ramsey.cs.laurentian.ca (F. Thomas)\n",
      "Subject: print graph on printer\n",
      "Organization: Dept. of Computer Science, Laurentian University, Sudbury, ON\n",
      "Lines: 6\n",
      "\n",
      "This seems to be a simple problem but I just cannot solve it.\n",
      "I wrote a C program to draw some polygons on the screen, and I want to \n",
      "print it on my printer. So, I press \"print-screen\" on the keyboard.\n",
      "The problem is the printer just print out some ASCII characters.\n",
      "Is there any other way to print the screen without using \"print-screen\"????\n",
      "Please help!\n",
      "\n"
     ]
    }
   ],
   "source": [
    "print(train.data[133])"
   ]
  },
  {
   "cell_type": "markdown",
   "metadata": {},
   "source": [
    "## Non-Parametric Techniques\n",
    "\n",
    "We will make a pipeline of a TF-IDF preprocessor and a Naive Bayes classifier.\n",
    "The Naive Bayes classifier is a very simple **non-parametric** technique that just attempt\n",
    "to build (hyper)spherical probabilistic generators around the center of each class.\n",
    "We said that *parametric techniques* are those that have the number of parameters\n",
    "defined from its hyperparameters.\n",
    "It is a common misconception that *non-parametric* techniques are techniques which\n",
    "have no parameters or hyperparameters.\n",
    "\n",
    "*Non-parametric* techniques take the number of parameters the model optimizes\n",
    "from the data itself.\n",
    "In the case of a Naive Bayes classifier each distinct class in the data will\n",
    "have a probabilistic generator assigned to it.\n",
    "In the many dimensions we will have from the TF-IDF each distinct class\n",
    "will have a Gaussian probability (including its center and variance) in every dimension.\n",
    "Remember that a Gaussian distribution is a construct in a single dimension,\n",
    "hence we need one per dimension."
   ]
  },
  {
   "cell_type": "markdown",
   "metadata": {},
   "source": [
    "What such a model may look like is shown below.\n",
    "Imagine that we have thousands of word dimensions - here we label only $5$\n",
    "of these dimensions because drawing a thousand dimensions is rather hard.\n",
    "Each class, has a center - marked with an $X$ - a spread (variance) in each direction.\n",
    "Here we see $3$ of the $7$ classes.\n",
    "\n",
    "What we see is the trained - fit - model.\n",
    "A new email - be it new data or unseen data from the test set - is vectorized\n",
    "by TF-IDF and placed within the vector space.\n",
    "The new vector will then have distances to each center of each class.\n",
    "In very simple terms one could say that the topic to the new email\n",
    "would be assigned based on the closest class center.\n",
    "The reality is a bit more complicated since the class spreads can cross themselves\n",
    "and more spread classes carry lesser weight than compact classes.\n",
    "These are the mentioned probabilistic (hyper)spherical probabilistic generators.\n",
    "The label of the new data point is defined by the highest probability\n",
    "across classes - it is similar to a distance but weighted based on each class spread.\n",
    "\n",
    "The model from `sklearn` that we use is `ComplementNB` which accounts for a handful\n",
    "of issues which would make a plain Naive Bayes classifier perform poorly here.\n",
    "We give it one hyperparameter, `norm=True`, which performs\n",
    "some extra normalization of weights.\n",
    "The normalization makes sense here because we also perform\n",
    "the normalization of the vectors in TF-IDF.\n",
    "Hence we are rather confident on the value of this hyperparameter\n",
    "and need not attempt to find a best value (true or false) for it."
   ]
  },
  {
   "cell_type": "code",
   "execution_count": 4,
   "metadata": {},
   "outputs": [
    {
     "data": {
      "text/plain": [
       "array([2, 6, 5, ..., 6, 0, 2], shape=(2676,))"
      ]
     },
     "execution_count": 4,
     "metadata": {},
     "output_type": "execute_result"
    }
   ],
   "source": [
    "model = make_pipeline(TfidfVectorizer(), ComplementNB(norm=True))\n",
    "model.fit(train.data, train.target)\n",
    "labels = model.predict(test.data)\n",
    "labels"
   ]
  },
  {
   "cell_type": "markdown",
   "metadata": {},
   "source": [
    "![Bayesian Model](fe-newsgroups.svg)\n",
    "\n",
    "<div style=\"text-align:right;\"><sup>fe-newsgroups.svg</sup></div>"
   ]
  },
  {
   "cell_type": "markdown",
   "metadata": {},
   "source": [
    "Since we have lots of classes ($7$ different newsgroup topics) a single score may\n",
    "not be the best approach to understand how our model works.\n",
    "Instead we will build a classification report, which will give us a score for each class.\n",
    "From `sklearn` we can import a classification report which will\n",
    "perform in a similar way to a scoring function.\n",
    "We can provide `target_names` to have string labels for the classes.\n",
    "We did see *precision*, *recall* and *f1 score* before but we have a new\n",
    "column in the report: *support*.\n",
    "Class support is just the number of samples from that class in the test set.\n",
    "A *balanced set* would have almost the same support across classes,\n",
    "whilst an *unbalanced set* is a set where the support vary wildly.\n",
    "\n",
    "Our newsgroup set is slightly unbalanced,\n",
    "most classes have a support of almost $400$ whilst\n",
    "one class has a support just above $300$.\n",
    "This small support issue is one of the reasons for our choice of classifier.\n",
    "There are several choices of Naive Bayes classifiers in `sklearn`:\n",
    "`GaussianNB` has issues with very high dimensions,\n",
    "`MultinomialNB` works badly on unbalanced sets and may have issues\n",
    "with non-discrete features (e.g. with floating point numbers as we have).\n",
    "Our choice of `ComplementNB` is an educated guess based on the\n",
    "documentation of the distinct Naive Bayes classifiers."
   ]
  },
  {
   "cell_type": "code",
   "execution_count": 5,
   "metadata": {},
   "outputs": [
    {
     "name": "stdout",
     "output_type": "stream",
     "text": [
      "                        precision    recall  f1-score   support\n",
      "\n",
      "         comp.graphics       0.95      0.92      0.93       389\n",
      "          misc.forsale       0.98      0.91      0.94       390\n",
      "             rec.autos       0.93      0.96      0.95       396\n",
      "      rec.sport.hockey       0.97      0.99      0.98       399\n",
      "             sci.space       0.93      0.95      0.94       394\n",
      "soc.religion.christian       0.85      0.98      0.91       398\n",
      "    talk.politics.misc       0.96      0.79      0.87       310\n",
      "\n",
      "              accuracy                           0.93      2676\n",
      "             macro avg       0.94      0.93      0.93      2676\n",
      "          weighted avg       0.94      0.93      0.93      2676\n",
      "\n"
     ]
    }
   ],
   "source": [
    "from sklearn.metrics import classification_report\n",
    "\n",
    "print(classification_report(test.target, labels, target_names=newsgroups))"
   ]
  },
  {
   "cell_type": "markdown",
   "metadata": {},
   "source": [
    "The worst result is across *religion* and *politics*.\n",
    "No surprises there, these topics get intermingled in the real world too.\n",
    "Religion has a bad precision score and politics has a bad recall score,\n",
    "it suggests that several emails from the politics newsgroup\n",
    "are classified as religion.\n",
    "\n",
    "That said, with a very simple classifier and some data encoding we have built\n",
    "a model that can tell us the topic of a sentence.\n",
    "We can see it in action with a small helper function."
   ]
  },
  {
   "cell_type": "code",
   "execution_count": 6,
   "metadata": {},
   "outputs": [
    {
     "name": "stdout",
     "output_type": "stream",
     "text": [
      "TUNING rec.autos\n",
      "BALL rec.sport.hockey\n",
      "BUTTON comp.graphics\n",
      "WIFE soc.religion.christian\n",
      "APOLLO sci.space\n"
     ]
    }
   ],
   "source": [
    "def predict_chat(sentence):\n",
    "    predicted = model.predict([sentence])\n",
    "    return train.target_names[predicted[0]]\n",
    "\n",
    "\n",
    "print('TUNING', predict_chat(\"I've added a new set of cyllinders, now I'm not even making 10 miles per galon\"))\n",
    "print('BALL', predict_chat('The ball never went even close to the goal'))\n",
    "print('BUTTON', predict_chat(\"Dude, I'm telling you, there is no such button on my screen\"))\n",
    "print('WIFE', predict_chat('My wife went shopping in the morning, has not come back yet'))\n",
    "print('APOLLO', predict_chat('No one ever landed on the moon, it was all a farse'))"
   ]
  },
  {
   "cell_type": "markdown",
   "metadata": {},
   "source": [
    "Given that all this is doing is checking the word frequency probabilities,\n",
    "this is a rather amazing result for a such a simple algorithm.\n",
    "\n",
    "And we can still see the problems with *religion* and *politics* in the predictions.\n",
    "This problem happens because these two topics use lots of *stop words*,\n",
    "i.e. words that are commonly used in sentence construction.\n",
    "For example, we can see it we if use only common words in a sentence\n",
    "we will get one of these topics."
   ]
  },
  {
   "cell_type": "code",
   "execution_count": 7,
   "metadata": {},
   "outputs": [
    {
     "data": {
      "text/plain": [
       "'soc.religion.christian'"
      ]
     },
     "execution_count": 7,
     "metadata": {},
     "output_type": "execute_result"
    }
   ],
   "source": [
    "predict_chat('the what where')"
   ]
  },
  {
   "cell_type": "markdown",
   "metadata": {},
   "source": [
    "If we remove the stop words from the data representation we should\n",
    "get a better separation between religion and politics.\n",
    "\n",
    "As a closing point we also argue that since Naive Bayes is non-parametric\n",
    "and has few tunable hyperparameters,\n",
    "it is a very good technique for a classification baseline.\n",
    "When one attempts classification on an unknown problem it is wise to try\n",
    "several ML techniques.\n",
    "Naive Bayes is a good first attempt, it is a technique that will not\n",
    "perform optimally on many problems but will not perform too badly either.\n",
    "It is common practice to try Naive Bayes first,\n",
    "and then when training other techniques discard any ML algorithm\n",
    "that performs worse than Naive Bayes.\n",
    "In this way Naive Bayes is a baseline between reasonable models for a problem\n",
    "and models that go bonkers on that specific problem."
   ]
  },
  {
   "cell_type": "markdown",
   "metadata": {},
   "source": [
    "## The Curse of Dimensionality\n",
    "\n",
    "In the thousands of dimensions we did work above we managed to build a useful model.\n",
    "But a few assumptions were not mentioned.\n",
    "Distance measurement quickly becomes quite distinct in high dimensions\n",
    "from our common understanding of distance in the real world.\n",
    "In our classification above we did avoid this issue because we normalized\n",
    "all vectors from TF-IDF to length $1$.\n",
    "Yet, in datasets with many dimensions this normalization may not be possible\n",
    "of may not be desirable.\n",
    "In such cases the use of different distance measures - be it euclidean, Manhattan,\n",
    "probabilistic weight as in the model above or even something else - will require\n",
    "interpretation and insight in order to build understanding about the data.\n",
    "\n",
    "This issue with distances is often called the *curse of dimensionality*,\n",
    "and exemplified by the fact that despite the fact that two points are close\n",
    "in several dimensions they are still far in general if they are far in a few\n",
    "other dimensions.\n",
    "That is, assuming the use of euclidean distance, because the squares of the\n",
    "big dimensions become big values."
   ]
  },
  {
   "cell_type": "markdown",
   "metadata": {},
   "source": [
    "## Extra: Curse of Dimensionality on Steroids\n",
    "\n",
    "This bit is a tad more mathematical, you're free to skip it.\n",
    "But if you are curious of more advanced bit in ML research, go ahead.\n",
    "\n",
    "Another, less talked about, part of the curse of dimensionality is the difficulty\n",
    "of optimizing a solution when fitting to the data.\n",
    "Behind the scenes an optimizer is run to fit the model,\n",
    "we will eventually talk more about optimizers but for now let us just say\n",
    "that the optimizer searches for critical points in the model error function\n",
    "that are minima (minimums) of the function.\n",
    "A function can have critical points that are maxima (maximum value),\n",
    "minima (minimum value) or a saddle point (neither a minima or maxima for the\n",
    "entire function but a minima in some dimensions and a maxima in other dimensions).\n",
    "As the number of dimensions increases the number of minima and maxima increase.\n",
    "But a result from topology add to it, it argues that.\n",
    "\n",
    "`number of minima` $+$ `number of maxima` $+$ `number of saddles` $=$ Euler number of the space\n",
    "\n",
    "The Euler number of the plane (or projective plane - how it is called in topology) is $1$,\n",
    "and as we add more dimensions that number *decreases* (and becomes negative very fast).\n",
    "This means that as we have more dimensions we have more minima and maxima\n",
    "but also the number of saddles increases faster than the increase in\n",
    "the number of minima and maxima - because the Euler number of the space decreases.\n",
    "For the optimizer more and more saddles are more points through which\n",
    "it may wander in search for a minima,\n",
    "another piece of trouble in high dimensional spaces."
   ]
  },
  {
   "cell_type": "markdown",
   "metadata": {},
   "source": [
    "## References\n",
    "\n",
    "- [Classification of Text Documents - SciKit Learn][1]\n",
    "- [20 Newsgroups Dataset - SciKit Learn Usage][2]\n",
    "- [20 Newsgroups - Official Homepage][3]\n",
    "\n",
    "[1]: https://scikit-learn.org/stable/auto_examples/text/plot_document_classification_20newsgroups.html \"Sparse Features\"\n",
    "[2]: https://scikit-learn.org/stable/datasets/index.html#newsgroups-dataset \"Data Loaders\"\n",
    "[3]: http://qwone.com/~jason/20Newsgroups/ \"20 Newsgroups\""
   ]
  }
 ],
 "metadata": {
  "kernelspec": {
   "display_name": ".venv",
   "language": "python",
   "name": "python3"
  },
  "language_info": {
   "codemirror_mode": {
    "name": "ipython",
    "version": 3
   },
   "file_extension": ".py",
   "mimetype": "text/x-python",
   "name": "python",
   "nbconvert_exporter": "python",
   "pygments_lexer": "ipython3",
   "version": "3.11.12"
  }
 },
 "nbformat": 4,
 "nbformat_minor": 4
}
