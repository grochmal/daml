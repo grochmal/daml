{
 "cells": [
  {
   "cell_type": "markdown",
   "metadata": {},
   "source": [
    "# DAML What Next?\n",
    "\n",
    "We covered a good deal of Python tools for data science and a good deal\n",
    "of machine learning models.\n",
    "Of course that is not all that there is to Python, Data Science or Machine Learning.\n",
    "The books from which this course has been put together are more extensive on\n",
    "several fronts, and moreover, several more advanced materials exist."
   ]
  },
  {
   "cell_type": "markdown",
   "metadata": {},
   "source": [
    "Here is a, non-exhaustive, summary of what interesting material can be found out there.\n",
    "I have tried to use mostly material that is available under a permissive license\n",
    "but (unfortunately) some really good material is not freely available."
   ]
  },
  {
   "cell_type": "markdown",
   "metadata": {},
   "source": [
    "[*Learn You Some Machine Learning for Great Good* by Michal Grochmal and Cosmin Stamate][learnyou]\n",
    "\n",
    "Well, yes, blatant advertising.\n",
    "This is the book we are building from the materials we have been through.\n",
    "It has the advantage that you can easily bookmark parts of ti as you need.\n",
    "Currently it is still under slow construction but we are working on it.\n",
    "\n",
    "[learnyou]: https://learnyousomeml.com/"
   ]
  },
  {
   "cell_type": "markdown",
   "metadata": {},
   "source": [
    "[*Statistics Done Wrong* by Alex Reinhart][swrong]\n",
    "\n",
    "Read it, it is short, it is sweet and it is funny.\n",
    "And after you did go through a lot of Machine Learning and Statistics material,\n",
    "read it again, you will find that several fallacies of statistics are not only\n",
    "present in machine learning but also help you to reason about why a model does not work.\n",
    "Seriously, read this.\n",
    "The [book][statsw] is an extended version with more graphs and a handful more examples.\n",
    "Still as funny as the website.\n",
    "\n",
    "[swrong]: https://www.statisticsdonewrong.com\n",
    "[statsw]: https://nostarch.com/statsdonewrong"
   ]
  },
  {
   "cell_type": "markdown",
   "metadata": {},
   "source": [
    "[*Python Data Science Handbook* by Jake VanderPlas][dsbook]\n",
    "\n",
    "The book covers pretty similar material as the course.\n",
    "Yet we did not cover everything that VanderPlas covers, notably about NumPy and pandas.\n",
    "If there is something which you believe you did not get or just want\n",
    "something easy to read which is similar to this course, start here.\n",
    "\n",
    "[dsbook]: https://jakevdp.github.io/PythonDataScienceHandbook/"
   ]
  },
  {
   "cell_type": "markdown",
   "metadata": {},
   "source": [
    "[scikit-learn User Guide][sklgui]\n",
    "\n",
    "One of the biggest reasons why people use `sklearn` is its user guide.\n",
    "It is extensive and written as a lecture.\n",
    "I'm not asking you to read the entire documentation of the library,\n",
    "just the user guide, which should be accessible after this course.\n",
    "If you struggle over the user guide, go back to VanderPlas' book.\n",
    "\n",
    "[sklgui]: http://scikit-learn.org/stable/user_guide.html"
   ]
  },
  {
   "cell_type": "markdown",
   "metadata": {},
   "source": [
    "[*Think Stats* by Allen B. Downey][thinks]\n",
    "\n",
    "A good enough basis in statistics.\n",
    "From basic statistics up to estimation using a model.\n",
    "In the end machine learning evolved thanks to the existence of statistical models,\n",
    "understanding what these statistical models are often helps understanding how\n",
    "an ML model may have been born.\n",
    "\n",
    "[thinks]: http://greenteapress.com/thinkstats2/html/index.html"
   ]
  },
  {
   "cell_type": "markdown",
   "metadata": {},
   "source": [
    "[*Introduction to Information Retrieval* by Manning, Raghavan and Schütze][irbook]\n",
    "\n",
    "A book about search engines, not machine learning.\n",
    "Yet, ML borrows much from search engine construction.\n",
    "It is from here that we derive our concepts (and often implementation)\n",
    "of the precision and recall, and F1 (or any $F_n$) score.\n",
    "Scaling up ML model is often guided by how search engines have been scaled\n",
    "or the years.\n",
    "\n",
    "[irbook]: https://nlp.stanford.edu/IR-book/"
   ]
  },
  {
   "cell_type": "markdown",
   "metadata": {},
   "source": [
    "[*Deep Learning* by Goodfellow and Bengio and Courville][deepbk]\n",
    "\n",
    "Has a very interesting introduction into Linear Algebra and some Probability.\n",
    "Then it delves deep into deep networks, which may be too much to digest\n",
    "on a first try of the book.\n",
    "It may be worth reading the introductory part,\n",
    "then leave the book and read the other resources,\n",
    "then come back to the other parts of the book later.\n",
    "\n",
    "[deepbk]: http://www.deeplearningbook.org/"
   ]
  },
  {
   "cell_type": "markdown",
   "metadata": {},
   "source": [
    "[*Hands-On Machine Learning with Scikit-Learn and TensorFlow* by Aurélien Géron][hmlst]\n",
    "\n",
    "This one is not a free book.\n",
    "But if you are thinking of buying a book on machine learning,\n",
    "I'll thoroughly recommend this one.\n",
    "Géron goes through a lot of ML models explaining how they work below the hood.\n",
    "The book is in Python,\n",
    "and has a good balance between mathematical treatment and practical code.\n",
    "\n",
    "[hmlst]: http://shop.oreilly.com/product/0636920052289.do"
   ]
  },
  {
   "cell_type": "markdown",
   "metadata": {},
   "source": [
    "## Extras"
   ]
  },
  {
   "cell_type": "markdown",
   "metadata": {},
   "source": [
    "[*Machine Learning* by Andrew Ng][mlng]\n",
    "\n",
    "The introductory course for machine learning on coursera.\n",
    "It is in MATLAB and/or Octave, not Python, but useful nevertheless.\n",
    "The course takes a different path from our course in that it takes on regression\n",
    "first and then explores ANNs based on online learning used in linear regression.\n",
    "\n",
    "[mlng]: https://www.coursera.org/learn/machine-learning"
   ]
  },
  {
   "cell_type": "markdown",
   "metadata": {},
   "source": [
    "[*Neural Networks for Machine Learning* by Geoffrey Hinton][mlgh]\n",
    "\n",
    "Another coursera course.  This is a Neural Net overload.\n",
    "The course goes through the entire evolution of the neural networks we saw,\n",
    "through restricted boltzman machines, into deep belief nets and finally\n",
    "into the deep networks we hear about.\n",
    "It starts pretty close to where we left off.\n",
    "Yet, the course is mainly theoretical, if you do not have a good grasp\n",
    "of linear algebra, work on that first.\n",
    "\n",
    "[mlgh]: https://www.coursera.org/learn/neural-networks"
   ]
  },
  {
   "cell_type": "markdown",
   "metadata": {},
   "source": [
    "[*Artificial Intelligence* by Michael Negnevitsky][mneg]\n",
    "\n",
    "A historical overview of how artificial intelligence got to where it is today.\n",
    "Easy to read, covers some models which we did not touch because they fell into disuse.\n",
    "Some of the material may seem outdated, it is a history book not a practical guide.\n",
    "Yet, if you are curious about the struggles of machine learning in the past,\n",
    "to not repeat similar errors for example, have a go at tis book.\n",
    "\n",
    "[mneg]: http://catalogue.pearsoned.co.uk/educator/product/Artificial-Intelligence-A-Guide-to-Intelligent-Systems/9781408225745.page"
   ]
  },
  {
   "cell_type": "markdown",
   "metadata": {},
   "source": [
    "[*Think Bayes* by Allen B. Downey][bayes]\n",
    "\n",
    "Some people will insist that the most important part of artificial intelligence,\n",
    "and machine learning, is bayesian reasoning.\n",
    "This is mostly due to the fact that bayesian models are easy to interpret.\n",
    "Well, yes, they are easy to interpret to the seasoned data scientist that worked\n",
    "with bayesian models for years; not so much for most other people.\n",
    "That said, if you work as a Data Scientist, sooner or later you will need\n",
    "to deal with big bayesian models.\n",
    "Downey gives a good-enough, not-too-complicated\n",
    "presentation of how the bayesian reasoning concept is used to build models.\n",
    "\n",
    "[bayes]: http://www.greenteapress.com/thinkbayes/html/index.html"
   ]
  },
  {
   "cell_type": "markdown",
   "metadata": {},
   "source": [
    "[*Dive Into Python 3* by Mark Pilgrim][dipy]\n",
    "\n",
    "The to-go book for Python programming.\n",
    "If you struggle with Python knowledge (not `NumPy` or `pandas`) this is the book to look for.\n",
    "Pilgrim is very funny, probably one of the best known authors in the Python world,\n",
    "worth reading just for the jokes.\n",
    "\n",
    "[dipy]: http://www.diveintopython3.net/"
   ]
  },
  {
   "cell_type": "markdown",
   "metadata": {},
   "source": [
    "[*Machine Learning and Security* by Chio and Freeman][mlsec]\n",
    "\n",
    "Machine Learning is getting more and more applications.\n",
    "This is an interesting example of it.\n",
    "Blue Team security using the exact tools we learn in the course.\n",
    "\n",
    "[mlsec]: http://shop.oreilly.com/product/0636920065555.do"
   ]
  }
 ],
 "metadata": {
  "kernelspec": {
   "display_name": ".venv",
   "language": "python",
   "name": "python3"
  },
  "language_info": {
   "codemirror_mode": {
    "name": "ipython",
    "version": 3
   },
   "file_extension": ".py",
   "mimetype": "text/x-python",
   "name": "python",
   "nbconvert_exporter": "python",
   "pygments_lexer": "ipython3",
   "version": "3.11.12"
  }
 },
 "nbformat": 4,
 "nbformat_minor": 4
}
