{
 "cells": [
  {
   "cell_type": "markdown",
   "metadata": {},
   "source": [
    "# 02.03 Array Algebra\n",
    "\n",
    "We have seen a god deal of the capabilities of NumPy\n",
    "yet a bit chunk still remains.\n",
    "We saw how we can cleverly build and select from the arrays,\n",
    "and we saw how the *axis* and *shape* are used\n",
    "to perform operations across specific dimensions.\n",
    "\n",
    "Now we jump into operations on the contents of the arrays,\n",
    "this comes in two parts:\n",
    "we operate on the value in the array - a rather easy operation with NumPy arrays.\n",
    "Or we *operate on the indexes into the array* - an operation\n",
    "that can become mind boggling but also the operation that gives\n",
    "NumPy its full power.\n",
    "By indexing data in an array we form a new view,\n",
    "and we can keep creating more complex views.\n",
    "As long as we keep operating on views and indexes\n",
    "we do not need to copy or move that data in memory,\n",
    "this allows NumPy an optimal computing speed and memory management.\n",
    "For a start let's import our library."
   ]
  },
  {
   "cell_type": "code",
   "execution_count": 1,
   "metadata": {},
   "outputs": [],
   "source": [
    "import numpy as np"
   ]
  },
  {
   "cell_type": "markdown",
   "metadata": {},
   "source": [
    "## Ufuncs\n",
    "\n",
    "After all the talk about executing several operations at once we\n",
    "finally dive into the procedures that execute these operations.\n",
    "Universal functions, *ufuncs* for short, are optimized operations\n",
    "that perform arithmetic on NumPy arrays.\n",
    "Under the hood the operations are assembly optimized loops\n",
    "but from Python the operations appear to happen all at once.\n",
    "\n",
    "To perform operations on NumPy arrays one adds, subtracts, multiplies, divides,\n",
    "or even other operations as if dealing with plain numbers.\n",
    "Behind the scenes NumPy does its magic and performs the operation across the array.\n",
    "Let's take an array:"
   ]
  },
  {
   "cell_type": "code",
   "execution_count": 2,
   "metadata": {},
   "outputs": [
    {
     "data": {
      "text/plain": [
       "array([[0, 1, 2],\n",
       "       [3, 4, 5]])"
      ]
     },
     "execution_count": 2,
     "metadata": {},
     "output_type": "execute_result"
    }
   ],
   "source": [
    "x = np.arange(6).reshape((2, 3))\n",
    "x"
   ]
  },
  {
   "cell_type": "markdown",
   "metadata": {},
   "source": [
    "We can perform some algebra on the entire array\n",
    "and the operation happens over all its elements."
   ]
  },
  {
   "cell_type": "code",
   "execution_count": 3,
   "metadata": {},
   "outputs": [
    {
     "data": {
      "text/plain": [
       "array([[ 7,  8,  9],\n",
       "       [10, 11, 12]])"
      ]
     },
     "execution_count": 3,
     "metadata": {},
     "output_type": "execute_result"
    }
   ],
   "source": [
    "x + 7"
   ]
  },
  {
   "cell_type": "markdown",
   "metadata": {},
   "source": [
    "Number conversion is allowed but discouraged."
   ]
  },
  {
   "cell_type": "code",
   "execution_count": 4,
   "metadata": {},
   "outputs": [
    {
     "data": {
      "text/plain": [
       "array([[0.        , 0.31847134, 0.63694268],\n",
       "       [0.95541401, 1.27388535, 1.59235669]])"
      ]
     },
     "execution_count": 4,
     "metadata": {},
     "output_type": "execute_result"
    }
   ],
   "source": [
    "x / 3.14"
   ]
  },
  {
   "cell_type": "markdown",
   "metadata": {},
   "source": [
    "One must remember that we are working with fixed memory locations.\n",
    "For example, attempting number conversion with assignment will fail:"
   ]
  },
  {
   "cell_type": "code",
   "execution_count": 5,
   "metadata": {},
   "outputs": [
    {
     "ename": "TypeError",
     "evalue": "ufunc 'true_divide' output (typecode 'd') could not be coerced to provided output parameter (typecode 'l') according to the casting rule ''same_kind''",
     "output_type": "error",
     "traceback": [
      "\u001b[0;31m---------------------------------------------------------------------------\u001b[0m",
      "\u001b[0;31mTypeError\u001b[0m                                 Traceback (most recent call last)",
      "\u001b[0;32m<ipython-input-5-857ac9c9eb2b>\u001b[0m in \u001b[0;36m<module>\u001b[0;34m\u001b[0m\n\u001b[0;32m----> 1\u001b[0;31m \u001b[0mx\u001b[0m \u001b[0;34m/=\u001b[0m \u001b[0;36m3.14\u001b[0m\u001b[0;34m\u001b[0m\u001b[0;34m\u001b[0m\u001b[0m\n\u001b[0m",
      "\u001b[0;31mTypeError\u001b[0m: ufunc 'true_divide' output (typecode 'd') could not be coerced to provided output parameter (typecode 'l') according to the casting rule ''same_kind''"
     ]
    }
   ],
   "source": [
    "x /= 3.14"
   ]
  },
  {
   "cell_type": "markdown",
   "metadata": {},
   "source": [
    "This is because one cannot change the type of the array by assigning to it,\n",
    "one *may* need a different amount of memory to hold the converted type.\n",
    "\n",
    "As in Python the type conversion is upwards, towards floating point numbers,\n",
    "even if the result could be converted back to integers."
   ]
  },
  {
   "cell_type": "code",
   "execution_count": 6,
   "metadata": {},
   "outputs": [
    {
     "data": {
      "text/plain": [
       "array([[0., 0., 0.],\n",
       "       [0., 1., 1.]])"
      ]
     },
     "execution_count": 6,
     "metadata": {},
     "output_type": "execute_result"
    }
   ],
   "source": [
    "x // 3.14"
   ]
  },
  {
   "cell_type": "markdown",
   "metadata": {},
   "source": [
    "The [full list of ufuncs][docufunc] is quite big but some are:\n",
    "\n",
    "| ufunc           | operator | description |\n",
    "|:--------------- |:-------- |:----------- |\n",
    "| np.add          | \\+       | Add arguments element-wise. |\n",
    "| np.subtract     | \\-       | Subtract arguments element-wise. |\n",
    "| np.multiply     | \\*       | Multiply arguments element-wise. |\n",
    "| np.divide       | /        | Returns a true division of the inputs, element-wise. |\n",
    "| np.floor_divide | //       | Return the largest integer smaller or equal to the division of the inputs. |\n",
    "| np.negative     | \\-       | Numerical negative, element-wise. |\n",
    "| np.power        | \\*\\*     | First array elements raised to powers from second array, element-wise. |\n",
    "| np.mod          | %        | Return element-wise remainder of division. |\n",
    "| np.sin          |          | Trigonometric sine, element-wise. |\n",
    "| np.cos          |          | Cosine element-wise. |\n",
    "| np.tan          |          | Compute tangent element-wise. |\n",
    "| np.arcsin       |          | Inverse sine, element-wise. |\n",
    "| np.arccos       |          | Inverse cosine, element-wise. |\n",
    "| np.arctan       |          | Inverse tangent, element-wise. |\n",
    "\n",
    "Note that not all operations are linked to an operator.\n",
    "You can use them by directly invoking the ufunc on the array, e.g. `np.sin(x).`\n",
    "\n",
    "[docufunc]: https://docs.scipy.org/doc/numpy/reference/ufuncs.html#available-ufuncs"
   ]
  },
  {
   "cell_type": "markdown",
   "metadata": {},
   "source": [
    "And there are [aggregation functions][docustat] too, some of them:\n",
    "\n",
    "| aggregation function | nan-safe     | description |\n",
    "|:-------------------- |:------------ |:----------- |\n",
    "| np.sum               | np.nansum    | Compute sum of elements |\n",
    "| np.prod              | np.nanprod   | Compute product of elements |\n",
    "| np.mean              | np.nanmean   | Compute mean of elements |\n",
    "| np.average           |              | Compute the weighted average |\n",
    "| np.median            | np.nanmedian | Compute median of elements |\n",
    "| np.std               | np.nanstd    | Compute standard deviation |\n",
    "| np.var               | np.nanvar    | Compute variance |\n",
    "| np.min               | np.nanmin    | Find minimum value |\n",
    "| np.max               | np.nanmax    | Find maximum value |\n",
    "\n",
    "[docustat]: https://docs.scipy.org/doc/numpy/reference/routines.math.html\n",
    "\n",
    "The different thing about aggregation functions is that these again accept the `axis=` parameter.\n",
    "Again, the tricky part is that the argument means the *axis through which the aggregation\n",
    "will take place*.\n",
    "This is best seen through examples:"
   ]
  },
  {
   "cell_type": "code",
   "execution_count": 7,
   "metadata": {},
   "outputs": [
    {
     "data": {
      "text/plain": [
       "array([[ 0,  1,  2,  3,  4,  5],\n",
       "       [ 6,  7,  8,  9, 10, 11],\n",
       "       [12, 13, 14, 15, 16, 17]])"
      ]
     },
     "execution_count": 7,
     "metadata": {},
     "output_type": "execute_result"
    }
   ],
   "source": [
    "x = np.arange(18).reshape((3, 6))\n",
    "x"
   ]
  },
  {
   "attachments": {
    "agg-axis-none.svg": {
     "image/svg+xml": [
      "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"
     ]
    }
   },
   "cell_type": "markdown",
   "metadata": {},
   "source": [
    "![Aggregation Axis None](np-agg-axis-none.svg)\n",
    "\n",
    "<div style=\"text-align:right;\"><sup>np-agg-axis-none.svg</sup></div>"
   ]
  },
  {
   "cell_type": "code",
   "execution_count": 8,
   "metadata": {},
   "outputs": [
    {
     "data": {
      "text/plain": [
       "153"
      ]
     },
     "execution_count": 8,
     "metadata": {},
     "output_type": "execute_result"
    }
   ],
   "source": [
    "np.sum(x, axis=None)"
   ]
  },
  {
   "attachments": {
    "agg-axis-0.svg": {
     "image/svg+xml": [
      "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"
     ]
    }
   },
   "cell_type": "markdown",
   "metadata": {},
   "source": [
    "![Aggregation Axis Zero](np-agg-axis-0.svg)\n",
    "\n",
    "<div style=\"text-align:right;\"><sup>np-agg-axis-0.svg</sup></div>"
   ]
  },
  {
   "cell_type": "code",
   "execution_count": 9,
   "metadata": {},
   "outputs": [
    {
     "data": {
      "text/plain": [
       "array([18, 21, 24, 27, 30, 33])"
      ]
     },
     "execution_count": 9,
     "metadata": {},
     "output_type": "execute_result"
    }
   ],
   "source": [
    "np.sum(x, axis=0)"
   ]
  },
  {
   "attachments": {
    "agg-axis-1.svg": {
     "image/svg+xml": [
      "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"
     ]
    }
   },
   "cell_type": "markdown",
   "metadata": {},
   "source": [
    "![Aggregation Axis One](np-agg-axis-1.svg)\n",
    "\n",
    "<div style=\"text-align:right;\"><sup>np-agg-axis-1.svg</sup></div>"
   ]
  },
  {
   "cell_type": "code",
   "execution_count": 10,
   "metadata": {},
   "outputs": [
    {
     "data": {
      "text/plain": [
       "array([15, 51, 87])"
      ]
     },
     "execution_count": 10,
     "metadata": {},
     "output_type": "execute_result"
    }
   ],
   "source": [
    "np.sum(x, axis=1)"
   ]
  },
  {
   "cell_type": "markdown",
   "metadata": {},
   "source": [
    "The same as with concatenation,\n",
    "if more dimensions are used then the concepts of rows and columns becomes fuzzy.\n",
    "With more dimensions one needs to remember that the number given for the *axis*\n",
    "is the index of the value in the *shape* of the array."
   ]
  },
  {
   "cell_type": "markdown",
   "metadata": {},
   "source": [
    "### Fancy Indexing\n",
    "\n",
    "Apart from algebraic arithmetic, index arithmetic is important in NumPy.\n",
    "We can use an array of indexes to index another array.\n",
    "The is a concept that seems not overly useful at first sight\n",
    "but it is one of the most powerful concept in vectorial computing.\n",
    "One can work on indexes of data whilst the data is kept\n",
    "immobile in memory.\n",
    "\n",
    "Let us look at an example with a simple array:"
   ]
  },
  {
   "cell_type": "code",
   "execution_count": 11,
   "metadata": {},
   "outputs": [
    {
     "data": {
      "text/plain": [
       "array([[ 0,  1,  2,  3,  4,  5],\n",
       "       [ 6,  7,  8,  9, 10, 11],\n",
       "       [12, 13, 14, 15, 16, 17]])"
      ]
     },
     "execution_count": 11,
     "metadata": {},
     "output_type": "execute_result"
    }
   ],
   "source": [
    "x = np.arange(18).reshape((3, 6))\n",
    "x"
   ]
  },
  {
   "cell_type": "markdown",
   "metadata": {},
   "source": [
    "We will index the array with two other arrays.\n",
    "The result are the elements of the original array in positions\n",
    "$(1, 1)$, $(2, 1)$ and $(2, 3)$."
   ]
  },
  {
   "cell_type": "code",
   "execution_count": 12,
   "metadata": {},
   "outputs": [
    {
     "data": {
      "text/plain": [
       "array([ 7, 13, 15])"
      ]
     },
     "execution_count": 12,
     "metadata": {},
     "output_type": "execute_result"
    }
   ],
   "source": [
    "x[np.array([1, 2, 2]), np.array([1, 1, 3])]"
   ]
  },
  {
   "cell_type": "markdown",
   "metadata": {},
   "source": [
    "In the previous example we could have used Python lists\n",
    "but one can also use multidimensional arrays as indexes.\n",
    "For example:"
   ]
  },
  {
   "cell_type": "code",
   "execution_count": 13,
   "metadata": {},
   "outputs": [
    {
     "data": {
      "text/plain": [
       "array([[ 7, 13],\n",
       "       [ 9, 13]])"
      ]
     },
     "execution_count": 13,
     "metadata": {},
     "output_type": "execute_result"
    }
   ],
   "source": [
    "x[np.array([[1, 2], [1, 2]]), np.array([[1, 1], [3, 1]])]"
   ]
  },
  {
   "cell_type": "markdown",
   "metadata": {},
   "source": [
    "Above we got the value at index $(2, 1)$ twice.\n",
    "we can extend that concept.\n",
    "We can use the `:` operator to ask for *everything*\n",
    "in one of the indexing positions.\n",
    "In this case we will ask for *all columns*."
   ]
  },
  {
   "cell_type": "code",
   "execution_count": 14,
   "metadata": {},
   "outputs": [
    {
     "data": {
      "text/plain": [
       "array([[ 6,  7,  8,  9, 10, 11],\n",
       "       [ 6,  7,  8,  9, 10, 11]])"
      ]
     },
     "execution_count": 14,
     "metadata": {},
     "output_type": "execute_result"
    }
   ],
   "source": [
    "x[np.array([1, 1]), :]"
   ]
  },
  {
   "cell_type": "markdown",
   "metadata": {},
   "source": [
    "This way we selected the entire second row twice.\n",
    "Operating on indexes is a powerful tool."
   ]
  },
  {
   "cell_type": "markdown",
   "metadata": {},
   "source": [
    "### Boolean Logic and Masks\n",
    "\n",
    "Since we can use arrays to index arrays we can create arrays that work as masks.\n",
    "With fancy indexing we used arrays of integers that work as indexes.\n",
    "A mask is a boolean only arrays of the same size as the array being indexed,\n",
    "and we retrieve (index) only the entries for which the mask is true.\n",
    "But first how do we generate a boolean array?"
   ]
  },
  {
   "cell_type": "code",
   "execution_count": 15,
   "metadata": {},
   "outputs": [
    {
     "data": {
      "text/plain": [
       "array([[ True,  True,  True,  True,  True,  True],\n",
       "       [ True,  True,  True,  True,  True,  True],\n",
       "       [False, False, False, False, False, False]])"
      ]
     },
     "execution_count": 15,
     "metadata": {},
     "output_type": "execute_result"
    }
   ],
   "source": [
    "x = np.arange(18).reshape((3, 6))\n",
    "x < 12"
   ]
  },
  {
   "cell_type": "markdown",
   "metadata": {},
   "source": [
    "This array can then be used as a mask that selects all values\n",
    "where a true is present."
   ]
  },
  {
   "cell_type": "code",
   "execution_count": 16,
   "metadata": {},
   "outputs": [
    {
     "data": {
      "text/plain": [
       "array([ 0,  1,  2,  3,  4,  5,  6,  7,  8,  9, 10, 11])"
      ]
     },
     "execution_count": 16,
     "metadata": {},
     "output_type": "execute_result"
    }
   ],
   "source": [
    "x[x < 12]"
   ]
  },
  {
   "cell_type": "markdown",
   "metadata": {},
   "source": [
    "The results shape is one dimensional because we cannot\n",
    "tell how many *trues* may be found.\n",
    "\n",
    "On the other hand, we can use indexing on specific\n",
    "index position to select parts of the array.\n",
    "Here we will select specific rows:"
   ]
  },
  {
   "cell_type": "code",
   "execution_count": 17,
   "metadata": {},
   "outputs": [
    {
     "data": {
      "text/plain": [
       "array([[ 0,  1,  2,  3,  4,  5],\n",
       "       [12, 13, 14, 15, 16, 17]])"
      ]
     },
     "execution_count": 17,
     "metadata": {},
     "output_type": "execute_result"
    }
   ],
   "source": [
    "x[[True, False, True], :]"
   ]
  },
  {
   "cell_type": "markdown",
   "metadata": {},
   "source": [
    "We can use the `|` (or) and the `&` (and) operators.\n",
    "Unfortunately in plain Python these are bitwise operators and have very high precedence,\n",
    "therefore we need to at parentheses around the expressions."
   ]
  },
  {
   "cell_type": "code",
   "execution_count": 18,
   "metadata": {},
   "outputs": [
    {
     "data": {
      "text/plain": [
       "array([ 4,  5,  6,  7,  8,  9, 10, 11])"
      ]
     },
     "execution_count": 18,
     "metadata": {},
     "output_type": "execute_result"
    }
   ],
   "source": [
    "x[(x < 12) & (x > 3)]"
   ]
  },
  {
   "cell_type": "markdown",
   "metadata": {},
   "source": [
    "One can retain the shape by masking columns or rows only.\n",
    "To build row and column based masks one can use `np.all` and `np.any`."
   ]
  },
  {
   "cell_type": "code",
   "execution_count": 19,
   "metadata": {},
   "outputs": [
    {
     "data": {
      "text/plain": [
       "array([[ 0,  1,  2,  3,  4,  5],\n",
       "       [ 6,  7,  8,  9, 10, 11]])"
      ]
     },
     "execution_count": 19,
     "metadata": {},
     "output_type": "execute_result"
    }
   ],
   "source": [
    "x[np.all((x < 12) | (x < -2), axis=1), :]"
   ]
  },
  {
   "cell_type": "markdown",
   "metadata": {},
   "source": [
    "The boolean operators are a from of NumPy *ufuncs*.\n",
    "\n",
    "Finally, since Python is slow compared to NumPy operations,\n",
    "NumPy has a use for boolean arrays as a substitute for if-else loops.\n",
    "Given a boolean array `np.where` chooses from two arrays based on the\n",
    "boolean values.\n",
    "For example:"
   ]
  },
  {
   "cell_type": "code",
   "execution_count": 20,
   "metadata": {},
   "outputs": [
    {
     "data": {
      "text/plain": [
       "array([7, 2, 7, 7, 7])"
      ]
     },
     "execution_count": 20,
     "metadata": {},
     "output_type": "execute_result"
    }
   ],
   "source": [
    "np.where([True, False, True, True, True], [7] * 5, [2] * 5)"
   ]
  },
  {
   "cell_type": "markdown",
   "metadata": {},
   "source": [
    "### Sorting and Indexing Again\n",
    "\n",
    "Contrary to most operations in NumPy sorting an array is performed in place.\n",
    "A priori the in-place nature of sorting appear to contradict the NumPy\n",
    "attempt at not copying or modifying data already in memory.\n",
    "But we will soon see that there are ways of sorting without moving the data.\n",
    "\n",
    "Also contrary to the aggregation types we saw `axis=None` cannot be used.\n",
    "The default axis for sorting is `axis=-1`.\n",
    "As in Python indexing, $-1$ in the NumPy axis means the highest possible value.\n",
    "For two dimensional arrays `axis=-1` will be equivalent to `axis=1`,\n",
    "which is sorting across columns."
   ]
  },
  {
   "cell_type": "code",
   "execution_count": 21,
   "metadata": {},
   "outputs": [
    {
     "data": {
      "text/plain": [
       "array([[1, 3, 7, 7],\n",
       "       [1, 1, 2, 3],\n",
       "       [1, 2, 2, 3]])"
      ]
     },
     "execution_count": 21,
     "metadata": {},
     "output_type": "execute_result"
    }
   ],
   "source": [
    "x = np.array(\n",
    "    [\n",
    "        [7, 7, 3, 1],\n",
    "        [2, 3, 1, 1],\n",
    "        [2, 3, 1, 2],\n",
    "    ]\n",
    ")\n",
    "x.sort(axis=-1)\n",
    "x"
   ]
  },
  {
   "cell_type": "markdown",
   "metadata": {},
   "source": [
    "Even if we cannot use `axis=None` we can easily simulate such sorting\n",
    "by first reshaping the array."
   ]
  },
  {
   "cell_type": "code",
   "execution_count": 22,
   "metadata": {},
   "outputs": [
    {
     "data": {
      "text/plain": [
       "array([1, 1, 1, 1, 2, 2, 2, 3, 3, 3, 7, 7])"
      ]
     },
     "execution_count": 22,
     "metadata": {},
     "output_type": "execute_result"
    }
   ],
   "source": [
    "y = x.reshape(-1)\n",
    "y.sort()\n",
    "y"
   ]
  },
  {
   "cell_type": "markdown",
   "metadata": {},
   "source": [
    "And since sorting is in place we can see that the original array\n",
    "has been modified.\n",
    "Note as well that this modification is a good proof that\n",
    "in NumPy all values are stored sequentially in memory."
   ]
  },
  {
   "cell_type": "code",
   "execution_count": 23,
   "metadata": {},
   "outputs": [
    {
     "data": {
      "text/plain": [
       "array([[1, 1, 1, 1],\n",
       "       [2, 2, 2, 3],\n",
       "       [3, 3, 7, 7]])"
      ]
     },
     "execution_count": 23,
     "metadata": {},
     "output_type": "execute_result"
    }
   ],
   "source": [
    "x"
   ]
  },
  {
   "cell_type": "markdown",
   "metadata": {},
   "source": [
    "The sorting is all good but if we have a big piece of data that we want to\n",
    "use for several purposes, and only one of the purposes is sorting,\n",
    "we may not want to copy all the data and sort it in place.\n",
    "Moreover, sorting on a view may mess the data in the original place in memory.\n",
    "To the rescue come the `arg` *ufuncs* of NumPy.\n",
    "\n",
    "Another way to return a sorted array instead of sorting it in place is to use `argsort`.\n",
    "The `argsort` will return the indexes needed in order to sort the array\n",
    "but will not actually sort the array itself.\n",
    "Have a look at the image below.\n",
    "The sorting happens when the arrows cross each other on the left hand side.\n",
    "The right hand side just assigns the arrows into the sequential positions.\n",
    "What `argsort` does is to perform the sorting but not the assignment.\n",
    "It returns the indexes with which indexing the original array will\n",
    "return a sorted array."
   ]
  },
  {
   "cell_type": "code",
   "execution_count": 24,
   "metadata": {},
   "outputs": [
    {
     "data": {
      "text/plain": [
       "array([1, 3, 2, 0])"
      ]
     },
     "execution_count": 24,
     "metadata": {},
     "output_type": "execute_result"
    }
   ],
   "source": [
    "x = np.array([7, 1, 3, 2])\n",
    "x.argsort()"
   ]
  },
  {
   "cell_type": "markdown",
   "metadata": {},
   "source": [
    "![Argsort](np-argsort.svg)\n",
    "\n",
    "<div style=\"text-align:right;\"><sup>np-argsort.svg</sup></div>"
   ]
  },
  {
   "cell_type": "markdown",
   "metadata": {},
   "source": [
    "In the same way as in place sorting,\n",
    "`argsort` uses `axis=-1` as the default sorting axis\n",
    "for multidimensional arrays.\n",
    "For example we have the indexes needed across columns\n",
    "to return a sorted array in the same way."
   ]
  },
  {
   "cell_type": "code",
   "execution_count": 25,
   "metadata": {},
   "outputs": [
    {
     "data": {
      "text/plain": [
       "array([[3, 2, 0, 1],\n",
       "       [2, 3, 0, 1],\n",
       "       [2, 0, 3, 1]])"
      ]
     },
     "execution_count": 25,
     "metadata": {},
     "output_type": "execute_result"
    }
   ],
   "source": [
    "x = np.array(\n",
    "    [\n",
    "        [7, 7, 3, 1],\n",
    "        [2, 3, 1, 1],\n",
    "        [2, 3, 1, 2],\n",
    "    ]\n",
    ")\n",
    "x.argsort()"
   ]
  },
  {
   "cell_type": "markdown",
   "metadata": {},
   "source": [
    "To actually sort the multidimensional array we will use fancy indexing.\n",
    "But we require one more concept from NumPy: how to force dimensionality of arrays.\n",
    "In order to change a one dimensional row array into a two dimensional column\n",
    "array we use `np.newaxis` to index the array on the dimension we want to add."
   ]
  },
  {
   "cell_type": "code",
   "execution_count": 26,
   "metadata": {},
   "outputs": [
    {
     "data": {
      "text/plain": [
       "array([[0],\n",
       "       [1],\n",
       "       [2]])"
      ]
     },
     "execution_count": 26,
     "metadata": {},
     "output_type": "execute_result"
    }
   ],
   "source": [
    "np.arange(3)[:, np.newaxis]"
   ]
  },
  {
   "cell_type": "markdown",
   "metadata": {},
   "source": [
    "`np.newaxis` is just a fancy name for `None` and you will see\n",
    "`None` used often in place of `np.newaxis`.\n",
    "\n",
    "Nevertheless, we now can use our multidimensional `argsort`\n",
    "to sort the array without moving the data."
   ]
  },
  {
   "cell_type": "code",
   "execution_count": 27,
   "metadata": {},
   "outputs": [
    {
     "data": {
      "text/plain": [
       "array([[1, 3, 7, 7],\n",
       "       [1, 1, 2, 3],\n",
       "       [1, 2, 2, 3]])"
      ]
     },
     "execution_count": 27,
     "metadata": {},
     "output_type": "execute_result"
    }
   ],
   "source": [
    "x[np.arange(3)[:, np.newaxis], x.argsort(axis=-1)]"
   ]
  },
  {
   "cell_type": "markdown",
   "metadata": {},
   "source": [
    "And in order so sort across rows we invert the indexing order."
   ]
  },
  {
   "cell_type": "code",
   "execution_count": 28,
   "metadata": {},
   "outputs": [
    {
     "data": {
      "text/plain": [
       "array([[2, 3, 1, 1],\n",
       "       [2, 3, 1, 1],\n",
       "       [7, 7, 3, 2]])"
      ]
     },
     "execution_count": 28,
     "metadata": {},
     "output_type": "execute_result"
    }
   ],
   "source": [
    "x[x.argsort(axis=0), np.arange(4)]"
   ]
  },
  {
   "cell_type": "markdown",
   "metadata": {},
   "source": [
    "Combining fancy indexing, `arg` *ufuncs* and axis arguments results\n",
    "in incredibly powerful operations.\n",
    "Sorting is not the only operation that has `arg` *ufuncs*,\n",
    "several aggregations allows for such *ufuncs* including\n",
    "`argmin` and `argmax`."
   ]
  },
  {
   "cell_type": "markdown",
   "metadata": {},
   "source": [
    "Sorting is an expensive operation and often we do not need to sort only a part of the data.\n",
    "Another common sorting procedure is `partition`/`argpartition` which sorts only part of the data.\n",
    "For example, to retrieve the two smallest elements from an array\n",
    "we partition it with $2$ as the argument."
   ]
  },
  {
   "cell_type": "code",
   "execution_count": 29,
   "metadata": {},
   "outputs": [
    {
     "data": {
      "text/plain": [
       "array([1, 2, 2, 7, 6, 3, 3])"
      ]
     },
     "execution_count": 29,
     "metadata": {},
     "output_type": "execute_result"
    }
   ],
   "source": [
    "x = np.array([6, 2, 3, 7, 1, 3, 2])\n",
    "x[x.argpartition(2)]"
   ]
  },
  {
   "cell_type": "markdown",
   "metadata": {},
   "source": [
    "## Broadcasting\n",
    "\n",
    "There is a little more about *ufuncs* and arithmetic with arrays than\n",
    "what we talked until now.\n",
    "The *ufuncs*, indexing, concatenation, axis and shape together\n",
    "abide by a concept called broadcasting in NumPy.\n",
    "\n",
    "When you add (or subtract, or multiply) a number against an array,\n",
    "the number is summed to all elements, we know that this happens\n",
    "because of *ufuncs*.\n",
    "We say that the number is broadcast against all elements."
   ]
  },
  {
   "attachments": {
    "broadcast-simple.svg": {
     "image/svg+xml": [
      "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"
     ]
    }
   },
   "cell_type": "markdown",
   "metadata": {},
   "source": [
    "![Broadcast Simple](np-broadcast-simple.svg)\n",
    "\n",
    "<div style=\"text-align:right;\"><sup>np-broadcast-simple.svg</sup></div>"
   ]
  },
  {
   "cell_type": "code",
   "execution_count": 30,
   "metadata": {},
   "outputs": [
    {
     "data": {
      "text/plain": [
       "array([42, 43, 44, 45, 46, 47])"
      ]
     },
     "execution_count": 30,
     "metadata": {},
     "output_type": "execute_result"
    }
   ],
   "source": [
    "x = np.arange(18).reshape((3, 6))\n",
    "x[0, :] + 42"
   ]
  },
  {
   "cell_type": "markdown",
   "metadata": {},
   "source": [
    "But we are not limited to broadcast single numbers only.\n",
    "As long as arrays share parts of their *shape* they can be broadcast together.\n",
    "\n",
    "If, for any reason two arrays need to be operated together,\n",
    "be it fancy indexing or *ufunc* arithmetic,\n",
    "the arrays are broadcaster together.\n",
    "Broadcasting is a concept, the full broadcast structure\n",
    "is not stored in memory, but the internal process NumPy\n",
    "performs appear as if the arrays were broadcast before\n",
    "the arrays are operated on.\n",
    "For all practical purposes one can assume that when\n",
    "a broadcast happens the array is fully broadcast in memory.\n",
    "Some examples follow:"
   ]
  },
  {
   "attachments": {
    "broadcast-axis.svg": {
     "image/svg+xml": [
      "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"
     ]
    }
   },
   "cell_type": "markdown",
   "metadata": {},
   "source": [
    "![Broadcast Axis](np-broadcast-axis.svg)\n",
    "\n",
    "<div style=\"text-align:right;\"><sup>np-broadcast-axis.svg</sup></div>"
   ]
  },
  {
   "cell_type": "code",
   "execution_count": 31,
   "metadata": {},
   "outputs": [
    {
     "data": {
      "text/plain": [
       "array([[ 3,  5],\n",
       "       [ 9, 11],\n",
       "       [15, 17]])"
      ]
     },
     "execution_count": 31,
     "metadata": {},
     "output_type": "execute_result"
    }
   ],
   "source": [
    "x[:, 2:4] + np.arange(1, 3)"
   ]
  },
  {
   "cell_type": "markdown",
   "metadata": {},
   "source": [
    "In order to create a column vector we need to use `np.newaxis`."
   ]
  },
  {
   "cell_type": "code",
   "execution_count": 32,
   "metadata": {},
   "outputs": [
    {
     "data": {
      "text/plain": [
       "array([[ 3,  4],\n",
       "       [10, 11],\n",
       "       [17, 18]])"
      ]
     },
     "execution_count": 32,
     "metadata": {},
     "output_type": "execute_result"
    }
   ],
   "source": [
    "x[:, 2:4] + np.arange(1, 4)[:, np.newaxis]"
   ]
  },
  {
   "cell_type": "markdown",
   "metadata": {},
   "source": [
    "The row vector example is equivalent to the following.\n",
    "Part of the broadcasting procedure is to *extend an axis at the front* of the array.\n",
    "For finer control one can do it explicitly."
   ]
  },
  {
   "cell_type": "code",
   "execution_count": 33,
   "metadata": {},
   "outputs": [
    {
     "data": {
      "text/plain": [
       "array([[ 3,  5],\n",
       "       [ 9, 11],\n",
       "       [15, 17]])"
      ]
     },
     "execution_count": 33,
     "metadata": {},
     "output_type": "execute_result"
    }
   ],
   "source": [
    "x[:, 2:4] + np.arange(1, 3)[np.newaxis, :]"
   ]
  },
  {
   "cell_type": "markdown",
   "metadata": {},
   "source": [
    "![Broadcasting](np-broadcast-tv.svg)\n",
    "\n",
    "<div style=\"text-align:right;\"><sup>np-broadcast-tv.svg</sup></div>\n",
    "\n",
    "<div style=\"border: 0.3em double teal; border-radius: 0.5em; padding: 0.5em;\">\n",
    "    The Alexandra Palace was the birth place of television.\n",
    "    The British Broadcast Corporation (the BBC) built its mast in 1936\n",
    "    and started transmitting the first television channel in the world\n",
    "    in the same year.\n",
    "    The tower was not the first television transmitter.\n",
    "    Transmitters for television existed as early as 1910s\n",
    "    but the fierce competition with the radio marginalized television\n",
    "    technology for decades.\n",
    "    The tower in Alexandra Palace was the first public television broadcast.\n",
    "    And, despite several interruptions including the World War II,\n",
    "    the tower is used to broadcast television channels to this day.\n",
    "</div>"
   ]
  },
  {
   "cell_type": "markdown",
   "metadata": {},
   "source": [
    "### c_ and r_\n",
    "\n",
    "These are NumPy constructs that seem very complicated at first\n",
    "but once you use them long enough they become second nature.\n",
    "It is important to notice that these two NumPy variables\n",
    "are function like objects that are not called as functions,\n",
    "instead we use indexing notation to get their functionality.\n",
    "\n",
    "`np.c_` concatenates as many arrays as given over the last axis.\n",
    "It forces all arrays to have at least $2$ dimensions,\n",
    "hence it makes it easy to add columns to arrays."
   ]
  },
  {
   "cell_type": "code",
   "execution_count": 34,
   "metadata": {},
   "outputs": [
    {
     "data": {
      "text/plain": [
       "array([[ 0,  1,  2,  3,  1,  1,  0,  0,  1,  2,  3],\n",
       "       [ 4,  5,  6,  7,  2,  1,  0,  4,  5,  6,  7],\n",
       "       [ 8,  9, 10, 11,  3,  1,  0,  8,  9, 10, 11]])"
      ]
     },
     "execution_count": 34,
     "metadata": {},
     "output_type": "execute_result"
    }
   ],
   "source": [
    "x = np.arange(12).reshape((3, 4))\n",
    "np.c_[x, [1, 2, 3], [1, 1, 1], [0, 0, 0], x]"
   ]
  },
  {
   "cell_type": "markdown",
   "metadata": {},
   "source": [
    "`np_r_` is what `np.c_` uses behind the scenes.\n",
    "`np.r_` is very powerful but may be quite hard to grasp.\n",
    "It may receive a string of three numbers, in order these mean:\n",
    "the axis to concatenate over,\n",
    "the minimum number of dimensions to force all arrays to,\n",
    "and the axis to place the existing dimension of the arrays given.\n",
    "\n",
    "That already sounds quite confusing but then come all the\n",
    "remaining indexes into `np.r_`.\n",
    "These indexes may be arrays but also may be slices.\n",
    "The slices generate new arrays.\n",
    "If the step of the slice is an integer then `np.arange`\n",
    "is used to generate the array.\n",
    "If the step is a complex number (`j` in Python) then\n",
    "`np.linspace` is used instead.\n",
    "\n",
    "The most common use for `np.r_` is to quickly generate data.\n",
    "We will have a look at one such use here,\n",
    "we generate each column of the following array\n",
    "as a $10$ point `np.linspace`."
   ]
  },
  {
   "cell_type": "code",
   "execution_count": 35,
   "metadata": {},
   "outputs": [
    {
     "data": {
      "text/plain": [
       "array([[ 1.        ,  0.        , 10.        ],\n",
       "       [ 1.66666667,  0.33333333, 10.22222222],\n",
       "       [ 2.33333333,  0.66666667, 10.44444444],\n",
       "       [ 3.        ,  1.        , 10.66666667],\n",
       "       [ 3.66666667,  1.33333333, 10.88888889],\n",
       "       [ 4.33333333,  1.66666667, 11.11111111],\n",
       "       [ 5.        ,  2.        , 11.33333333],\n",
       "       [ 5.66666667,  2.33333333, 11.55555556],\n",
       "       [ 6.33333333,  2.66666667, 11.77777778],\n",
       "       [ 7.        ,  3.        , 12.        ]])"
      ]
     },
     "execution_count": 35,
     "metadata": {},
     "output_type": "execute_result"
    }
   ],
   "source": [
    "n = 10j\n",
    "np.r_[\"1,2,0\", 1:7:n, 0:3:n, 10:12:n]"
   ]
  },
  {
   "cell_type": "markdown",
   "metadata": {},
   "source": [
    "These constructs are quite complex alright.\n",
    "Yet, one needs to be aware of them when reading NumPy code.\n",
    "Both `np.c_` and `np.r_` are very convenient once harnessed.\n",
    "And the only way to harness them is practice."
   ]
  }
 ],
 "metadata": {
  "kernelspec": {
   "display_name": "Python 3",
   "language": "python",
   "name": "python3"
  },
  "language_info": {
   "codemirror_mode": {
    "name": "ipython",
    "version": 3
   },
   "file_extension": ".py",
   "mimetype": "text/x-python",
   "name": "python",
   "nbconvert_exporter": "python",
   "pygments_lexer": "ipython3",
   "version": "3.7.6"
  }
 },
 "nbformat": 4,
 "nbformat_minor": 4
}
