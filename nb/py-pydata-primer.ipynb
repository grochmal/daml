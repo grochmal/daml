{
 "cells": [
  {
   "cell_type": "markdown",
   "metadata": {},
   "source": [
    "# 01.03 PyData Primer\n",
    "\n",
    "A summary of the features of Python that we will use follows.\n",
    "By no means this is an extensive tutorial of the Python language,\n",
    "instead this is just a cuckoo's flew over the basics of the features that\n",
    "we will need in order to deal with some machine learning.\n",
    "Think of it as a retrospective of what you already know about Python."
   ]
  },
  {
   "cell_type": "markdown",
   "metadata": {},
   "source": [
    "In general, the following is structured so that one with understanding of\n",
    "a programming language can understand the Python features we will need.\n",
    "We will make analogies to other programming languages you may know.\n",
    "If you struggle with this section I'll need to ask you to brush up your\n",
    "programming."
   ]
  },
  {
   "cell_type": "markdown",
   "metadata": {},
   "source": [
    "## Functions\n",
    "\n",
    "Python was originally built as an object oriented language, yet it wanted to compete with Perl\n",
    "which was a language heavily used for quick scripting.  Python succeeded by making its function\n",
    "a first class citizen and not depend on object oriented patterns for everything\n",
    "(note though that below the hood a Python function is an object).\n",
    "\n",
    "A function starts after the `def` statement and ends when it executes an\n",
    "explicit `return` statement, ends execution without reaching a `return` or an\n",
    "exception is raised through the function.\n",
    "(Contrary to compiled programming languages)\n",
    "the return statement does not require a single value to be returned,\n",
    "one can return several values at once or no value at all.\n",
    "The following are all valid function definitions:"
   ]
  },
  {
   "cell_type": "code",
   "execution_count": 1,
   "metadata": {},
   "outputs": [
    {
     "name": "stdout",
     "output_type": "stream",
     "text": [
      "None\n",
      "None\n",
      "Cat is hungry, pig escaped\n",
      "('Cat is hungry', 'Pig escaped')\n"
     ]
    }
   ],
   "source": [
    "def do_nothing() -> None:\n",
    "    pass\n",
    "\n",
    "\n",
    "def do_nothing_as_well() -> None:\n",
    "    return None\n",
    "\n",
    "\n",
    "def with_args(cat: str, pig: str) -> str:\n",
    "    return f\"Cat {cat}, pig {pig}\"\n",
    "\n",
    "\n",
    "def return_tuple(cat: str, pig: str) -> tuple[str, str]:\n",
    "    return f\"Cat {cat}\", f\"Pig {pig}\"\n",
    "\n",
    "\n",
    "print(do_nothing())\n",
    "print(do_nothing_as_well())\n",
    "print(with_args(\"is hungry\", \"escaped\"))\n",
    "print(return_tuple(\"is hungry\", \"escaped\"))"
   ]
  },
  {
   "cell_type": "markdown",
   "metadata": {},
   "source": [
    "## Optional Arguments\n",
    "\n",
    "You can provide optional/default *keyword* arguments to functions.\n",
    "That is Python's way of giving different signatures/constructors to the same function/method.\n",
    "Optional arguments are characterized by an assignment (equal sign) inside the `def`\n",
    "statement right after to the defaulted argument.\n",
    "Then, after the equal sign a value to which the optional argument will default to must be given.\n",
    "All non-defaulted arguments *must come before* the defaulted/optional arguments.\n",
    "Examples:"
   ]
  },
  {
   "cell_type": "code",
   "execution_count": 2,
   "metadata": {},
   "outputs": [
    {
     "name": "stdout",
     "output_type": "stream",
     "text": [
      "Cat is hungry\n",
      "Cat well fed\n",
      "Upstair'ss cat is is hungry\n",
      "'round the corner'ss cat is well fed\n"
     ]
    }
   ],
   "source": [
    "def status(cat: str = \"is hungry\") -> str:\n",
    "    return f\"Cat {cat}\"\n",
    "\n",
    "\n",
    "def neighbours_cat(neighbour: str, status: str = \"is hungry\") -> str:\n",
    "    return f\"{neighbour}s cat is {status}\"\n",
    "\n",
    "\n",
    "print(status())\n",
    "print(status(\"well fed\"))\n",
    "print(neighbours_cat(\"Upstair's\"))\n",
    "print(neighbours_cat(\"'round the corner's\", \"well fed\"))"
   ]
  },
  {
   "cell_type": "markdown",
   "metadata": {},
   "source": [
    "## Function Arguments\n",
    "\n",
    "Since Python is a dynamic language, it is possible to call the same function in several ways.\n",
    "A function call is performed by evaluating all arguments in the call and then comparing the resulting\n",
    "lists of arguments with the signature of the function.\n",
    "A function call is parsed as:\n",
    "\n",
    "1.  From left to right all non-keyword arguments (positional arguments) are appended to a list\n",
    "2.  All keyword arguments are placed inside a (keyword) dictionary\n",
    "3.  The positional arguments fill the list of arguments of the function signature\n",
    "4.  All non-filled keyword arguments in the signature are searched for in the keyword dictionary\n",
    "5.  If the function has a `*<arg>` argument the remaining list of positional arguments is passed there\n",
    "6.  If the function has a `**<arg>` argument the remaining keyword dictionary is passed there\n",
    "7.  If the positional list and keyword dictionary are empty the function is called, otherwise an error is raised\n",
    "\n",
    "By convention the argument for extra positional arguments is often called `*args`,\n",
    "and the argument for extra keyword arguments is called `**kwargs` or `**kw`.\n",
    "Yet that is not a very strong convention, and if better readability can be achieved\n",
    "by giving these variables better names that is accepted.\n",
    "For example, here we use non-conventional names to check where\n",
    "we can buy which brand of cat food:"
   ]
  },
  {
   "cell_type": "code",
   "execution_count": 3,
   "metadata": {},
   "outputs": [
    {
     "name": "stdout",
     "output_type": "stream",
     "text": [
      "my cat eats whiskas food\n",
      "------------------------------\n",
      "my cat eats wheats food\n",
      "------------------------------\n",
      "In Tesco we found the following brands of cat food:\n",
      "felix\n",
      "whiskas\n",
      "wheats\n",
      "------------------------------\n",
      "In Sainsbury's we found the following brands of cat food:\n",
      "whiskas\n",
      "sainsbury\n",
      "------------------------------\n",
      "Delivery to Northampton Square\n",
      "7 cans of whiskas\n",
      "3 cans of felix\n"
     ]
    }
   ],
   "source": [
    "def can_eat(cat: str, brand: str = \"felix\") -> None:\n",
    "    print(cat, \"eats\", brand, \"food\")\n",
    "\n",
    "\n",
    "def cat_food_brands(market: str, *brands: list[str]) -> None:\n",
    "    print(\"In\", market, \"we found the following brands of cat food:\")\n",
    "    for brand in brands:\n",
    "        print(brand)\n",
    "\n",
    "\n",
    "def deliver_cat_food(address: str, **quantity: dict[str, int]) -> None:\n",
    "    print(\"Delivery to\", address)\n",
    "    for b, q in quantity.items():\n",
    "        print(q, \"cans of\", b)\n",
    "\n",
    "\n",
    "can_eat(\"my cat\", \"whiskas\")\n",
    "print(\"-\" * 30)\n",
    "can_eat(\"my cat\", brand=\"wheats\")\n",
    "print(\"-\" * 30)\n",
    "cat_food_brands(\"Tesco\", \"felix\", \"whiskas\", \"wheats\")\n",
    "print(\"-\" * 30)\n",
    "cat_food_brands(\"Sainsbury's\", \"whiskas\", \"sainsbury\")\n",
    "print(\"-\" * 30)\n",
    "deliver_cat_food(\"Northampton Square\", whiskas=7, felix=3)"
   ]
  },
  {
   "cell_type": "markdown",
   "metadata": {},
   "source": [
    "## List Comprehensions\n",
    "\n",
    "Despite its object oriented origin, Python did fall in love with functional patterns.\n",
    "The idea of a functional execution of programs originated in LISP (LISt Processing),\n",
    "and is based on operations such as `map`, and `filter`.\n",
    "Python does support the `map` and `filter` functions\n",
    "as built-ins but it also does come with a syntax called *list comprehension*.\n",
    "\n",
    "List comprehensions are often easier to read and shorter to write than their equivalents with\n",
    "`map` and `filter`.  Also, Python has a good optimizer of list comprehensions which makes\n",
    "these perform faster than hand-coded sequences of `map` and `filter`, most of the time.\n",
    "Following we can see a couple of list comprehensions and their lisp-like counterparts\n",
    "in the code comments:"
   ]
  },
  {
   "cell_type": "code",
   "execution_count": 4,
   "metadata": {},
   "outputs": [
    {
     "name": "stdout",
     "output_type": "stream",
     "text": [
      "numbers: [0, 1, 2, 3, 4, 5, 6, 7, 8, 9]\n",
      "odd: [1, 3, 5, 7, 9]\n",
      "even squared: [0, 4, 16, 36, 64]\n"
     ]
    }
   ],
   "source": [
    "numbers = list(range(10))\n",
    "print(\"numbers:\", numbers)\n",
    "\n",
    "odd = [x for x in numbers if x % 2 == 1]\n",
    "# filter(lambda x: x % 2 == 1, numbers)\n",
    "print(\"odd:\", odd)\n",
    "\n",
    "even_squared = [x * x for x in numbers if x % 2 == 0]\n",
    "# map(lambda x: x*x, filter(lambda x: x % 2 == 1, numbers))\n",
    "print(\"even squared:\", even_squared)"
   ]
  },
  {
   "cell_type": "markdown",
   "metadata": {},
   "source": [
    "## Combining Comprehensions\n",
    "\n",
    "A single list comprehension is powerful but a combination of them makes for\n",
    "the full power of the functional paradigm.\n",
    "An example is in order.\n",
    "\n",
    "Let's try to distribute cat food across several households in a way that most cats are happy.\n",
    "Note that we will ignore the special preferences of each cat,\n",
    "e.g. a cat that likes \"whiskas special\" will need to do with\n",
    "plain whiskas food since we do not want to spend too much money on the whims of cats.\n",
    "The below uses the functional paradigm to distribute equally the amount of cat food\n",
    "across the neighborhood cats.\n",
    "Note that iterating over a dictionary is the same as iterating over its `.keys()` method,\n",
    "this is a feature of python dictionaries that often confuses people coming from other languages.\n",
    "\n",
    "The code here is complicated, that is intended.\n",
    "A much easier way of solving this problem would be with several for loops.\n",
    "Yet, there is a good reason why we use list comprehensions here.\n",
    "Soon we will see vectorial computing libraries (e.g. *NumPy*)\n",
    "and the way they operate is very similar to the code below.\n",
    "Therefore try understanding the code here, even if it takes a while.\n",
    "Some hints are:\n",
    "\n",
    "- The exact cat preferences are messy, first we filter them to have clean data;\n",
    "- We then figure out how many cats eat each type of food;\n",
    "- Finally we combine both constructs to divide the food across the cats."
   ]
  },
  {
   "cell_type": "code",
   "execution_count": 5,
   "metadata": {},
   "outputs": [
    {
     "name": "stdout",
     "output_type": "stream",
     "text": [
      "preferences\n",
      "{\"'round the corner cat\": ['felix', 'sainsbury'],\n",
      " 'my cat': ['felix', 'whiskas', 'wheat'],\n",
      " \"neighbour's cat\": ['whiskas', 'wheat']}\n",
      "------------------------------\n",
      "food division\n",
      "{'felix': 2, 'sainsbury': 1, 'wheat': 2, 'whiskas': 2}\n",
      "------------------------------\n"
     ]
    },
    {
     "data": {
      "text/plain": [
       "{'my cat': {'felix': 3, 'whiskas': 5, 'wheat': 6},\n",
       " \"neighbour's cat\": {'whiskas': 5, 'wheat': 6},\n",
       " \"'round the corner cat\": {'felix': 3, 'sainsbury': 5}}"
      ]
     },
     "execution_count": 5,
     "metadata": {},
     "output_type": "execute_result"
    }
   ],
   "source": [
    "from pprint import pprint\n",
    "\n",
    "cat_preferences = {\n",
    "    \"my cat\": [\"whiskas\", \"felix pork\", \"wheat\"],\n",
    "    \"neighbour's cat\": [\"whiskas special\", \"wheat\"],\n",
    "    \"'round the corner cat\": [\"felix\", \"sainsbury\"],\n",
    "}\n",
    "food_in_drawer = {\"felix\": 6, \"whiskas\": 10, \"wheat\": 12, \"sainsbury\": 5}\n",
    "\n",
    "\n",
    "preferences = dict(\n",
    "    [\n",
    "        (\n",
    "            cat,\n",
    "            [\n",
    "                food\n",
    "                for food in food_in_drawer\n",
    "                if [x for x in cat_preferences[cat] if x.startswith(food)]\n",
    "            ],\n",
    "        )\n",
    "        for cat in cat_preferences\n",
    "    ]\n",
    ")\n",
    "print(\"preferences\")\n",
    "pprint(preferences)\n",
    "print(\"-\" * 30)\n",
    "food_div = dict(\n",
    "    [\n",
    "        (\n",
    "            food,\n",
    "            len([cat for cat in cat_preferences if food in preferences[cat]]),\n",
    "        )\n",
    "        for food in food_in_drawer\n",
    "    ]\n",
    ")\n",
    "print(\"food division\")\n",
    "pprint(food_div)\n",
    "print(\"-\" * 30)\n",
    "rations = dict(\n",
    "    [\n",
    "        (\n",
    "            cat,\n",
    "            dict(\n",
    "                [\n",
    "                    (food, food_in_drawer[food] // food_div[food])\n",
    "                    for food in food_in_drawer\n",
    "                    if food in preferences[cat]\n",
    "                ]\n",
    "            ),\n",
    "        )\n",
    "        for cat in cat_preferences\n",
    "    ]\n",
    ")\n",
    "rations"
   ]
  },
  {
   "cell_type": "markdown",
   "metadata": {},
   "source": [
    "---\n",
    "\n",
    "This was an exercise in *relational algebra*, which is often used in *NumPy* and *Pandas*.\n",
    "If you have worked with *SQL databases* this was (hopefully) familiar to you to some extent.\n",
    "The idea of moving data around was similar to joining tables in a SQL database.\n",
    "Another thing one may notice based on this example is my own fondness to cats."
   ]
  },
  {
   "cell_type": "markdown",
   "metadata": {},
   "source": [
    "![Cats](py-cats.svg)\n",
    "\n",
    "<div style=\"text-align:right;\"><sup>py-cats.svg</sup></div>"
   ]
  },
  {
   "cell_type": "markdown",
   "metadata": {},
   "source": [
    "## String Operations\n",
    "\n",
    "In the code above we saw `startswith`, this is a string operation,\n",
    "i.e. an operation performed on string objects.\n",
    "Being able to handle strings is an important skill independent of whether you are analyzing data,\n",
    "writing a web crawler or scripting your cat food delivery network.\n",
    "Let's have a look at some of these operations,\n",
    "specifically the operations that may be useful in data munging."
   ]
  },
  {
   "cell_type": "code",
   "execution_count": 6,
   "metadata": {},
   "outputs": [
    {
     "name": "stdout",
     "output_type": "stream",
     "text": [
      "True\n",
      "True\n",
      "aubrey\n",
      "AUBREY\n",
      "Aubrey, Rose\n",
      "[ Northampton Square, Clerkenwell ]\n",
      "[Northampton Square, Clerkenwell ]\n",
      "[ Northampton Square, Clerkenwell]\n",
      "[Northampton Square, Clerkenwell]\n",
      "['Northampton', 'Square,', 'Clerkenwell']\n",
      "['Northampton', 'Square', 'Clerkenwell']\n"
     ]
    }
   ],
   "source": [
    "cat = \"Aubrey\"\n",
    "dog = \"Rose\"\n",
    "address = \" Northampton Square, Clerkenwell \"  # note the spaces\n",
    "\n",
    "print(cat.startswith(\"A\"))\n",
    "print(cat.endswith(\"y\"))\n",
    "print(cat.lower())\n",
    "print(cat.upper())\n",
    "print(\", \".join([cat, dog]))\n",
    "print(\"[\" + address + \"]\")\n",
    "print(\"[\" + address.lstrip() + \"]\")\n",
    "print(\"[\" + address.rstrip() + \"]\")\n",
    "print(\"[\" + address.strip() + \"]\")\n",
    "print(address.split())\n",
    "print([x.strip(\",\") for x in address.split()])"
   ]
  },
  {
   "cell_type": "markdown",
   "metadata": {},
   "source": [
    "---\n",
    "\n",
    "For anything more complex [regular expressions][regex] are the way to go.\n",
    "Yet, we will cover very little on regular expressions\n",
    "as it is a huge topic on itself.\n",
    "Whenever it will be needed, we will mention a sample of regular expression syntax in that place.\n",
    "\n",
    "[regex]: https://docs.python.org/3/library/re.html \"Regular Expressions - Python Documentation\""
   ]
  },
  {
   "cell_type": "markdown",
   "metadata": {},
   "source": [
    "## Data Types\n",
    "\n",
    "Python is dynamically typed, i.e. the type of a variable is only retrieved when needed.\n",
    "More specifically Python is duck-typed, which means that as long as and object (data type,\n",
    "data structure or even function) abides by a certain protocol it will work as the type intended\n",
    "for that protocol.  In other words, as long as a data type behaves well enough as the intended\n",
    "data type for an operation, it will just work.\n",
    "\n",
    "This also means that a function may receive completely different types\n",
    "of objects and act differently based on what it got.\n",
    "One example of such behavior can be outlined with:"
   ]
  },
  {
   "cell_type": "code",
   "execution_count": 7,
   "metadata": {},
   "outputs": [
    {
     "name": "stdout",
     "output_type": "stream",
     "text": [
      "{'felix': 2, 'whiskas': 2}\n",
      "{'felix': 2, 'whiskas': 2}\n"
     ]
    }
   ],
   "source": [
    "CAT_NUM = 3\n",
    "\n",
    "\n",
    "def divide_food(food: dict[str, int] | list[tuple[str, int]]) -> dict[str, int]:\n",
    "    \"\"\"Divides the food among cats,\n",
    "    can receive a dictionary or list of 2-tuples\n",
    "    \"\"\"\n",
    "    if not hasattr(food, \"keys\"):\n",
    "        food = dict(food)\n",
    "    for f in food:\n",
    "        food[f] //= 3\n",
    "    return food\n",
    "\n",
    "\n",
    "print(divide_food({\"felix\": 7, \"whiskas\": 6}))\n",
    "print(divide_food([(\"felix\", 7), (\"whiskas\", 6)]))"
   ]
  },
  {
   "cell_type": "markdown",
   "metadata": {},
   "source": [
    "---\n",
    "\n",
    "Duck-typing, and protocol checking as in the function above,\n",
    "is heavily used throughout the Python data stack.\n",
    "Do not be surprised when we look at a function that works in a completely different\n",
    "manner when passed arguments of different types."
   ]
  },
  {
   "cell_type": "markdown",
   "metadata": {},
   "source": [
    "## Lambdas\n",
    "\n",
    "Since functions are first class citizens in Python, nothing holds us from having variables with\n",
    "references to functions.  And since we have references to functions, nothing holds us from referencing\n",
    "a function which we did not give a name - an anonymous function.\n",
    "\n",
    "Anonymous functions - or *lambda functions* - are functions without a given name\n",
    "(in Python, without a meaningful `__name__` attribute).\n",
    "These are often used to pass simple functions around.\n",
    "A *lambda function* can only contain a single expression and has an implicit return.\n",
    "Whatever is the result of the single expression in the *lambda function*\n",
    "it will be returned to the caller, despite no `return` statement is visible."
   ]
  },
  {
   "cell_type": "code",
   "execution_count": 8,
   "metadata": {},
   "outputs": [
    {
     "name": "stdout",
     "output_type": "stream",
     "text": [
      "Cat ate felix\n",
      "Cat ate felix\n",
      "named_function\n",
      "<lambda>\n"
     ]
    }
   ],
   "source": [
    "def named_function(food: str) -> str:\n",
    "    return f\"Cat ate {food}\"\n",
    "\n",
    "\n",
    "anon_function = lambda food: f\"Cat ate {food}\"  # noqa: E731\n",
    "\n",
    "\n",
    "print(named_function(\"felix\"))\n",
    "print(anon_function(\"felix\"))\n",
    "print(named_function.__name__)\n",
    "print(anon_function.__name__)"
   ]
  },
  {
   "cell_type": "markdown",
   "metadata": {},
   "source": [
    "## Objects\n",
    "\n",
    "We will deal very little with the object oriented nature of Python\n",
    "but we will need to know some bits about objects.  An object is an encapsulation of state\n",
    "together with methods (functions) that operate on this state.  In Python *object state\n",
    "and object methods live in different places in memory*, the first argument to all\n",
    "normal methods of an object points to the actual state encapsulated by the current\n",
    "instance of the object.  By convention we use `self` as the name of the first argument\n",
    "of the object methods, and this is a very strong convention.\n",
    "\n",
    "After constructing an object the `__init__` method is invoked, it takes the `self` argument\n",
    "and then anything that we wish to be stored or used for constructing an instance of our object.\n",
    "Optional arguments are accepted and encouraged within the definition of `__init__`, these optional\n",
    "arguments make for what in other languages is accomplished with multiple constructors.\n",
    "\n",
    "A Python function is actually an object.  The `def` simply defines and object which has a\n",
    "`__call__` method, this method is invoked when the object is called (by placing brackets after it).\n",
    "The dictionaries and lists are just Python objects too, these define the `__getitem__` method.\n",
    "In Python these *dunder* (double underscore) methods define the protocols of the basic objects.\n",
    "\n",
    "What follows is an example of a multi-protocol object,\n",
    "with a similar `__getitem__` as the multidimensional array object which we will see\n",
    "when we learn about *NumPy*.\n",
    "At first sight the *NumPy* like objects seem very strange\n",
    "but the example here hopefully clears some confusion\n",
    "in that those objects are just python.\n",
    "After we see *NumPy* I encourage you to come back here and look at this object again.\n",
    "\n",
    "Note: do not worry if you do not understand what is happening below,\n",
    "we will not explicitly cover it.\n",
    "On the other hand, if you know Python well and are interested in what goes\n",
    "behind the scenes in the data manipulation libraries this object outlines it."
   ]
  },
  {
   "cell_type": "code",
   "execution_count": 9,
   "metadata": {},
   "outputs": [
    {
     "name": "stdout",
     "output_type": "stream",
     "text": [
      "Hungry: False\n",
      "Mieau!\n",
      "Hungry: True\n",
      "Mieau!\n",
      "List slice: Do not slice me!\n",
      "List access: 1\n",
      "Too many legs: 4\n",
      "Dictionary access: are you may cat?\n",
      "Arbitrary access: (slice(1, 7, 2), 'fur', 3)\n"
     ]
    }
   ],
   "source": [
    "class Cat(object):\n",
    "    def __init__(self, greeting: str = \"Meaow!\", legs: int = 4) -> None:\n",
    "        self.greeting = greeting\n",
    "        self.legs = legs\n",
    "        self.fed = True\n",
    "\n",
    "    def is_hungry(self) -> bool:\n",
    "        return not self.fed\n",
    "\n",
    "    def feed(self) -> None:\n",
    "        self.fed = True\n",
    "\n",
    "    def __call__(self) -> None:\n",
    "        if self.fed:\n",
    "            print(self.greeting)\n",
    "        self.fed = False\n",
    "\n",
    "    def __getitem__(self, key: str | int | slice) -> str | int | list:\n",
    "        \"\"\"\n",
    "        This one is pretty complicated\n",
    "        this is how NumPy and Pandas works below the hood.\n",
    "\n",
    "        If you really want to go deep try figuring out\n",
    "        what it does and how it does it.\n",
    "        \"\"\"\n",
    "        if type(key) is slice:\n",
    "            return \"Do not slice me!\"\n",
    "        elif type(key) is int:\n",
    "            return min(abs(key), self.legs)\n",
    "        else:\n",
    "            return key\n",
    "\n",
    "\n",
    "cat = Cat(\"Mieau!\")\n",
    "print(\"Hungry:\", cat.is_hungry())\n",
    "cat()\n",
    "print(\"Hungry:\", cat.is_hungry())\n",
    "cat()  # is hungry, will not meaow\n",
    "cat.feed()\n",
    "cat()\n",
    "print(\"List slice:\", cat[1:3:2])\n",
    "print(\"List access:\", cat[1])\n",
    "print(\"Too many legs:\", cat[7])\n",
    "print(\"Dictionary access:\", cat[\"are you may cat?\"])\n",
    "print(\"Arbitrary access:\", cat[1:7:2, \"fur\", 3])"
   ]
  },
  {
   "cell_type": "markdown",
   "metadata": {},
   "source": [
    "---\n",
    "\n",
    "Finally, if anything in the sections above - perhaps without the last\n",
    "section about objects just above - was too much for you, do have a look\n",
    "at one of the several extensive resources for learning more about Python.\n",
    "Knowing Python well will be only of benefit to anyone wishing\n",
    "to do things with data and/or machine learning.\n",
    "\n",
    "The list of python resource below is, by far, not comprehensive.\n",
    "That said, I find the resources below to the best available ones at the time of writing."
   ]
  },
  {
   "cell_type": "markdown",
   "metadata": {},
   "source": [
    "## Extra Resources\n",
    "\n",
    "- *Dive Into Python 3* by Mark Pilgrim: <http://www.diveintopython3.net/>\n",
    "- *Think Python* by Allen B. Downey: <http://greenteapress.com/wp/think-python-2e/>\n",
    "- Official Python Tutorial: <https://docs.python.org/3/tutorial/>"
   ]
  }
 ],
 "metadata": {
  "kernelspec": {
   "display_name": ".venv",
   "language": "python",
   "name": "python3"
  },
  "language_info": {
   "codemirror_mode": {
    "name": "ipython",
    "version": 3
   },
   "file_extension": ".py",
   "mimetype": "text/x-python",
   "name": "python",
   "nbconvert_exporter": "python",
   "pygments_lexer": "ipython3",
   "version": "3.11.12"
  }
 },
 "nbformat": 4,
 "nbformat_minor": 4
}
