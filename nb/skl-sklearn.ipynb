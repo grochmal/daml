{
 "cells": [
  {
   "cell_type": "markdown",
   "metadata": {},
   "source": [
    "# 06.02 - sklearn Introduction\n",
    "\n",
    "The `sklearn` module in Python tries to *standardize the way machine learning\n",
    "techniques are performed*.  Instead of technique specific setup and manual application\n",
    "of the resulting model, `sklearn` proposes a standard class-based API.\n",
    "Every ML technique in `sklean` uses the following steps to produce a single model."
   ]
  },
  {
   "cell_type": "markdown",
   "metadata": {},
   "source": [
    "1.  Every ML technique (model type) is a class that you can import\n",
    "2.  You feed the *hyperparameters* to the constructor, a new instance of a model\n",
    "    is bound to the hyperparameters passed in\n",
    "3.  You call the `fit` method with the training data, which has a standardized form, see below\n",
    "4.  For models that predict data you use the `predict` method to apply the model\n",
    "5.  For models that transform the data you use `transform` method, some models have\n",
    "    a `fit_transform` method which will fit and then transform the same data"
   ]
  },
  {
   "cell_type": "markdown",
   "metadata": {},
   "source": [
    "![Neighbours](skl-dover-castle.svg)\n",
    "\n",
    "<div style=\"text-align:right;\"><sup>skl-dover-castle.svg</sup></div>\n",
    "\n",
    "<div style=\"border: 0.3em double teal; border-radius: 0.5em; padding: 0.5em;\">\n",
    "    Dover Castle is has stood in one form or another since before any records began.\n",
    "    The have been defensive structures on Dover hills before the times of Romans in Britain.\n",
    "    The castle is a good example of sometimes tense relations between neighbors\n",
    "    across a small body of water, the English Channel.\n",
    "    The Roman Lighthouse stands next to the church on the back hill.\n",
    "    William the Conqueror took and re-fortified the castle.\n",
    "    Henry II built the current keep, and the castle stood battle against the French.\n",
    "    The castle has been again rebuilt by Henry VIII as part\n",
    "    of the sea defenses of Britain.\n",
    "    During Napoleonic Wars the outer areas of the castle defenses took\n",
    "    the shape we see today.\n",
    "    And even during World War II Dover Castle was used as an Admiralty base,\n",
    "    due to the protection and good line of sight.\n",
    "</div>"
   ]
  },
  {
   "cell_type": "markdown",
   "metadata": {},
   "source": [
    "## Input and Output\n",
    "\n",
    "Injecting data and reading the outputs of a model can often be troublesome,\n",
    "figuring out in which format a model wants its parameters is no easy task.\n",
    "Developers of `sklearn` tried to sort the misery of different libraries\n",
    "requiring parameters in different formats, and created a standard way in which\n",
    "all `sklearn` models receive the input."
   ]
  },
  {
   "cell_type": "markdown",
   "metadata": {},
   "source": [
    "![Model Call](skl-model-call.svg)\n",
    "\n",
    "<div style=\"text-align:right;\"><sup>skl-model-call.svg</sup></div>"
   ]
  },
  {
   "cell_type": "markdown",
   "metadata": {},
   "source": [
    "At first one may argue that this will only work for two dimensions,\n",
    "but if you remember the ideas of *group by* and *pivot* we can see that\n",
    "we can represent several dimensions in a two dimensional table."
   ]
  },
  {
   "cell_type": "markdown",
   "metadata": {},
   "source": [
    "## Hyperparameters\n",
    "\n",
    "What the heck are those *hyperparameters*?\n",
    "These are simply free parameters that interfere in the inner workings of the algorithm.\n",
    "By *free* we mean that the algorithm works independently of what we set these parameters to.\n",
    "Yet, the values we give influence how well the resulting model performs against a specific dataset.\n",
    "\n",
    "Therefore yes, the entire practice of machine learning is about finding the right model\n",
    "and the right model hyperparameters.  This could not be harder though, the combination of\n",
    "several free parameters goes into millions or thousands of millions for some models.\n",
    "\n",
    "As a simple example let's implement $k$ nearest neighbors,\n",
    "a model that has a single hyperparameter ($k$).\n",
    "The training (`fit`) of a $k$ nearest neighbors algorithm is trivial:\n",
    "the training just saves the training data so we can refer to it during prediction.\n",
    "This is a wasteful use of memory,\n",
    "and more advanced algorithms will be able to store specific measures about\n",
    "the data - which are fewer - instead of the entire training data.\n",
    "But for our purposes we argue that our trained model\n",
    "is a $k$ nearest neighbors object which know its value of $k$,\n",
    "from the constructor, and its training data, from the `fit` method.\n",
    "\n",
    "We pass the hyperparameter as an argument to the constructor,\n",
    "then we pass the training data to a `fit` method,\n",
    "and we pass the new data to a `predict` method.\n",
    "We also leave the hyperparameter and parameters (the training data)\n",
    "in attributes that end with an underscore: `k_`, `X_` and `y_`.\n",
    "There are all patterns of how a class representing an ML model\n",
    "behaves in `sklearn`."
   ]
  },
  {
   "cell_type": "code",
   "execution_count": 1,
   "metadata": {},
   "outputs": [],
   "source": [
    "import numpy as np\n",
    "\n",
    "\n",
    "class MyKNN(object):\n",
    "    def __init__(self, k=1):\n",
    "        self.k_ = k\n",
    "\n",
    "    def fit(self, X, y):\n",
    "        self.X_ = X\n",
    "        self.y_ = y\n",
    "\n",
    "    def predict(self, new_X):\n",
    "        sq_dist_dim = (self.X_[:, np.newaxis, :] - new_X[np.newaxis, :, :])**2\n",
    "        sq_dist = sq_dist_dim.sum(axis=-1)\n",
    "        self.nearest_ = np.argpartition(sq_dist, self.k_, axis=0)\n",
    "        new_y = self.y_[self.nearest_[:self.k_, :]]\n",
    "        new_y = np.apply_along_axis(lambda x: np.bincount(x, minlength=2), axis=0, arr=new_y)\n",
    "        return new_y.argmax(axis=0)"
   ]
  },
  {
   "cell_type": "markdown",
   "metadata": {},
   "source": [
    "![kNN Distances](skl-knn-2d.svg)\n",
    "\n",
    "<div style=\"text-align:right;\"><sup>skl-knn-2d.svg</sup></div>"
   ]
  },
  {
   "cell_type": "markdown",
   "metadata": {},
   "source": [
    "The prediction phase is where the work happens.\n",
    "We perform a series of broadcast operations:\n",
    "first we make the stored training data and the new data to be predicted\n",
    "into three dimensional cubes.\n",
    "But we perform this in a careful way so that when they broadcast\n",
    "over their difference each point of the training data has its\n",
    "difference taken against every point in the new provided data.\n",
    "This difference happens according to each coordinate of all points,\n",
    "and the end result is a cube with the difference between\n",
    "each coordinate as a full matrix of points.\n",
    "We then square the differences and sum across the coordinates\n",
    "to achieve the euclidean distance between all points.\n",
    "Note that we use only two dimensions in our implementation,\n",
    "we could use more dimensions but would require some more\n",
    "complex code to control the projections.\n",
    "\n",
    "The heavy lifting in our model happen during `argpartition`,\n",
    "which sorts the points according to their distances from each point stored in the class.\n",
    "Here we finally need the value of $k$.\n",
    "Sorting is an expensive operation,\n",
    "if one can sort less values the code performs faster.\n",
    "If you remember that is what the `partition` procedure does,\n",
    "it sorts up to a number of elements\n",
    "(e.g. sorts the smaller first $3$ elements in a list,\n",
    "once we have the $3$ smallest values in the list and\n",
    "these are in the correct positions at the front\n",
    "the sorting algorithm ceases and the rest of the list is not sorted).\n",
    "Here we use `partition` to find the $k$ closest points in the\n",
    "training data from each point in the new data.\n",
    "Moreover, we use `argpartition` to get the index of these\n",
    "points instead of the points themselves.\n",
    "\n",
    "With the index of the closest $k$ points we index\n",
    "the solutions - classes, labels - of the training data.\n",
    "Then we just bundle together the classes of all close points with `bincount`.\n",
    "The `mincount=2` in `bincount` build an array of $2$ classes:\n",
    "class $0$ and class $1$, sand sums the occurrence of each\n",
    "in the class values of the $k$ neighbors.\n",
    "Finally, since the number of neighbors of class $0$ is at index $0$\n",
    "and the number of neighbors of class $1$ is at index $1$,\n",
    "`argmax` returns us the most common class among the neighbors of the point."
   ]
  },
  {
   "cell_type": "markdown",
   "metadata": {},
   "source": [
    "Our implementation is imperfect,\n",
    "in case of a tie the algorithm prefers the class with the lowest index - class $0$.\n",
    "This is irrelevant if we use our algorithm as a binary classifier and with an odd $k$.\n",
    "But there are more complications: we can only deal with points in $2$\n",
    "dimensions and can only classify $2$ classes.\n",
    "A full implementation will need to deal with the ties.\n",
    "It is an interesting challenge to improve our $k$ nearest neighbors\n",
    "implementation to deal with at least these limitations."
   ]
  }
 ],
 "metadata": {
  "anaconda-cloud": {},
  "kernelspec": {
   "display_name": ".venv",
   "language": "python",
   "name": "python3"
  },
  "language_info": {
   "codemirror_mode": {
    "name": "ipython",
    "version": 3
   },
   "file_extension": ".py",
   "mimetype": "text/x-python",
   "name": "python",
   "nbconvert_exporter": "python",
   "pygments_lexer": "ipython3",
   "version": "3.11.12"
  }
 },
 "nbformat": 4,
 "nbformat_minor": 4
}
